{
  "nbformat": 4,
  "nbformat_minor": 0,
  "metadata": {
    "colab": {
      "name": "Anomaly Detection Tutorial .ipynb",
      "provenance": []
    },
    "kernelspec": {
      "name": "python3",
      "display_name": "Python 3"
    },
    "language_info": {
      "name": "python"
    },
    "widgets": {
      "application/vnd.jupyter.widget-state+json": {
        "b1b3e3a838a64c1f8adad5afc1f68f51": {
          "model_module": "@jupyter-widgets/controls",
          "model_name": "IntProgressModel",
          "model_module_version": "1.5.0",
          "state": {
            "_view_name": "ProgressView",
            "style": "IPY_MODEL_a7341db3afa446e8a06b679e4826a1bd",
            "_dom_classes": [],
            "description": "Processing: ",
            "_model_name": "IntProgressModel",
            "bar_style": "",
            "max": 3,
            "_view_module": "@jupyter-widgets/controls",
            "_model_module_version": "1.5.0",
            "value": 3,
            "_view_count": null,
            "_view_module_version": "1.5.0",
            "orientation": "horizontal",
            "min": 0,
            "description_tooltip": null,
            "_model_module": "@jupyter-widgets/controls",
            "layout": "IPY_MODEL_f17984da3e5f4941a7dfbf695ac32ea4"
          }
        },
        "a7341db3afa446e8a06b679e4826a1bd": {
          "model_module": "@jupyter-widgets/controls",
          "model_name": "ProgressStyleModel",
          "model_module_version": "1.5.0",
          "state": {
            "_view_name": "StyleView",
            "_model_name": "ProgressStyleModel",
            "description_width": "",
            "_view_module": "@jupyter-widgets/base",
            "_model_module_version": "1.5.0",
            "_view_count": null,
            "_view_module_version": "1.2.0",
            "bar_color": null,
            "_model_module": "@jupyter-widgets/controls"
          }
        },
        "f17984da3e5f4941a7dfbf695ac32ea4": {
          "model_module": "@jupyter-widgets/base",
          "model_name": "LayoutModel",
          "model_module_version": "1.2.0",
          "state": {
            "_view_name": "LayoutView",
            "grid_template_rows": null,
            "right": null,
            "justify_content": null,
            "_view_module": "@jupyter-widgets/base",
            "overflow": null,
            "_model_module_version": "1.2.0",
            "_view_count": null,
            "flex_flow": null,
            "width": null,
            "min_width": null,
            "border": null,
            "align_items": null,
            "bottom": null,
            "_model_module": "@jupyter-widgets/base",
            "top": null,
            "grid_column": null,
            "overflow_y": null,
            "overflow_x": null,
            "grid_auto_flow": null,
            "grid_area": null,
            "grid_template_columns": null,
            "flex": null,
            "_model_name": "LayoutModel",
            "justify_items": null,
            "grid_row": null,
            "max_height": null,
            "align_content": null,
            "visibility": null,
            "align_self": null,
            "height": null,
            "min_height": null,
            "padding": null,
            "grid_auto_rows": null,
            "grid_gap": null,
            "max_width": null,
            "order": null,
            "_view_module_version": "1.2.0",
            "grid_template_areas": null,
            "object_position": null,
            "object_fit": null,
            "grid_auto_columns": null,
            "margin": null,
            "display": null,
            "left": null
          }
        },
        "63be6fb8d9ff417dbcfd4e544a131eca": {
          "model_module": "@jupyter-widgets/controls",
          "model_name": "TextModel",
          "model_module_version": "1.5.0",
          "state": {
            "_view_name": "TextView",
            "style": "IPY_MODEL_b520cfccec2e4288a73f66fed0613615",
            "_dom_classes": [],
            "description": "",
            "_model_name": "TextModel",
            "placeholder": "​",
            "_view_module": "@jupyter-widgets/controls",
            "_model_module_version": "1.5.0",
            "value": "Following data types have been inferred automatically, if they are correct press enter to continue or type 'quit' otherwise.",
            "_view_count": null,
            "disabled": false,
            "_view_module_version": "1.5.0",
            "continuous_update": true,
            "description_tooltip": null,
            "_model_module": "@jupyter-widgets/controls",
            "layout": "IPY_MODEL_4af51b2ea84042699bfe7257e7a28652"
          }
        },
        "b520cfccec2e4288a73f66fed0613615": {
          "model_module": "@jupyter-widgets/controls",
          "model_name": "DescriptionStyleModel",
          "model_module_version": "1.5.0",
          "state": {
            "_view_name": "StyleView",
            "_model_name": "DescriptionStyleModel",
            "description_width": "",
            "_view_module": "@jupyter-widgets/base",
            "_model_module_version": "1.5.0",
            "_view_count": null,
            "_view_module_version": "1.2.0",
            "_model_module": "@jupyter-widgets/controls"
          }
        },
        "4af51b2ea84042699bfe7257e7a28652": {
          "model_module": "@jupyter-widgets/base",
          "model_name": "LayoutModel",
          "model_module_version": "1.2.0",
          "state": {
            "_view_name": "LayoutView",
            "grid_template_rows": null,
            "right": null,
            "justify_content": null,
            "_view_module": "@jupyter-widgets/base",
            "overflow": null,
            "_model_module_version": "1.2.0",
            "_view_count": null,
            "flex_flow": null,
            "width": "100%",
            "min_width": null,
            "border": null,
            "align_items": null,
            "bottom": null,
            "_model_module": "@jupyter-widgets/base",
            "top": null,
            "grid_column": null,
            "overflow_y": null,
            "overflow_x": null,
            "grid_auto_flow": null,
            "grid_area": null,
            "grid_template_columns": null,
            "flex": null,
            "_model_name": "LayoutModel",
            "justify_items": null,
            "grid_row": null,
            "max_height": null,
            "align_content": null,
            "visibility": null,
            "align_self": null,
            "height": null,
            "min_height": null,
            "padding": null,
            "grid_auto_rows": null,
            "grid_gap": null,
            "max_width": null,
            "order": null,
            "_view_module_version": "1.2.0",
            "grid_template_areas": null,
            "object_position": null,
            "object_fit": null,
            "grid_auto_columns": null,
            "margin": null,
            "display": null,
            "left": null
          }
        },
        "b582da95fe23493c964a4c1ba9a859ad": {
          "model_module": "@jupyter-widgets/controls",
          "model_name": "IntProgressModel",
          "model_module_version": "1.5.0",
          "state": {
            "_view_name": "ProgressView",
            "style": "IPY_MODEL_eebc2f2a706f4375ae242804ac5759cf",
            "_dom_classes": [],
            "description": "Processing: ",
            "_model_name": "IntProgressModel",
            "bar_style": "",
            "max": 3,
            "_view_module": "@jupyter-widgets/controls",
            "_model_module_version": "1.5.0",
            "value": 3,
            "_view_count": null,
            "_view_module_version": "1.5.0",
            "orientation": "horizontal",
            "min": 0,
            "description_tooltip": null,
            "_model_module": "@jupyter-widgets/controls",
            "layout": "IPY_MODEL_ac352f7f081c4564a8a1338cb3a2d6ab"
          }
        },
        "eebc2f2a706f4375ae242804ac5759cf": {
          "model_module": "@jupyter-widgets/controls",
          "model_name": "ProgressStyleModel",
          "model_module_version": "1.5.0",
          "state": {
            "_view_name": "StyleView",
            "_model_name": "ProgressStyleModel",
            "description_width": "",
            "_view_module": "@jupyter-widgets/base",
            "_model_module_version": "1.5.0",
            "_view_count": null,
            "_view_module_version": "1.2.0",
            "bar_color": null,
            "_model_module": "@jupyter-widgets/controls"
          }
        },
        "ac352f7f081c4564a8a1338cb3a2d6ab": {
          "model_module": "@jupyter-widgets/base",
          "model_name": "LayoutModel",
          "model_module_version": "1.2.0",
          "state": {
            "_view_name": "LayoutView",
            "grid_template_rows": null,
            "right": null,
            "justify_content": null,
            "_view_module": "@jupyter-widgets/base",
            "overflow": null,
            "_model_module_version": "1.2.0",
            "_view_count": null,
            "flex_flow": null,
            "width": null,
            "min_width": null,
            "border": null,
            "align_items": null,
            "bottom": null,
            "_model_module": "@jupyter-widgets/base",
            "top": null,
            "grid_column": null,
            "overflow_y": null,
            "overflow_x": null,
            "grid_auto_flow": null,
            "grid_area": null,
            "grid_template_columns": null,
            "flex": null,
            "_model_name": "LayoutModel",
            "justify_items": null,
            "grid_row": null,
            "max_height": null,
            "align_content": null,
            "visibility": null,
            "align_self": null,
            "height": null,
            "min_height": null,
            "padding": null,
            "grid_auto_rows": null,
            "grid_gap": null,
            "max_width": null,
            "order": null,
            "_view_module_version": "1.2.0",
            "grid_template_areas": null,
            "object_position": null,
            "object_fit": null,
            "grid_auto_columns": null,
            "margin": null,
            "display": null,
            "left": null
          }
        },
        "d376865da9514ceb812d4d00680cae74": {
          "model_module": "@jupyter-widgets/controls",
          "model_name": "IntProgressModel",
          "model_module_version": "1.5.0",
          "state": {
            "_view_name": "ProgressView",
            "style": "IPY_MODEL_528d209114284850b9ed3c7a8727d4ff",
            "_dom_classes": [],
            "description": "Processing: ",
            "_model_name": "IntProgressModel",
            "bar_style": "",
            "max": 5,
            "_view_module": "@jupyter-widgets/controls",
            "_model_module_version": "1.5.0",
            "value": 3,
            "_view_count": null,
            "_view_module_version": "1.5.0",
            "orientation": "horizontal",
            "min": 0,
            "description_tooltip": null,
            "_model_module": "@jupyter-widgets/controls",
            "layout": "IPY_MODEL_8f288508867943c3b51117604656a932"
          }
        },
        "528d209114284850b9ed3c7a8727d4ff": {
          "model_module": "@jupyter-widgets/controls",
          "model_name": "ProgressStyleModel",
          "model_module_version": "1.5.0",
          "state": {
            "_view_name": "StyleView",
            "_model_name": "ProgressStyleModel",
            "description_width": "",
            "_view_module": "@jupyter-widgets/base",
            "_model_module_version": "1.5.0",
            "_view_count": null,
            "_view_module_version": "1.2.0",
            "bar_color": null,
            "_model_module": "@jupyter-widgets/controls"
          }
        },
        "8f288508867943c3b51117604656a932": {
          "model_module": "@jupyter-widgets/base",
          "model_name": "LayoutModel",
          "model_module_version": "1.2.0",
          "state": {
            "_view_name": "LayoutView",
            "grid_template_rows": null,
            "right": null,
            "justify_content": null,
            "_view_module": "@jupyter-widgets/base",
            "overflow": null,
            "_model_module_version": "1.2.0",
            "_view_count": null,
            "flex_flow": null,
            "width": null,
            "min_width": null,
            "border": null,
            "align_items": null,
            "bottom": null,
            "_model_module": "@jupyter-widgets/base",
            "top": null,
            "grid_column": null,
            "overflow_y": null,
            "overflow_x": null,
            "grid_auto_flow": null,
            "grid_area": null,
            "grid_template_columns": null,
            "flex": null,
            "_model_name": "LayoutModel",
            "justify_items": null,
            "grid_row": null,
            "max_height": null,
            "align_content": null,
            "visibility": null,
            "align_self": null,
            "height": null,
            "min_height": null,
            "padding": null,
            "grid_auto_rows": null,
            "grid_gap": null,
            "max_width": null,
            "order": null,
            "_view_module_version": "1.2.0",
            "grid_template_areas": null,
            "object_position": null,
            "object_fit": null,
            "grid_auto_columns": null,
            "margin": null,
            "display": null,
            "left": null
          }
        },
        "8365f322a9014ecaae55413be5188f22": {
          "model_module": "@jupyter-widgets/controls",
          "model_name": "IntProgressModel",
          "model_module_version": "1.5.0",
          "state": {
            "_view_name": "ProgressView",
            "style": "IPY_MODEL_4c9277580ae745bcacb2aac3ec3c7edc",
            "_dom_classes": [],
            "description": "Processing: ",
            "_model_name": "IntProgressModel",
            "bar_style": "",
            "max": 3,
            "_view_module": "@jupyter-widgets/controls",
            "_model_module_version": "1.5.0",
            "value": 3,
            "_view_count": null,
            "_view_module_version": "1.5.0",
            "orientation": "horizontal",
            "min": 0,
            "description_tooltip": null,
            "_model_module": "@jupyter-widgets/controls",
            "layout": "IPY_MODEL_cc4e167d155f424ca83dadcbd7db10b8"
          }
        },
        "26f7beb6576d46bc8e760c8a8af902ac": {
          "model_module": "@jupyter-widgets/controls",
          "model_name": "IntProgressModel",
          "model_module_version": "1.5.0",
          "state": {
            "_view_name": "ProgressView",
            "style": "IPY_MODEL_1287965a8867468c867a0c55b0142df3",
            "_dom_classes": [],
            "description": "Processing: ",
            "_model_name": "IntProgressModel",
            "bar_style": "",
            "max": 5,
            "_view_module": "@jupyter-widgets/controls",
            "_model_module_version": "1.5.0",
            "value": 3,
            "_view_count": null,
            "_view_module_version": "1.5.0",
            "orientation": "horizontal",
            "min": 0,
            "description_tooltip": null,
            "_model_module": "@jupyter-widgets/controls",
            "layout": "IPY_MODEL_021a20051a5044dc92c72fe4bcbdf728"
          }
        },
        "1287965a8867468c867a0c55b0142df3": {
          "model_module": "@jupyter-widgets/controls",
          "model_name": "ProgressStyleModel",
          "model_module_version": "1.5.0",
          "state": {
            "_view_name": "StyleView",
            "_model_name": "ProgressStyleModel",
            "description_width": "",
            "_view_module": "@jupyter-widgets/base",
            "_model_module_version": "1.5.0",
            "_view_count": null,
            "_view_module_version": "1.2.0",
            "bar_color": null,
            "_model_module": "@jupyter-widgets/controls"
          }
        },
        "021a20051a5044dc92c72fe4bcbdf728": {
          "model_module": "@jupyter-widgets/base",
          "model_name": "LayoutModel",
          "model_module_version": "1.2.0",
          "state": {
            "_view_name": "LayoutView",
            "grid_template_rows": null,
            "right": null,
            "justify_content": null,
            "_view_module": "@jupyter-widgets/base",
            "overflow": null,
            "_model_module_version": "1.2.0",
            "_view_count": null,
            "flex_flow": null,
            "width": null,
            "min_width": null,
            "border": null,
            "align_items": null,
            "bottom": null,
            "_model_module": "@jupyter-widgets/base",
            "top": null,
            "grid_column": null,
            "overflow_y": null,
            "overflow_x": null,
            "grid_auto_flow": null,
            "grid_area": null,
            "grid_template_columns": null,
            "flex": null,
            "_model_name": "LayoutModel",
            "justify_items": null,
            "grid_row": null,
            "max_height": null,
            "align_content": null,
            "visibility": null,
            "align_self": null,
            "height": null,
            "min_height": null,
            "padding": null,
            "grid_auto_rows": null,
            "grid_gap": null,
            "max_width": null,
            "order": null,
            "_view_module_version": "1.2.0",
            "grid_template_areas": null,
            "object_position": null,
            "object_fit": null,
            "grid_auto_columns": null,
            "margin": null,
            "display": null,
            "left": null
          }
        }
      }
    }
  },
  "cells": [
    {
      "cell_type": "markdown",
      "metadata": {
        "id": "XsX7hOPlCug_"
      },
      "source": [
        "# Anomalies , Outliers Introduction to detection and Automation\n"
      ]
    },
    {
      "cell_type": "markdown",
      "metadata": {
        "id": "bPvZLkrQK0w5"
      },
      "source": [
        "## Introduction\n",
        " process of identifying unexpected items or events in data sets, which differ from the norm. And anomaly detection is often applied on unlabeled data which is known as unsupervised anomaly detection. Anomaly detection has two basic assumptions:\n",
        "- Anomalies only occur very rarely in the data.\n",
        "- Their features differ from the normal instances significantly\n",
        "### Simply Anomalies are nothing other than the outliers in the data.\n"
      ]
    },
    {
      "cell_type": "markdown",
      "metadata": {
        "id": "usojIblWDdLv"
      },
      "source": [
        "# Why do we need to Detect anomalies (Outliers)?\n",
        "- Outliers can impact the results of our analysis and statistical modeling in a drastic way\n",
        "- Anomaly detection algorithms in health care can point to health issues of patients and in the financial world, they can flag frauds.\n",
        "## But here’s the caveat – outliers aren’t always a bad thing.\n",
        "These are just observations that are not following the same pattern as the other ones. But it can be the case that an outlier is very interesting. For example, if in a biological experiment, a rat is not dead whereas all others are, then it would be very interesting to understand why. This could lead to new scientific discoveries.  So, it is important to detect outliers.”"
      ]
    },
    {
      "cell_type": "markdown",
      "metadata": {
        "id": "epu9gAAJBWMa"
      },
      "source": [
        "# what are the types of anomalies ?\n",
        "- Point Anomaly: A tuple in a dataset is said to be a Point Anomaly if it is far off from the rest of the data.\n",
        "- Contextual Anomaly: An observation is a Contextual Anomaly if it is an anomaly because of the context of the observation.\n",
        "- Collective Anomaly: A set of data instances help in finding an anomaly. "
      ]
    },
    {
      "cell_type": "markdown",
      "metadata": {
        "id": "On5DVMXmMCls"
      },
      "source": [
        " ## What are the methods used for detecting anomalies?\n",
        "1. Using data visualization(like making use of boxplots, violin plots…etc)\n",
        "\n",
        "2. Using Statistical methods like Quantile methods(IQR, Q1, Q3), Finding Minimum, Maximum, and median of the data, Z-score, etc.\n",
        "\n",
        "3. ML algorithms \n",
        " - Supervised Anomaly Detection: This method requires a labeled dataset containing both normal and anomalous samples to construct a predictive model to classify future data points. The most commonly used algorithms for this purpose are supervised Neural Networks, Support Vector Machine learning, K-Nearest Neighbors Classifier, etc.\n",
        " - Unsupervised Anomaly Detection: This method does require any training data and instead assumes two things about the data ie Only a small percentage of data is anomalous and Any anomaly is statistically different from the normal samples. Based on the above assumptions, the data is then clustered using a similarity measure and the data points which are far off from the cluster are considered to be anomalies."
      ]
    },
    {
      "cell_type": "markdown",
      "metadata": {
        "id": "UXT80vAyMTsv"
      },
      "source": [
        "## Why ML algorithms are the most important anmolie detector ?\n",
        "Our tendency is to use straightforward methods like box plots, histograms and scatter-plots to detect outliers. But dedicated outlier detection algorithms are extremely valuable in fields which process large amounts of data and require a means to perform pattern recognition in larger datasets.\n",
        "\n",
        "Applications like fraud detection in finance and intrusion detection in network security require intensive and accurate techniques to detect outliers. "
      ]
    },
    {
      "cell_type": "markdown",
      "metadata": {
        "id": "yPqVIiOeLiXp"
      },
      "source": [
        "### PyOD library\n",
        "PyOD is a scalable Python toolkit for detecting outliers in multivariate data. It provides access to around 20 outlier detection algorithms under a single well-documented API.\n",
        "\n"
      ]
    },
    {
      "cell_type": "markdown",
      "metadata": {
        "id": "oBAPtAV2LYP_"
      },
      "source": [
        "In this tutorial we will foucous on 2 algorthims only\n",
        "\n",
        " 1- Isolation forest\n",
        "\n",
        " 2- K Nearest Neighbors (KNN)"
      ]
    },
    {
      "cell_type": "markdown",
      "metadata": {
        "id": "7d_F-Sb8Le-W"
      },
      "source": [
        ""
      ]
    },
    {
      "cell_type": "code",
      "metadata": {
        "id": "hpwRA3xrB0lb"
      },
      "source": [
        "import numpy as np\n",
        "import pandas as pd\n",
        "import seaborn as sns\n",
        "import matplotlib.pyplot as plt\n",
        "\n"
      ],
      "execution_count": 19,
      "outputs": []
    },
    {
      "cell_type": "code",
      "metadata": {
        "id": "_KFaR9hdCtM_"
      },
      "source": [
        ""
      ],
      "execution_count": 19,
      "outputs": []
    },
    {
      "cell_type": "code",
      "metadata": {
        "colab": {
          "base_uri": "https://localhost:8080/",
          "height": 204
        },
        "id": "QJrCsTnxB5_I",
        "outputId": "9ebacad9-dead-44e3-8015-f2882205fa5c"
      },
      "source": [
        "url = 'https://raw.githubusercontent.com/mesmalif/Practical_Machine_learning/develop_practical_ML/isolation_forest/data_set_A.csv'\n",
        "df = pd.read_csv(url)\n",
        "df.head()"
      ],
      "execution_count": 20,
      "outputs": [
        {
          "output_type": "execute_result",
          "data": {
            "text/html": [
              "<div>\n",
              "<style scoped>\n",
              "    .dataframe tbody tr th:only-of-type {\n",
              "        vertical-align: middle;\n",
              "    }\n",
              "\n",
              "    .dataframe tbody tr th {\n",
              "        vertical-align: top;\n",
              "    }\n",
              "\n",
              "    .dataframe thead th {\n",
              "        text-align: right;\n",
              "    }\n",
              "</style>\n",
              "<table border=\"1\" class=\"dataframe\">\n",
              "  <thead>\n",
              "    <tr style=\"text-align: right;\">\n",
              "      <th></th>\n",
              "      <th>0</th>\n",
              "      <th>1</th>\n",
              "    </tr>\n",
              "  </thead>\n",
              "  <tbody>\n",
              "    <tr>\n",
              "      <th>0</th>\n",
              "      <td>-1.534076</td>\n",
              "      <td>5.169982</td>\n",
              "    </tr>\n",
              "    <tr>\n",
              "      <th>1</th>\n",
              "      <td>1.452231</td>\n",
              "      <td>2.699340</td>\n",
              "    </tr>\n",
              "    <tr>\n",
              "      <th>2</th>\n",
              "      <td>0.861024</td>\n",
              "      <td>2.281911</td>\n",
              "    </tr>\n",
              "    <tr>\n",
              "      <th>3</th>\n",
              "      <td>1.546562</td>\n",
              "      <td>1.711730</td>\n",
              "    </tr>\n",
              "    <tr>\n",
              "      <th>4</th>\n",
              "      <td>3.088828</td>\n",
              "      <td>0.481944</td>\n",
              "    </tr>\n",
              "  </tbody>\n",
              "</table>\n",
              "</div>"
            ],
            "text/plain": [
              "          0         1\n",
              "0 -1.534076  5.169982\n",
              "1  1.452231  2.699340\n",
              "2  0.861024  2.281911\n",
              "3  1.546562  1.711730\n",
              "4  3.088828  0.481944"
            ]
          },
          "metadata": {},
          "execution_count": 20
        }
      ]
    },
    {
      "cell_type": "markdown",
      "metadata": {
        "id": "DH7WZPtbPX8o"
      },
      "source": [
        "## 1- Using data visualization( use of boxplots, violin plots ) \n"
      ]
    },
    {
      "cell_type": "markdown",
      "metadata": {
        "id": "Dz66gqXrp-H1"
      },
      "source": [
        "Univariate Anomaly Detection\n",
        "\n"
      ]
    },
    {
      "cell_type": "code",
      "metadata": {
        "colab": {
          "base_uri": "https://localhost:8080/",
          "height": 348
        },
        "id": "9Fe5QNjhHxWg",
        "outputId": "2f6b2c32-f62e-4edb-a6ab-02dcfaa67186"
      },
      "source": [
        "plt.boxplot(df['0']);\n"
      ],
      "execution_count": 21,
      "outputs": [
        {
          "output_type": "display_data",
          "data": {
            "image/png": "[encoded data removed]",
            "text/plain": [
              "<Figure size 576x396 with 1 Axes>"
            ]
          },
          "metadata": {}
        }
      ]
    },
    {
      "cell_type": "code",
      "metadata": {
        "colab": {
          "base_uri": "https://localhost:8080/",
          "height": 347
        },
        "id": "1PxzimmXObXY",
        "outputId": "95fe5734-ce8b-456d-e5ca-cf77ba70e96c"
      },
      "source": [
        "plt.boxplot(df['1']);\n"
      ],
      "execution_count": 22,
      "outputs": [
        {
          "output_type": "display_data",
          "data": {
            "image/png": "[encoded data removed]",
            "text/plain": [
              "<Figure size 576x396 with 1 Axes>"
            ]
          },
          "metadata": {}
        }
      ]
    },
    {
      "cell_type": "code",
      "metadata": {
        "colab": {
          "base_uri": "https://localhost:8080/",
          "height": 378
        },
        "id": "BQW6TXBzOKZC",
        "outputId": "a52e9774-3375-4b42-c221-f8bbef6b013f"
      },
      "source": [
        "sns.violinplot(x=df['0'] , inner='box')"
      ],
      "execution_count": 23,
      "outputs": [
        {
          "output_type": "execute_result",
          "data": {
            "text/plain": [
              "<matplotlib.axes._subplots.AxesSubplot at 0x7f9fc8029410>"
            ]
          },
          "metadata": {},
          "execution_count": 23
        },
        {
          "output_type": "display_data",
          "data": {
            "image/png": "[encoded data removed]",
            "text/plain": [
              "<Figure size 576x396 with 1 Axes>"
            ]
          },
          "metadata": {}
        }
      ]
    },
    {
      "cell_type": "code",
      "metadata": {
        "colab": {
          "base_uri": "https://localhost:8080/",
          "height": 378
        },
        "id": "Ew78smvLPMvh",
        "outputId": "8524bfc9-90c5-4d82-97bb-374dc87853a4"
      },
      "source": [
        "sns.violinplot(x=df['1'] , inner='box')"
      ],
      "execution_count": 24,
      "outputs": [
        {
          "output_type": "execute_result",
          "data": {
            "text/plain": [
              "<matplotlib.axes._subplots.AxesSubplot at 0x7f9fc7f811d0>"
            ]
          },
          "metadata": {},
          "execution_count": 24
        },
        {
          "output_type": "display_data",
          "data": {
            "image/png": "[encoded data removed]",
            "text/plain": [
              "<Figure size 576x396 with 1 Axes>"
            ]
          },
          "metadata": {}
        }
      ]
    },
    {
      "cell_type": "markdown",
      "metadata": {
        "id": "mUK5FM7WpN6H"
      },
      "source": [
        "Multivriate Detection \n",
        "\n",
        "When we are in business, we expect some variables for examble Sales & Profit are positive correlated. If some of the Sales data points and Profit data points are not positive correlated, they would be considered as outliers and need to be further investigated.\n"
      ]
    },
    {
      "cell_type": "code",
      "metadata": {
        "colab": {
          "base_uri": "https://localhost:8080/",
          "height": 361
        },
        "id": "OHr1HuQspD9R",
        "outputId": "87fc9dec-3cde-40ca-8830-dd2b7efb7da3"
      },
      "source": [
        "\n",
        "sns.regplot(x=\"0\", y=\"1\", data=df)\n",
        "sns.despine();"
      ],
      "execution_count": 25,
      "outputs": [
        {
          "output_type": "display_data",
          "data": {
            "image/png": "[encoded data removed]",
            "text/plain": [
              "<Figure size 576x396 with 1 Axes>"
            ]
          },
          "metadata": {}
        }
      ]
    },
    {
      "cell_type": "markdown",
      "metadata": {
        "id": "kLb4fsfhPTfn"
      },
      "source": [
        "## 2 - Using Statistical methods like Quantile methods(IQR, Q1, Q3)"
      ]
    },
    {
      "cell_type": "code",
      "metadata": {
        "colab": {
          "base_uri": "https://localhost:8080/",
          "height": 297
        },
        "id": "sUTBj8I4PS1_",
        "outputId": "261f6e6e-9795-4c7f-b965-3f9bbf9f4725"
      },
      "source": [
        "df.describe()"
      ],
      "execution_count": 26,
      "outputs": [
        {
          "output_type": "execute_result",
          "data": {
            "text/html": [
              "<div>\n",
              "<style scoped>\n",
              "    .dataframe tbody tr th:only-of-type {\n",
              "        vertical-align: middle;\n",
              "    }\n",
              "\n",
              "    .dataframe tbody tr th {\n",
              "        vertical-align: top;\n",
              "    }\n",
              "\n",
              "    .dataframe thead th {\n",
              "        text-align: right;\n",
              "    }\n",
              "</style>\n",
              "<table border=\"1\" class=\"dataframe\">\n",
              "  <thead>\n",
              "    <tr style=\"text-align: right;\">\n",
              "      <th></th>\n",
              "      <th>0</th>\n",
              "      <th>1</th>\n",
              "    </tr>\n",
              "  </thead>\n",
              "  <tbody>\n",
              "    <tr>\n",
              "      <th>count</th>\n",
              "      <td>250.000000</td>\n",
              "      <td>250.000000</td>\n",
              "    </tr>\n",
              "    <tr>\n",
              "      <th>mean</th>\n",
              "      <td>0.126630</td>\n",
              "      <td>2.957091</td>\n",
              "    </tr>\n",
              "    <tr>\n",
              "      <th>std</th>\n",
              "      <td>2.704501</td>\n",
              "      <td>2.463476</td>\n",
              "    </tr>\n",
              "    <tr>\n",
              "      <th>min</th>\n",
              "      <td>-5.888766</td>\n",
              "      <td>-5.409809</td>\n",
              "    </tr>\n",
              "    <tr>\n",
              "      <th>25%</th>\n",
              "      <td>-2.067694</td>\n",
              "      <td>1.394351</td>\n",
              "    </tr>\n",
              "    <tr>\n",
              "      <th>50%</th>\n",
              "      <td>0.413196</td>\n",
              "      <td>2.810804</td>\n",
              "    </tr>\n",
              "    <tr>\n",
              "      <th>75%</th>\n",
              "      <td>1.705562</td>\n",
              "      <td>4.977583</td>\n",
              "    </tr>\n",
              "    <tr>\n",
              "      <th>max</th>\n",
              "      <td>9.399157</td>\n",
              "      <td>9.548513</td>\n",
              "    </tr>\n",
              "  </tbody>\n",
              "</table>\n",
              "</div>"
            ],
            "text/plain": [
              "                0           1\n",
              "count  250.000000  250.000000\n",
              "mean     0.126630    2.957091\n",
              "std      2.704501    2.463476\n",
              "min     -5.888766   -5.409809\n",
              "25%     -2.067694    1.394351\n",
              "50%      0.413196    2.810804\n",
              "75%      1.705562    4.977583\n",
              "max      9.399157    9.548513"
            ]
          },
          "metadata": {},
          "execution_count": 26
        }
      ]
    },
    {
      "cell_type": "markdown",
      "metadata": {
        "id": "fPECg4gQU_Q4"
      },
      "source": [
        ""
      ]
    },
    {
      "cell_type": "code",
      "metadata": {
        "id": "uPbhimJZVXPY"
      },
      "source": [
        "from scipy import stats\n",
        "X=df.values\n",
        "x1= df['0'].values\n",
        "x2 = df['1'].values\n",
        "IQR_x1 = stats.iqr(x1, interpolation = 'midpoint')\n",
        "IQR_x2= stats.iqr(x2, interpolation = 'midpoint')"
      ],
      "execution_count": 36,
      "outputs": []
    },
    {
      "cell_type": "code",
      "metadata": {
        "colab": {
          "base_uri": "https://localhost:8080/"
        },
        "id": "xC0L_z4QVd9x",
        "outputId": "37286647-d816-4a90-f73d-160bee216bd1"
      },
      "source": [
        "#calcuting low and upper limit for first feature \n",
        "Q1_x1 = np.percentile(x1, 25, interpolation = 'midpoint') \n",
        "Q2_x1 = np.percentile(x1, 50, interpolation = 'midpoint') \n",
        "Q3_x1 = np.percentile(x1, 75, interpolation = 'midpoint') \n",
        "low_lim_x1 = Q1_x1 - (1.5 * IQR_x1)\n",
        "up_lim_x1 = Q3_x1 + (1.5 * IQR_x1)\n",
        "print('low_limit is', low_lim_x1)\n",
        "print('up_limit is', up_lim_x1)\n"
      ],
      "execution_count": 66,
      "outputs": [
        {
          "output_type": "stream",
          "name": "stdout",
          "text": [
            "low_limit is -7.722067493672604\n",
            "up_limit is 7.357011649223168\n"
          ]
        }
      ]
    },
    {
      "cell_type": "code",
      "metadata": {
        "id": "vdWd9MGYwdk3"
      },
      "source": [
        ""
      ],
      "execution_count": 41,
      "outputs": []
    },
    {
      "cell_type": "code",
      "metadata": {
        "colab": {
          "base_uri": "https://localhost:8080/"
        },
        "id": "0JeQupNBbGDF",
        "outputId": "0cf1f31f-d779-46a5-bfe0-fd6f519ec36d"
      },
      "source": [
        "outlier_x1 = np.where((x1 <low_lim_x1)| (x1>up_lim_x1))\n",
        "outlier_x1"
      ],
      "execution_count": 68,
      "outputs": [
        {
          "output_type": "execute_result",
          "data": {
            "text/plain": [
              "(array([216, 220, 228, 232, 235, 243, 246]),)"
            ]
          },
          "metadata": {},
          "execution_count": 68
        }
      ]
    },
    {
      "cell_type": "code",
      "metadata": {
        "colab": {
          "base_uri": "https://localhost:8080/"
        },
        "id": "vJMZh4tebBM4",
        "outputId": "69648c1f-ac1f-4ee6-ef25-d48b2ca1d242"
      },
      "source": [
        "#calcuting low and upper limit for first feature \n",
        "Q1_x2 = np.percentile(x2, 25, interpolation = 'midpoint') \n",
        "Q2_x2 = np.percentile(x2, 50, interpolation = 'midpoint') \n",
        "Q3_x2 = np.percentile(x2, 75, interpolation = 'midpoint') \n",
        "low_lim_x2 = Q1_x2 - (1.5 * IQR_x2)\n",
        "up_lim_x2 = Q3_x2 + (1.5 * IQR_x2)\n",
        "print('low_limit is', low_lim_x2)\n",
        "print('up_limit is', up_lim_x2)"
      ],
      "execution_count": 67,
      "outputs": [
        {
          "output_type": "stream",
          "name": "stdout",
          "text": [
            "low_limit is -3.977808612073377\n",
            "up_limit is 10.34875538807195\n"
          ]
        }
      ]
    },
    {
      "cell_type": "code",
      "metadata": {
        "colab": {
          "base_uri": "https://localhost:8080/"
        },
        "id": "0PFeMZaeW1FQ",
        "outputId": "4ad884a2-ddc0-41c7-e015-d536ccc0c029"
      },
      "source": [
        "outlier_x2 = np.where((x2 <low_lim_x2 )| (x2>up_lim_x2))\n",
        "outlier_x2"
      ],
      "execution_count": 43,
      "outputs": [
        {
          "output_type": "execute_result",
          "data": {
            "text/plain": [
              "(array([214, 215, 217, 225, 230, 237, 248]),)"
            ]
          },
          "metadata": {},
          "execution_count": 43
        }
      ]
    },
    {
      "cell_type": "code",
      "metadata": {
        "colab": {
          "base_uri": "https://localhost:8080/",
          "height": 347
        },
        "id": "8Bl7nsIoWA7h",
        "outputId": "8b27e688-5ca9-4990-8639-4f680dec5141"
      },
      "source": [
        "plt.scatter(X[: , 0], X[ : , 1])\n",
        "plt.scatter(X[outlier_x1,0],X[outlier_x2 ,1] , color='r');\n",
        "#plt.scatter(outlier_x1 , outlier_x2)"
      ],
      "execution_count": 82,
      "outputs": [
        {
          "output_type": "display_data",
          "data": {
            "image/png": "[encoded data removed]",
            "text/plain": [
              "<Figure size 576x396 with 1 Axes>"
            ]
          },
          "metadata": {}
        }
      ]
    },
    {
      "cell_type": "markdown",
      "metadata": {
        "id": "73WuZvwHi5i_"
      },
      "source": [
        "## 1- Isolation forest:\n",
        "Is a tree based algorithm that tries to find how soon each point will be isolated if we grow the tree(s)"
      ]
    },
    {
      "cell_type": "markdown",
      "metadata": {
        "id": "8tKwwquFrzgf"
      },
      "source": [
        "Converting dataframe into array\n"
      ]
    },
    {
      "cell_type": "code",
      "metadata": {
        "colab": {
          "base_uri": "https://localhost:8080/",
          "height": 347
        },
        "id": "33TdmAyqC1S_",
        "outputId": "88777112-623a-4a18-aa69-16ccee75211a"
      },
      "source": [
        "X= df.values\n",
        "plt.scatter(X[: , 0] , X[:,1]);"
      ],
      "execution_count": 45,
      "outputs": [
        {
          "output_type": "display_data",
          "data": {
            "image/png": "[encoded data removed]",
            "text/plain": [
              "<Figure size 576x396 with 1 Axes>"
            ]
          },
          "metadata": {}
        }
      ]
    },
    {
      "cell_type": "markdown",
      "metadata": {
        "id": "Q5IrwOKHrvAJ"
      },
      "source": [
        "Model Training -IsolationForest"
      ]
    },
    {
      "cell_type": "code",
      "metadata": {
        "colab": {
          "base_uri": "https://localhost:8080/",
          "height": 35
        },
        "id": "GsG-wCSPDJa_",
        "outputId": "cf97d9c9-2b15-4b3a-fb1c-129540567bb5"
      },
      "source": [
        "from sklearn.ensemble import IsolationForest\n",
        "clf = IsolationForest()\n",
        "predictions = clf.fit_predict(X)\n",
        "clf.contamination"
      ],
      "execution_count": 46,
      "outputs": [
        {
          "output_type": "execute_result",
          "data": {
            "application/vnd.google.colaboratory.intrinsic+json": {
              "type": "string"
            },
            "text/plain": [
              "'auto'"
            ]
          },
          "metadata": {},
          "execution_count": 46
        }
      ]
    },
    {
      "cell_type": "markdown",
      "metadata": {
        "id": "UOUB9LGIi40n"
      },
      "source": [
        ""
      ]
    },
    {
      "cell_type": "code",
      "metadata": {
        "colab": {
          "base_uri": "https://localhost:8080/"
        },
        "id": "2-uGieiAlfCB",
        "outputId": "fc3328a8-3276-49c0-eddf-a29e5891990e"
      },
      "source": [
        "predictions"
      ],
      "execution_count": 48,
      "outputs": [
        {
          "output_type": "execute_result",
          "data": {
            "text/plain": [
              "array([ 1,  1,  1,  1,  1,  1,  1,  1,  1,  1,  1,  1,  1,  1,  1,  1,  1,\n",
              "        1,  1,  1,  1,  1,  1,  1,  1,  1,  1,  1,  1,  1,  1,  1,  1,  1,\n",
              "        1,  1,  1,  1,  1,  1,  1,  1,  1,  1,  1,  1,  1,  1,  1,  1,  1,\n",
              "        1,  1,  1,  1,  1,  1,  1,  1,  1,  1,  1,  1,  1,  1,  1,  1,  1,\n",
              "        1,  1,  1,  1,  1,  1,  1,  1,  1,  1,  1,  1,  1,  1,  1,  1,  1,\n",
              "        1,  1,  1,  1,  1,  1,  1,  1,  1,  1,  1,  1,  1,  1,  1,  1,  1,\n",
              "        1,  1,  1,  1,  1,  1,  1,  1,  1,  1,  1,  1,  1,  1,  1,  1,  1,\n",
              "        1,  1,  1,  1,  1,  1,  1,  1,  1,  1,  1,  1,  1,  1,  1,  1,  1,\n",
              "        1,  1,  1,  1,  1,  1,  1,  1,  1,  1,  1,  1,  1,  1,  1,  1,  1,\n",
              "        1,  1,  1,  1,  1,  1,  1,  1,  1,  1,  1,  1,  1,  1,  1,  1,  1,\n",
              "        1,  1,  1,  1,  1,  1,  1,  1,  1,  1,  1,  1,  1,  1,  1,  1,  1,\n",
              "        1,  1,  1,  1,  1,  1,  1,  1,  1,  1,  1,  1,  1,  1,  1,  1,  1,\n",
              "        1,  1,  1,  1,  1,  1,  1,  1,  1, -1, -1, -1, -1, -1, -1, -1, -1,\n",
              "       -1, -1, -1,  1, -1, -1,  1, -1, -1, -1, -1, -1, -1, -1, -1, -1, -1,\n",
              "       -1, -1, -1, -1, -1, -1, -1, -1, -1, -1, -1, -1])"
            ]
          },
          "metadata": {},
          "execution_count": 48
        }
      ]
    },
    {
      "cell_type": "code",
      "metadata": {
        "id": "L3hAF6k_idJy"
      },
      "source": [
        "clf.decision_function"
      ],
      "execution_count": null,
      "outputs": []
    },
    {
      "cell_type": "code",
      "metadata": {
        "colab": {
          "base_uri": "https://localhost:8080/"
        },
        "id": "xtpUzU1sECE2",
        "outputId": "41896391-8bdd-476b-eb1f-623651d096a1"
      },
      "source": [
        "anom = np.where(predictions < 0) \n",
        "anom"
      ],
      "execution_count": 49,
      "outputs": [
        {
          "output_type": "execute_result",
          "data": {
            "text/plain": [
              "(array([213, 214, 215, 216, 217, 218, 219, 220, 221, 222, 223, 225, 226,\n",
              "        228, 229, 230, 231, 232, 233, 234, 235, 236, 237, 238, 239, 240,\n",
              "        241, 242, 243, 244, 245, 246, 247, 248, 249]),)"
            ]
          },
          "metadata": {},
          "execution_count": 49
        }
      ]
    },
    {
      "cell_type": "code",
      "metadata": {
        "colab": {
          "base_uri": "https://localhost:8080/"
        },
        "id": "iED0B1FGEXaf",
        "outputId": "e3993e5c-09a1-4e72-abf5-30c08ccfcdd9"
      },
      "source": [
        "(predictions < 0).mean()"
      ],
      "execution_count": 51,
      "outputs": [
        {
          "output_type": "execute_result",
          "data": {
            "text/plain": [
              "0.14"
            ]
          },
          "metadata": {},
          "execution_count": 51
        }
      ]
    },
    {
      "cell_type": "code",
      "metadata": {
        "colab": {
          "base_uri": "https://localhost:8080/",
          "height": 364
        },
        "id": "9bbYf1yDEqZx",
        "outputId": "aebbd1a2-886c-4ca5-c6b6-a6f077c99585"
      },
      "source": [
        "plt.scatter(X[: , 0] , X[:,1])\n",
        "plt.scatter(X[anom , 0] , X[anom , 1])"
      ],
      "execution_count": 52,
      "outputs": [
        {
          "output_type": "execute_result",
          "data": {
            "text/plain": [
              "<matplotlib.collections.PathCollection at 0x7f9fc2f6ccd0>"
            ]
          },
          "metadata": {},
          "execution_count": 52
        },
        {
          "output_type": "display_data",
          "data": {
            "image/png": "[encoded data removed]",
            "text/plain": [
              "<Figure size 576x396 with 1 Axes>"
            ]
          },
          "metadata": {}
        }
      ]
    },
    {
      "cell_type": "markdown",
      "metadata": {
        "id": "fJ5X2YzzjLYg"
      },
      "source": [
        "## 2- K Nearest Neighbors (KNN):\n"
      ]
    },
    {
      "cell_type": "code",
      "metadata": {
        "colab": {
          "base_uri": "https://localhost:8080/"
        },
        "id": "WnjnpWVKmWep",
        "outputId": "77155949-4164-4e32-9dc8-d70e92611f28"
      },
      "source": [
        "from sklearn.neighbors import NearestNeighbors\n",
        "X = df.values\n",
        "nbr = NearestNeighbors()\n",
        "nbr.fit(X)\n"
      ],
      "execution_count": 53,
      "outputs": [
        {
          "output_type": "execute_result",
          "data": {
            "text/plain": [
              "NearestNeighbors(algorithm='auto', leaf_size=30, metric='minkowski',\n",
              "                 metric_params=None, n_jobs=None, n_neighbors=5, p=2,\n",
              "                 radius=1.0)"
            ]
          },
          "metadata": {},
          "execution_count": 53
        }
      ]
    },
    {
      "cell_type": "code",
      "metadata": {
        "colab": {
          "base_uri": "https://localhost:8080/"
        },
        "id": "jQHQI6lJmWhR",
        "outputId": "3b31c31f-73e9-46f7-8a57-2a1fa3fdf895"
      },
      "source": [
        "nbr.n_neighbors"
      ],
      "execution_count": 54,
      "outputs": [
        {
          "output_type": "execute_result",
          "data": {
            "text/plain": [
              "5"
            ]
          },
          "metadata": {},
          "execution_count": 54
        }
      ]
    },
    {
      "cell_type": "code",
      "metadata": {
        "id": "2RDn8N0LmWkA",
        "colab": {
          "base_uri": "https://localhost:8080/"
        },
        "outputId": "011aca19-aefe-413b-f6da-b8ce0db9ca28"
      },
      "source": [
        "nbr.kneighbors(X)"
      ],
      "execution_count": 55,
      "outputs": [
        {
          "output_type": "execute_result",
          "data": {
            "text/plain": [
              "(array([[0.        , 0.0829951 , 0.12113547, 0.15227371, 0.17672986],\n",
              "        [0.        , 0.07493768, 0.23445492, 0.27389498, 0.33677057],\n",
              "        [0.        , 0.11891007, 0.23259311, 0.27085043, 0.29036663],\n",
              "        ...,\n",
              "        [0.        , 1.44833534, 1.55409781, 1.56461387, 1.61581551],\n",
              "        [0.        , 0.85156381, 1.10251358, 1.28527883, 1.72761841],\n",
              "        [0.        , 0.59666731, 0.83665398, 0.95014126, 1.03253704]]),\n",
              " array([[  0,  39, 159,  84,  53],\n",
              "        [  1, 183, 203, 113, 196],\n",
              "        [  2,  16, 132,   9,  90],\n",
              "        ...,\n",
              "        [247, 172,  41, 202, 105],\n",
              "        [248, 217, 230, 237, 215],\n",
              "        [249, 118, 123,  42, 157]]))"
            ]
          },
          "metadata": {},
          "execution_count": 55
        }
      ]
    },
    {
      "cell_type": "code",
      "metadata": {
        "id": "OlNUaaijmWmN"
      },
      "source": [
        "distancses , indexes = nbr.kneighbors(X)"
      ],
      "execution_count": 56,
      "outputs": []
    },
    {
      "cell_type": "code",
      "metadata": {
        "colab": {
          "base_uri": "https://localhost:8080/"
        },
        "id": "Y6IEwGHqQI3O",
        "outputId": "51326e68-91d0-4ebb-ed03-c7502eb85b2a"
      },
      "source": [
        "distancses.mean(axis=1)"
      ],
      "execution_count": 57,
      "outputs": [
        {
          "output_type": "execute_result",
          "data": {
            "text/plain": [
              "array([0.10662683, 0.18401163, 0.18254405, 0.08281954, 0.46650722,\n",
              "       0.5184984 , 0.31327112, 0.15913613, 0.08145262, 0.09357568,\n",
              "       0.07692712, 0.17094572, 0.28277648, 0.10659115, 0.13790792,\n",
              "       0.1573148 , 0.11594247, 0.17408595, 0.14452529, 0.19319119,\n",
              "       0.19770139, 0.38029077, 0.10417891, 0.19641358, 0.08402891,\n",
              "       0.18951981, 0.1668323 , 0.17711045, 0.04024322, 0.0595296 ,\n",
              "       0.18396066, 0.26136947, 0.32056937, 0.10127843, 0.13970025,\n",
              "       0.11241175, 0.25674328, 0.18225898, 0.06216229, 0.09339432,\n",
              "       0.20123638, 0.19210117, 0.29858692, 0.19917889, 0.18232439,\n",
              "       0.18751936, 0.0809301 , 0.07253639, 0.07243677, 0.09289392,\n",
              "       0.07688212, 0.45789485, 0.0974275 , 0.11022558, 0.29574099,\n",
              "       0.17460771, 0.13575959, 0.15982671, 0.23793339, 0.11390013,\n",
              "       0.33394939, 0.23688918, 0.08120925, 0.34193694, 0.18083409,\n",
              "       0.06355383, 0.34152975, 0.1484961 , 0.11285362, 0.10039835,\n",
              "       0.28807564, 0.19526769, 0.07781536, 0.1055758 , 0.0757134 ,\n",
              "       0.1103114 , 0.08687389, 0.23462145, 0.07798962, 0.0799935 ,\n",
              "       0.09278163, 0.03896539, 0.10860032, 0.14191076, 0.09714595,\n",
              "       0.60372261, 0.46991821, 0.33284416, 0.49030659, 0.10140702,\n",
              "       0.07543862, 0.07903742, 0.14870581, 0.07719437, 0.10200821,\n",
              "       0.15620592, 0.22100112, 0.07357147, 0.09578861, 0.20383578,\n",
              "       0.49328145, 0.15729573, 0.15847834, 0.15413997, 0.13783029,\n",
              "       0.17630617, 0.07581819, 0.09932   , 0.13922238, 0.10134121,\n",
              "       0.39922084, 0.11410442, 0.22257433, 0.1897608 , 0.07106589,\n",
              "       0.1097646 , 0.14634466, 0.22658444, 0.34963173, 0.06046131,\n",
              "       0.16740497, 0.09897844, 0.12885187, 0.26546627, 0.23003277,\n",
              "       0.14021174, 0.19272367, 0.08242992, 0.24278129, 0.09235454,\n",
              "       0.20920909, 0.05904871, 0.07558623, 0.18312388, 0.15549553,\n",
              "       0.17466146, 0.1041271 , 0.16342577, 0.10763785, 0.08673066,\n",
              "       0.13723157, 0.1913427 , 0.10354418, 0.12211366, 0.0631857 ,\n",
              "       0.23379785, 0.28241703, 0.08549039, 0.11106812, 0.20815197,\n",
              "       0.18939329, 0.15175357, 0.20963732, 0.20222512, 0.30895112,\n",
              "       0.05839765, 0.12341982, 0.25883595, 0.14828119, 0.12050455,\n",
              "       0.10093013, 0.17703157, 0.17159012, 0.06743748, 0.17193492,\n",
              "       0.08781735, 0.13554387, 0.06425387, 0.19794693, 0.10535016,\n",
              "       0.16907497, 0.0859199 , 0.35456055, 0.09169225, 0.14581424,\n",
              "       0.13724865, 0.10236781, 0.10359288, 0.14152011, 0.1943728 ,\n",
              "       0.14762816, 0.1674368 , 0.04695129, 0.20203496, 0.12695018,\n",
              "       0.20922845, 0.07819013, 0.17159664, 0.15889388, 0.20310626,\n",
              "       0.191515  , 0.22503115, 0.10307251, 0.22039147, 0.34619866,\n",
              "       0.15182593, 0.19635798, 0.07231515, 0.50058961, 0.0835749 ,\n",
              "       0.14750525, 0.0682497 , 0.1837883 , 0.19245453, 0.1238932 ,\n",
              "       0.20366486, 0.23185574, 0.08298205, 0.10457881, 0.25970677,\n",
              "       0.2568688 , 0.06518357, 0.14596666, 1.92977955, 2.88863375,\n",
              "       0.92901181, 1.58679213, 0.84345535, 1.721446  , 1.47357806,\n",
              "       1.57828661, 0.84932898, 1.29243808, 1.49092223, 0.19303082,\n",
              "       3.17669458, 1.74973601, 1.00103679, 1.53674538, 1.46296218,\n",
              "       1.18721361, 1.12236593, 2.26237715, 2.3190601 , 1.93657982,\n",
              "       1.34317635, 1.78662342, 0.7293037 , 1.72012941, 1.65645415,\n",
              "       2.53346073, 1.67439311, 2.50698609, 1.63241801, 1.83289286,\n",
              "       3.0909575 , 1.70734587, 1.23657251, 0.99339493, 0.68319992])"
            ]
          },
          "metadata": {},
          "execution_count": 57
        }
      ]
    },
    {
      "cell_type": "code",
      "metadata": {
        "id": "XxvIW167mWoj",
        "colab": {
          "base_uri": "https://localhost:8080/",
          "height": 347
        },
        "outputId": "e93f6a13-0a7d-4f2e-b16f-533e0794a16f"
      },
      "source": [
        "plt.plot(distancses.mean(axis=1));"
      ],
      "execution_count": 58,
      "outputs": [
        {
          "output_type": "display_data",
          "data": {
            "image/png": "[encoded data removed]",
            "text/plain": [
              "<Figure size 576x396 with 1 Axes>"
            ]
          },
          "metadata": {}
        }
      ]
    },
    {
      "cell_type": "code",
      "metadata": {
        "colab": {
          "base_uri": "https://localhost:8080/"
        },
        "id": "c5XIW5TYPzEf",
        "outputId": "84dff676-c5ed-4587-8666-034745564fde"
      },
      "source": [
        "np.where(distancses.mean(axis=1) > .5)"
      ],
      "execution_count": 59,
      "outputs": [
        {
          "output_type": "execute_result",
          "data": {
            "text/plain": [
              "(array([  5,  85, 198, 213, 214, 215, 216, 217, 218, 219, 220, 221, 222,\n",
              "        223, 225, 226, 227, 228, 229, 230, 231, 232, 233, 234, 235, 236,\n",
              "        237, 238, 239, 240, 241, 242, 243, 244, 245, 246, 247, 248, 249]),)"
            ]
          },
          "metadata": {},
          "execution_count": 59
        }
      ]
    },
    {
      "cell_type": "code",
      "metadata": {
        "id": "2gWaAGJ3mWtK"
      },
      "source": [
        "abn_index = np.where(distancses.mean(axis=1) > .5)"
      ],
      "execution_count": 60,
      "outputs": []
    },
    {
      "cell_type": "code",
      "metadata": {
        "id": "4svlnYTpmWvy",
        "colab": {
          "base_uri": "https://localhost:8080/",
          "height": 364
        },
        "outputId": "e77e73bc-a506-408f-b2a9-2f788005b48e"
      },
      "source": [
        "plt.scatter(X[: , 0] , X[:,1]);\n",
        "plt.scatter(X[abn_index , 0] , X[abn_index , -1])"
      ],
      "execution_count": 61,
      "outputs": [
        {
          "output_type": "execute_result",
          "data": {
            "text/plain": [
              "<matplotlib.collections.PathCollection at 0x7f9fc2e584d0>"
            ]
          },
          "metadata": {},
          "execution_count": 61
        },
        {
          "output_type": "display_data",
          "data": {
            "image/png": "[encoded data removed]",
            "text/plain": [
              "<Figure size 576x396 with 1 Axes>"
            ]
          },
          "metadata": {}
        }
      ]
    },
    {
      "cell_type": "markdown",
      "metadata": {
        "id": "dUpS2fpgfuww"
      },
      "source": [
        "#Anomaly Detection Using Pycaret\n"
      ]
    },
    {
      "cell_type": "markdown",
      "metadata": {
        "id": "sEcOiworhU_y"
      },
      "source": [
        "PyCaret’s Anomaly Detection Module is an unsupervised machine learning module that is used for identifying rare items, events or observations which raise suspicions by differing significantly from the majority of the data. Typically, the anomalous items will translate to some kind of problem such as bank fraud, a structural defect, medical problems or errors . This module provide several pre-processing features that prepares the data for modeling through setup function. This module has over 12 ready-to-use algorithms and several plots to analyze the results of trained models."
      ]
    },
    {
      "cell_type": "markdown",
      "metadata": {
        "id": "1qgdWxPRiwS0"
      },
      "source": [
        "import the dataset from pycaret repository\n"
      ]
    },
    {
      "cell_type": "code",
      "metadata": {
        "colab": {
          "base_uri": "https://localhost:8080/",
          "height": 1000,
          "referenced_widgets": [
            "b1b3e3a838a64c1f8adad5afc1f68f51",
            "a7341db3afa446e8a06b679e4826a1bd",
            "f17984da3e5f4941a7dfbf695ac32ea4",
            "63be6fb8d9ff417dbcfd4e544a131eca",
            "b520cfccec2e4288a73f66fed0613615",
            "4af51b2ea84042699bfe7257e7a28652"
          ]
        },
        "id": "2ntLrEWTivnQ",
        "outputId": "0bd9757c-413d-48fa-9294-d3800d0d0444"
      },
      "source": [
        "#!pip install pycaret\n",
        "\n",
        "from pycaret.datasets import get_data\n",
        "anomaly = get_data('anomaly')\n",
        "#import anomaly detection module\n",
        "from pycaret.anomaly import *\n",
        "#intialize the setup\n",
        "exp_ano = setup(anomaly)\n",
        "\n",
        "\n"
      ],
      "execution_count": 62,
      "outputs": [
        {
          "output_type": "display_data",
          "data": {
            "text/html": [
              "<div>\n",
              "<style scoped>\n",
              "    .dataframe tbody tr th:only-of-type {\n",
              "        vertical-align: middle;\n",
              "    }\n",
              "\n",
              "    .dataframe tbody tr th {\n",
              "        vertical-align: top;\n",
              "    }\n",
              "\n",
              "    .dataframe thead th {\n",
              "        text-align: right;\n",
              "    }\n",
              "</style>\n",
              "<table border=\"1\" class=\"dataframe\">\n",
              "  <thead>\n",
              "    <tr style=\"text-align: right;\">\n",
              "      <th></th>\n",
              "      <th>Description</th>\n",
              "      <th>Value</th>\n",
              "    </tr>\n",
              "  </thead>\n",
              "  <tbody>\n",
              "    <tr>\n",
              "      <th>0</th>\n",
              "      <td>session_id</td>\n",
              "      <td>8666</td>\n",
              "    </tr>\n",
              "    <tr>\n",
              "      <th>1</th>\n",
              "      <td>Original Data</td>\n",
              "      <td>(1000, 10)</td>\n",
              "    </tr>\n",
              "    <tr>\n",
              "      <th>2</th>\n",
              "      <td>Missing Values</td>\n",
              "      <td>False</td>\n",
              "    </tr>\n",
              "    <tr>\n",
              "      <th>3</th>\n",
              "      <td>Numeric Features</td>\n",
              "      <td>10</td>\n",
              "    </tr>\n",
              "    <tr>\n",
              "      <th>4</th>\n",
              "      <td>Categorical Features</td>\n",
              "      <td>0</td>\n",
              "    </tr>\n",
              "    <tr>\n",
              "      <th>5</th>\n",
              "      <td>Ordinal Features</td>\n",
              "      <td>False</td>\n",
              "    </tr>\n",
              "    <tr>\n",
              "      <th>6</th>\n",
              "      <td>High Cardinality Features</td>\n",
              "      <td>False</td>\n",
              "    </tr>\n",
              "    <tr>\n",
              "      <th>7</th>\n",
              "      <td>High Cardinality Method</td>\n",
              "      <td>None</td>\n",
              "    </tr>\n",
              "    <tr>\n",
              "      <th>8</th>\n",
              "      <td>Transformed Data</td>\n",
              "      <td>(1000, 10)</td>\n",
              "    </tr>\n",
              "    <tr>\n",
              "      <th>9</th>\n",
              "      <td>CPU Jobs</td>\n",
              "      <td>-1</td>\n",
              "    </tr>\n",
              "    <tr>\n",
              "      <th>10</th>\n",
              "      <td>Use GPU</td>\n",
              "      <td>False</td>\n",
              "    </tr>\n",
              "    <tr>\n",
              "      <th>11</th>\n",
              "      <td>Log Experiment</td>\n",
              "      <td>False</td>\n",
              "    </tr>\n",
              "    <tr>\n",
              "      <th>12</th>\n",
              "      <td>Experiment Name</td>\n",
              "      <td>anomaly-default-name</td>\n",
              "    </tr>\n",
              "    <tr>\n",
              "      <th>13</th>\n",
              "      <td>USI</td>\n",
              "      <td>0143</td>\n",
              "    </tr>\n",
              "    <tr>\n",
              "      <th>14</th>\n",
              "      <td>Imputation Type</td>\n",
              "      <td>simple</td>\n",
              "    </tr>\n",
              "    <tr>\n",
              "      <th>15</th>\n",
              "      <td>Iterative Imputation Iteration</td>\n",
              "      <td>None</td>\n",
              "    </tr>\n",
              "    <tr>\n",
              "      <th>16</th>\n",
              "      <td>Numeric Imputer</td>\n",
              "      <td>mean</td>\n",
              "    </tr>\n",
              "    <tr>\n",
              "      <th>17</th>\n",
              "      <td>Iterative Imputation Numeric Model</td>\n",
              "      <td>None</td>\n",
              "    </tr>\n",
              "    <tr>\n",
              "      <th>18</th>\n",
              "      <td>Categorical Imputer</td>\n",
              "      <td>mode</td>\n",
              "    </tr>\n",
              "    <tr>\n",
              "      <th>19</th>\n",
              "      <td>Iterative Imputation Categorical Model</td>\n",
              "      <td>None</td>\n",
              "    </tr>\n",
              "    <tr>\n",
              "      <th>20</th>\n",
              "      <td>Unknown Categoricals Handling</td>\n",
              "      <td>least_frequent</td>\n",
              "    </tr>\n",
              "    <tr>\n",
              "      <th>21</th>\n",
              "      <td>Normalize</td>\n",
              "      <td>False</td>\n",
              "    </tr>\n",
              "    <tr>\n",
              "      <th>22</th>\n",
              "      <td>Normalize Method</td>\n",
              "      <td>None</td>\n",
              "    </tr>\n",
              "    <tr>\n",
              "      <th>23</th>\n",
              "      <td>Transformation</td>\n",
              "      <td>False</td>\n",
              "    </tr>\n",
              "    <tr>\n",
              "      <th>24</th>\n",
              "      <td>Transformation Method</td>\n",
              "      <td>None</td>\n",
              "    </tr>\n",
              "    <tr>\n",
              "      <th>25</th>\n",
              "      <td>PCA</td>\n",
              "      <td>False</td>\n",
              "    </tr>\n",
              "    <tr>\n",
              "      <th>26</th>\n",
              "      <td>PCA Method</td>\n",
              "      <td>None</td>\n",
              "    </tr>\n",
              "    <tr>\n",
              "      <th>27</th>\n",
              "      <td>PCA Components</td>\n",
              "      <td>None</td>\n",
              "    </tr>\n",
              "    <tr>\n",
              "      <th>28</th>\n",
              "      <td>Ignore Low Variance</td>\n",
              "      <td>False</td>\n",
              "    </tr>\n",
              "    <tr>\n",
              "      <th>29</th>\n",
              "      <td>Combine Rare Levels</td>\n",
              "      <td>False</td>\n",
              "    </tr>\n",
              "    <tr>\n",
              "      <th>30</th>\n",
              "      <td>Rare Level Threshold</td>\n",
              "      <td>None</td>\n",
              "    </tr>\n",
              "    <tr>\n",
              "      <th>31</th>\n",
              "      <td>Numeric Binning</td>\n",
              "      <td>False</td>\n",
              "    </tr>\n",
              "    <tr>\n",
              "      <th>32</th>\n",
              "      <td>Remove Outliers</td>\n",
              "      <td>False</td>\n",
              "    </tr>\n",
              "    <tr>\n",
              "      <th>33</th>\n",
              "      <td>Outliers Threshold</td>\n",
              "      <td>None</td>\n",
              "    </tr>\n",
              "    <tr>\n",
              "      <th>34</th>\n",
              "      <td>Remove Multicollinearity</td>\n",
              "      <td>False</td>\n",
              "    </tr>\n",
              "    <tr>\n",
              "      <th>35</th>\n",
              "      <td>Multicollinearity Threshold</td>\n",
              "      <td>None</td>\n",
              "    </tr>\n",
              "    <tr>\n",
              "      <th>36</th>\n",
              "      <td>Remove Perfect Collinearity</td>\n",
              "      <td>False</td>\n",
              "    </tr>\n",
              "    <tr>\n",
              "      <th>37</th>\n",
              "      <td>Clustering</td>\n",
              "      <td>False</td>\n",
              "    </tr>\n",
              "    <tr>\n",
              "      <th>38</th>\n",
              "      <td>Clustering Iteration</td>\n",
              "      <td>None</td>\n",
              "    </tr>\n",
              "    <tr>\n",
              "      <th>39</th>\n",
              "      <td>Polynomial Features</td>\n",
              "      <td>False</td>\n",
              "    </tr>\n",
              "    <tr>\n",
              "      <th>40</th>\n",
              "      <td>Polynomial Degree</td>\n",
              "      <td>None</td>\n",
              "    </tr>\n",
              "    <tr>\n",
              "      <th>41</th>\n",
              "      <td>Trignometry Features</td>\n",
              "      <td>False</td>\n",
              "    </tr>\n",
              "    <tr>\n",
              "      <th>42</th>\n",
              "      <td>Polynomial Threshold</td>\n",
              "      <td>None</td>\n",
              "    </tr>\n",
              "    <tr>\n",
              "      <th>43</th>\n",
              "      <td>Group Features</td>\n",
              "      <td>False</td>\n",
              "    </tr>\n",
              "    <tr>\n",
              "      <th>44</th>\n",
              "      <td>Feature Selection</td>\n",
              "      <td>False</td>\n",
              "    </tr>\n",
              "    <tr>\n",
              "      <th>45</th>\n",
              "      <td>Feature Selection Method</td>\n",
              "      <td>classic</td>\n",
              "    </tr>\n",
              "    <tr>\n",
              "      <th>46</th>\n",
              "      <td>Features Selection Threshold</td>\n",
              "      <td>None</td>\n",
              "    </tr>\n",
              "    <tr>\n",
              "      <th>47</th>\n",
              "      <td>Feature Interaction</td>\n",
              "      <td>False</td>\n",
              "    </tr>\n",
              "    <tr>\n",
              "      <th>48</th>\n",
              "      <td>Feature Ratio</td>\n",
              "      <td>False</td>\n",
              "    </tr>\n",
              "    <tr>\n",
              "      <th>49</th>\n",
              "      <td>Interaction Threshold</td>\n",
              "      <td>None</td>\n",
              "    </tr>\n",
              "  </tbody>\n",
              "</table>\n",
              "</div>"
            ],
            "text/plain": [
              "                               Description                 Value\n",
              "0                               session_id                  8666\n",
              "1                            Original Data            (1000, 10)\n",
              "2                           Missing Values                 False\n",
              "3                         Numeric Features                    10\n",
              "4                     Categorical Features                     0\n",
              "5                         Ordinal Features                 False\n",
              "6                High Cardinality Features                 False\n",
              "7                  High Cardinality Method                  None\n",
              "8                         Transformed Data            (1000, 10)\n",
              "9                                 CPU Jobs                    -1\n",
              "10                                 Use GPU                 False\n",
              "11                          Log Experiment                 False\n",
              "12                         Experiment Name  anomaly-default-name\n",
              "13                                     USI                  0143\n",
              "14                         Imputation Type                simple\n",
              "15          Iterative Imputation Iteration                  None\n",
              "16                         Numeric Imputer                  mean\n",
              "17      Iterative Imputation Numeric Model                  None\n",
              "18                     Categorical Imputer                  mode\n",
              "19  Iterative Imputation Categorical Model                  None\n",
              "20           Unknown Categoricals Handling        least_frequent\n",
              "21                               Normalize                 False\n",
              "22                        Normalize Method                  None\n",
              "23                          Transformation                 False\n",
              "24                   Transformation Method                  None\n",
              "25                                     PCA                 False\n",
              "26                              PCA Method                  None\n",
              "27                          PCA Components                  None\n",
              "28                     Ignore Low Variance                 False\n",
              "29                     Combine Rare Levels                 False\n",
              "30                    Rare Level Threshold                  None\n",
              "31                         Numeric Binning                 False\n",
              "32                         Remove Outliers                 False\n",
              "33                      Outliers Threshold                  None\n",
              "34                Remove Multicollinearity                 False\n",
              "35             Multicollinearity Threshold                  None\n",
              "36             Remove Perfect Collinearity                 False\n",
              "37                              Clustering                 False\n",
              "38                    Clustering Iteration                  None\n",
              "39                     Polynomial Features                 False\n",
              "40                       Polynomial Degree                  None\n",
              "41                    Trignometry Features                 False\n",
              "42                    Polynomial Threshold                  None\n",
              "43                          Group Features                 False\n",
              "44                       Feature Selection                 False\n",
              "45                Feature Selection Method               classic\n",
              "46            Features Selection Threshold                  None\n",
              "47                     Feature Interaction                 False\n",
              "48                           Feature Ratio                 False\n",
              "49                   Interaction Threshold                  None"
            ]
          },
          "metadata": {}
        }
      ]
    },
    {
      "cell_type": "code",
      "metadata": {
        "colab": {
          "base_uri": "https://localhost:8080/",
          "height": 419
        },
        "id": "j-0uJ_C_e2X9",
        "outputId": "b7093a47-aa75-4670-efa9-8c240a02a2cd"
      },
      "source": [
        "anomaly"
      ],
      "execution_count": 63,
      "outputs": [
        {
          "output_type": "execute_result",
          "data": {
            "text/html": [
              "<div>\n",
              "<style scoped>\n",
              "    .dataframe tbody tr th:only-of-type {\n",
              "        vertical-align: middle;\n",
              "    }\n",
              "\n",
              "    .dataframe tbody tr th {\n",
              "        vertical-align: top;\n",
              "    }\n",
              "\n",
              "    .dataframe thead th {\n",
              "        text-align: right;\n",
              "    }\n",
              "</style>\n",
              "<table border=\"1\" class=\"dataframe\">\n",
              "  <thead>\n",
              "    <tr style=\"text-align: right;\">\n",
              "      <th></th>\n",
              "      <th>Col1</th>\n",
              "      <th>Col2</th>\n",
              "      <th>Col3</th>\n",
              "      <th>Col4</th>\n",
              "      <th>Col5</th>\n",
              "      <th>Col6</th>\n",
              "      <th>Col7</th>\n",
              "      <th>Col8</th>\n",
              "      <th>Col9</th>\n",
              "      <th>Col10</th>\n",
              "    </tr>\n",
              "  </thead>\n",
              "  <tbody>\n",
              "    <tr>\n",
              "      <th>0</th>\n",
              "      <td>0.263995</td>\n",
              "      <td>0.764929</td>\n",
              "      <td>0.138424</td>\n",
              "      <td>0.935242</td>\n",
              "      <td>0.605867</td>\n",
              "      <td>0.518790</td>\n",
              "      <td>0.912225</td>\n",
              "      <td>0.608234</td>\n",
              "      <td>0.723782</td>\n",
              "      <td>0.733591</td>\n",
              "    </tr>\n",
              "    <tr>\n",
              "      <th>1</th>\n",
              "      <td>0.546092</td>\n",
              "      <td>0.653975</td>\n",
              "      <td>0.065575</td>\n",
              "      <td>0.227772</td>\n",
              "      <td>0.845269</td>\n",
              "      <td>0.837066</td>\n",
              "      <td>0.272379</td>\n",
              "      <td>0.331679</td>\n",
              "      <td>0.429297</td>\n",
              "      <td>0.367422</td>\n",
              "    </tr>\n",
              "    <tr>\n",
              "      <th>2</th>\n",
              "      <td>0.336714</td>\n",
              "      <td>0.538842</td>\n",
              "      <td>0.192801</td>\n",
              "      <td>0.553563</td>\n",
              "      <td>0.074515</td>\n",
              "      <td>0.332993</td>\n",
              "      <td>0.365792</td>\n",
              "      <td>0.861309</td>\n",
              "      <td>0.899017</td>\n",
              "      <td>0.088600</td>\n",
              "    </tr>\n",
              "    <tr>\n",
              "      <th>3</th>\n",
              "      <td>0.092108</td>\n",
              "      <td>0.995017</td>\n",
              "      <td>0.014465</td>\n",
              "      <td>0.176371</td>\n",
              "      <td>0.241530</td>\n",
              "      <td>0.514724</td>\n",
              "      <td>0.562208</td>\n",
              "      <td>0.158963</td>\n",
              "      <td>0.073715</td>\n",
              "      <td>0.208463</td>\n",
              "    </tr>\n",
              "    <tr>\n",
              "      <th>4</th>\n",
              "      <td>0.325261</td>\n",
              "      <td>0.805968</td>\n",
              "      <td>0.957033</td>\n",
              "      <td>0.331665</td>\n",
              "      <td>0.307923</td>\n",
              "      <td>0.355315</td>\n",
              "      <td>0.501899</td>\n",
              "      <td>0.558449</td>\n",
              "      <td>0.885169</td>\n",
              "      <td>0.182754</td>\n",
              "    </tr>\n",
              "    <tr>\n",
              "      <th>...</th>\n",
              "      <td>...</td>\n",
              "      <td>...</td>\n",
              "      <td>...</td>\n",
              "      <td>...</td>\n",
              "      <td>...</td>\n",
              "      <td>...</td>\n",
              "      <td>...</td>\n",
              "      <td>...</td>\n",
              "      <td>...</td>\n",
              "      <td>...</td>\n",
              "    </tr>\n",
              "    <tr>\n",
              "      <th>995</th>\n",
              "      <td>0.305055</td>\n",
              "      <td>0.656837</td>\n",
              "      <td>0.331665</td>\n",
              "      <td>0.822525</td>\n",
              "      <td>0.907127</td>\n",
              "      <td>0.882276</td>\n",
              "      <td>0.855732</td>\n",
              "      <td>0.584786</td>\n",
              "      <td>0.808640</td>\n",
              "      <td>0.242762</td>\n",
              "    </tr>\n",
              "    <tr>\n",
              "      <th>996</th>\n",
              "      <td>0.812627</td>\n",
              "      <td>0.864258</td>\n",
              "      <td>0.616604</td>\n",
              "      <td>0.167966</td>\n",
              "      <td>0.811223</td>\n",
              "      <td>0.938071</td>\n",
              "      <td>0.418462</td>\n",
              "      <td>0.472306</td>\n",
              "      <td>0.348347</td>\n",
              "      <td>0.671129</td>\n",
              "    </tr>\n",
              "    <tr>\n",
              "      <th>997</th>\n",
              "      <td>0.250967</td>\n",
              "      <td>0.138627</td>\n",
              "      <td>0.919703</td>\n",
              "      <td>0.461234</td>\n",
              "      <td>0.886555</td>\n",
              "      <td>0.869888</td>\n",
              "      <td>0.800908</td>\n",
              "      <td>0.530324</td>\n",
              "      <td>0.779433</td>\n",
              "      <td>0.234952</td>\n",
              "    </tr>\n",
              "    <tr>\n",
              "      <th>998</th>\n",
              "      <td>0.502436</td>\n",
              "      <td>0.936820</td>\n",
              "      <td>0.580062</td>\n",
              "      <td>0.540773</td>\n",
              "      <td>0.151995</td>\n",
              "      <td>0.059452</td>\n",
              "      <td>0.225220</td>\n",
              "      <td>0.242755</td>\n",
              "      <td>0.279385</td>\n",
              "      <td>0.538755</td>\n",
              "    </tr>\n",
              "    <tr>\n",
              "      <th>999</th>\n",
              "      <td>0.457991</td>\n",
              "      <td>0.017755</td>\n",
              "      <td>0.714113</td>\n",
              "      <td>0.125992</td>\n",
              "      <td>0.063316</td>\n",
              "      <td>0.154739</td>\n",
              "      <td>0.922974</td>\n",
              "      <td>0.692299</td>\n",
              "      <td>0.816777</td>\n",
              "      <td>0.307592</td>\n",
              "    </tr>\n",
              "  </tbody>\n",
              "</table>\n",
              "<p>1000 rows × 10 columns</p>\n",
              "</div>"
            ],
            "text/plain": [
              "         Col1      Col2      Col3  ...      Col8      Col9     Col10\n",
              "0    0.263995  0.764929  0.138424  ...  0.608234  0.723782  0.733591\n",
              "1    0.546092  0.653975  0.065575  ...  0.331679  0.429297  0.367422\n",
              "2    0.336714  0.538842  0.192801  ...  0.861309  0.899017  0.088600\n",
              "3    0.092108  0.995017  0.014465  ...  0.158963  0.073715  0.208463\n",
              "4    0.325261  0.805968  0.957033  ...  0.558449  0.885169  0.182754\n",
              "..        ...       ...       ...  ...       ...       ...       ...\n",
              "995  0.305055  0.656837  0.331665  ...  0.584786  0.808640  0.242762\n",
              "996  0.812627  0.864258  0.616604  ...  0.472306  0.348347  0.671129\n",
              "997  0.250967  0.138627  0.919703  ...  0.530324  0.779433  0.234952\n",
              "998  0.502436  0.936820  0.580062  ...  0.242755  0.279385  0.538755\n",
              "999  0.457991  0.017755  0.714113  ...  0.692299  0.816777  0.307592\n",
              "\n",
              "[1000 rows x 10 columns]"
            ]
          },
          "metadata": {},
          "execution_count": 63
        }
      ]
    },
    {
      "cell_type": "code",
      "metadata": {
        "colab": {
          "base_uri": "https://localhost:8080/",
          "height": 817,
          "referenced_widgets": [
            "b582da95fe23493c964a4c1ba9a859ad",
            "eebc2f2a706f4375ae242804ac5759cf",
            "ac352f7f081c4564a8a1338cb3a2d6ab",
            "d376865da9514ceb812d4d00680cae74",
            "528d209114284850b9ed3c7a8727d4ff",
            "8f288508867943c3b51117604656a932"
          ]
        },
        "id": "9M_CzTX8e2bF",
        "outputId": "13ef1c92-f6fc-45ac-a445-27a70445d94d"
      },
      "source": [
        "## creating a model usinf isolate forest \n",
        "iforest = create_model('iforest')\n",
        "#plot model\n",
        "plot_model(iforest)"
      ],
      "execution_count": 64,
      "outputs": [
        {
          "output_type": "display_data",
          "data": {
            "text/html": [
              "<html>\n",
              "<head><meta charset=\"utf-8\" /></head>\n",
              "<body>\n",
              "    <div>\n",
              "            <script src=\"https://cdnjs.cloudflare.com/ajax/libs/mathjax/2.7.5/MathJax.js?config=TeX-AMS-MML_SVG\"></script><script type=\"text/javascript\">if (window.MathJax) {MathJax.Hub.Config({SVG: {font: \"STIX-Web\"}});}</script>\n",
              "                <script type=\"text/javascript\">window.PlotlyConfig = {MathJaxConfig: 'local'};</script>\n",
              "        <script src=\"https://cdn.plot.ly/plotly-latest.min.js\"></script>    \n",
              "            <div id=\"07e6fd97-fd2b-48ae-b14f-018b0c0c06d9\" class=\"plotly-graph-div\" style=\"height:800px; width:900px;\"></div>\n",
              "            <script type=\"text/javascript\">\n",
              "                \n",
              "                    window.PLOTLYENV=window.PLOTLYENV || {};\n",
              "                    \n",
              "                if (document.getElementById(\"07e6fd97-fd2b-48ae-b14f-018b0c0c06d9\")) {\n",
              "                    Plotly.newPlot(\n",
              "                        '07e6fd97-fd2b-48ae-b14f-018b0c0c06d9',\n",
              "                        [{\"customdata\": [[0.263995357], [0.546092303], [0.33671410399999996], [0.092107835], [0.325261175], [0.212464853], [0.258565714], [0.869236755], [0.197077957], [0.292984504], [0.82178316], [0.796622959], [0.045577010999999994], [0.613660351], [0.9507445659999999], [0.33634633700000005], [0.034440667], [0.741544275], [0.18443265], [0.664514943], [0.16282485800000002], [0.729838445], [0.62837389], [0.057883660999999996], [0.445534827], [0.80183695], [0.27709612], [0.228634015], [0.834860657], [0.6697665110000001], [0.532527349], [0.17045907100000002], [0.5102884679999999], [0.977561989], [0.249775993], [0.9755006820000001], [0.613701727], [0.16742036300000002], [0.537472516], [0.379899131], [0.633897303], [0.633960424], [0.5499746529999999], [0.178172988], [0.85563814], [0.321796672], [0.8174905370000001], [0.254879417], [0.344140513], [0.8061457259999999], [0.27708167100000003], [0.544328519], [0.07708393], [0.273081458], [0.390877336], [0.349621385], [0.214549744], [0.206075222], [0.86461997], [0.9817088540000001], [0.33482964600000004], [0.648387061], [0.093643561], [0.837802698], [0.7603439670000001], [0.29140417399999996], [0.3413454], [0.7611124840000001], [0.541899775], [0.684176639], [0.983535597], [0.52081245], [0.328227724], [0.09715793800000001], [0.876088593], [0.870214512], [0.656086992], [0.306791514], [0.48126734], [0.259559174], [0.326123655], [0.930568042], [0.6583894], [0.689992335], [0.315781109], [0.5669050929999999], [0.637526619], [0.687540723], [0.324300602], [0.592704906], [0.7402531259999999], [0.5940328770000001], [0.596452977], [0.27768081699999997], [0.258329663], [0.142460864], [0.435533461], [0.7024990440000001], [0.58897535], [0.653304374], [0.336968524], [0.631244736], [0.73530076], [0.050390366], [0.064264924], [0.665359476], [0.917835245], [0.44651012], [0.661938199], [0.43935985299999997], [0.6875724040000001], [0.363462248], [0.6542621820000001], [0.578553536], [0.065927945], [0.550148559], [0.13918281400000002], [0.080004635], [0.278228358], [0.560124266], [0.53639864], [0.42653190399999996], [0.789109796], [0.742900474], [0.901692589], [0.650337401], [0.114057311], [0.260812592], [0.43991232], [0.964409284], [0.184401415], [0.345145446], [0.17589458100000002], [0.312514453], [0.674131879], [0.32825045], [0.598231057], [0.09259881699999999], [0.497916521], [0.419776521], [0.31217670000000003], [0.937857107], [0.049030963], [0.47610452600000003], [0.447397526], [0.295806058], [0.737363977], [0.625896253], [0.408813429], [0.437511156], [0.691351375], [0.935555275], [0.437846654], [0.072217715], [0.67636067], [0.468883999], [0.543820644], [0.6555226470000001], [0.6935289240000001], [0.10887831199999999], [0.285463743], [0.0], [0.706495497], [0.273530633], [0.292320271], [0.673984307], [0.12612182800000002], [0.9467074590000001], [0.9363388979999999], [0.8537553640000001], [0.7060713609999999], [0.693682186], [0.508527882], [0.34717038899999997], [0.704154263], [0.658730088], [0.155841557], [0.311085435], [0.281135347], [0.094587802], [0.6832609540000001], [0.9077292509999999], [0.29151267399999997], [0.752734459], [0.93482964], [0.071413953], [0.5948963270000001], [0.404672015], [0.13837621], [0.7473384679999999], [0.530882486], [0.282649594], [0.699335734], [0.056111250999999994], [0.855234998], [0.07789512700000001], [0.891649583], [0.38674227899999997], [0.27113158], [0.958888961], [0.085120869], [0.5269022489999999], [0.066577785], [0.841506738], [0.255342095], [0.060545771], [0.073385869], [0.187493723], [0.858365688], [0.090640352], [0.7097252270000001], [0.631300647], [0.24750447399999997], [0.822843584], [0.373476759], [0.625538582], [0.292951715], [0.299730324], [0.25121407], [0.344480551], [0.293064767], [0.7628032240000001], [0.7384708040000001], [0.674883265], [0.719151612], [0.13098021599999998], [0.511328036], [0.04492903], [0.560914449], [0.7440406409999999], [0.266961634], [0.644231853], [0.038113352], [0.05715529900000001], [0.34139246100000004], [0.7204636320000001], [0.402878236], [0.635148967], [0.320729467], [0.09120969400000001], [0.23414609], [0.8902211309999999], [0.602170884], [0.633652055], [0.806240837], [0.739731184], [0.465231269], [0.7321109], [0.373874305], [0.501587947], [0.11538315800000001], [0.7319466040000001], [0.41829872799999995], [0.062259590999999996], [0.391496379], [0.35984929], [0.24523562699999998], [0.610028339], [0.43540360200000006], [0.434309675], [0.523763344], [0.17118786600000002], [0.18773430300000002], [0.945014638], [0.027851097000000002], [0.68445706], [0.178014532], [0.643427879], [0.59588355], [0.372361682], [0.586103584], [0.271658852], [0.59951107], [0.468363088], [0.314515565], [0.21893726], [0.254716562], [0.25612815], [0.602259755], [0.134381075], [0.513887424], [0.624241636], [0.160251854], [0.580708108], [0.270540486], [0.832919932], [0.93032134], [0.719157884], [0.886720033], [0.098792281], [0.787174286], [0.365592376], [0.719576193], [0.8058956], [0.7555783340000001], [0.526005909], [0.68880424], [0.22111531199999998], [0.739369477], [0.408440236], [0.348926542], [0.433713763], [0.5964966070000001], [0.6942953000000001], [0.7090309659999999], [0.867652984], [0.89332545], [0.746020922], [0.538284443], [0.8922193140000001], [0.935175765], [0.260527707], [0.956780449], [0.204932484], [0.687733351], [0.329063619], [0.632149831], [0.463744506], [0.698859621], [0.385446564], [0.47997537700000004], [0.732279108], [0.3813543], [0.459326013], [0.257401434], [0.665014804], [0.103399542], [0.425284413], [0.943529051], [0.594750236], [0.543776817], [0.18203988], [0.23584208399999998], [0.585984497], [0.762013168], [0.6849829070000001], [0.676936933], [0.290184964], [0.48106822200000005], [0.492766033], [0.22185623399999999], [0.053875998], [0.082751144], [0.385366225], [0.702513961], [0.91553156], [0.082087436], [0.251280378], [0.41672181700000005], [0.277032672], [0.579539754], [0.569363476], [0.133399703], [0.265045463], [0.936571901], [0.252618554], [0.054033081], [0.802481439], [0.528197693], [0.9515026], [0.572121173], [0.752938227], [0.143857535], [0.513484576], [0.313322389], [0.6877973959999999], [0.37705984], [0.348226142], [0.67763282], [0.24138752100000002], [0.8506501790000001], [0.22034810300000002], [0.476445464], [0.690324025], [0.364695946], [0.6492491970000001], [0.9437019209999999], [0.529645971], [0.299097002], [0.96696247], [0.272005242], [0.314161447], [0.752020991], [0.221882453], [0.7203326729999999], [0.379204782], [0.60168653], [0.582932673], [0.950809853], [0.58830141], [0.880887227], [0.467857701], [0.8799021709999999], [0.619844009], [0.359002573], [0.291511278], [0.694157143], [0.727960353], [0.617703921], [0.39581257], [0.58317282], [0.710332374], [0.253753693], [0.049412227999999996], [0.728378695], [0.432432881], [0.58612345], [0.052342373], [0.053483902], [0.518729378], [0.933040208], [0.7035542840000001], [0.268989899], [0.733006927], [0.44435246700000003], [0.5833946210000001], [0.871172692], [0.42876707799999997], [0.30046084100000003], [0.9533294590000001], [0.606443965], [0.90986815], [0.714896449], [0.49734950899999997], [0.8530974859999999], [0.721804145], [0.303467328], [0.664485096], [0.27978062], [0.569481665], [0.628628926], [0.088368123], [0.733567326], [0.537436778], [0.638593691], [0.954726948], [0.632202332], [0.642134651], [0.744653087], [0.115714007], [0.48625007299999995], [0.440356144], [0.08272289], [0.511591027], [0.394627555], [0.224394], [0.626927584], [0.290254057], [0.779008053], [0.86610579], [0.873326081], [0.49548916], [0.594297695], [0.9182015840000001], [0.5770427539999999], [0.019467671000000002], [0.6702982820000001], [0.546595316], [0.591665146], [0.42155819], [0.6856085590000001], [0.340303024], [0.675626741], [0.319067345], [0.38849966399999997], [0.706949589], [0.559409515], [0.687663508], [0.7088045540000001], [0.6818880940000001], [0.42253510899999996], [0.320004605], [0.6582813679999999], [0.634154867], [0.7773320090000001], [0.812677205], [0.074280797], [0.39600217], [0.054933913], [0.825058925], [0.382642009], [0.8687298179999999], [0.588043346], [0.891551577], [0.10920046], [0.647682781], [0.724342512], [0.07016304400000001], [0.280882054], [0.039113261], [0.579641592], [0.639000922], [0.281745925], [0.647857744], [0.6479057970000001], [0.875226264], [0.567603305], [0.262940591], [0.268026042], [0.40519133], [0.479965451], [0.33552403], [0.777165379], [0.42548796299999997], [0.237986115], [0.142522971], [0.724176488], [0.234698933], [0.07818228099999999], [0.855990155], [0.270251765], [0.435517841], [0.762697513], [0.46448725799999996], [0.396112685], [0.37638092100000003], [0.29459467699999997], [0.6944921209999999], [0.622767949], [0.8475597220000001], [0.301463054], [0.912937812], [0.500017182], [0.902587935], [0.304517943], [0.299165673], [0.092014087], [0.488548917], [0.664664437], [0.26534954899999996], [0.723657021], [0.149262385], [0.04577339], [0.69661064], [0.42181486], [0.733845785], [0.418795386], [0.677443529], [0.26128360300000003], [0.268527767], [0.5443222360000001], [0.431632036], [0.981018141], [0.21498072399999998], [0.39472999299999995], [0.122224944], [0.297496875], [0.37490443100000004], [0.68698771], [0.388549207], [0.039296071], [0.73553424], [0.37929489299999997], [0.7321233859999999], [0.33922143899999996], [0.659450594], [0.054838642], [0.640112102], [0.30714170399999996], [0.39661190700000004], [0.420439161], [0.24171497399999997], [0.065893153], [0.9105219370000001], [0.697163103], [0.072559853], [0.81825094], [0.311888815], [0.961644609], [0.816325524], [0.14647302], [0.548753945], [0.946158087], [0.293992717], [0.331479643], [0.9062200309999999], [0.525540416], [0.83301411], [0.514849806], [0.574609024], [0.46871185299999996], [0.71002775], [0.645973276], [0.229794416], [0.551783393], [0.055822990999999995], [0.331750941], [0.715520198], [0.583924357], [0.30695769100000003], [0.7914782370000001], [0.16423663900000002], [0.065711219], [0.948993132], [0.080423835], [0.052495426], [0.566346135], [0.3630266], [0.605442195], [0.6308505839999999], [0.065791238], [0.28681707100000003], [0.685462839], [0.260853706], [0.659122429], [0.44317392200000005], [0.602063986], [0.060366910999999995], [0.781903153], [0.5145798070000001], [0.48388621299999995], [0.600213807], [0.49736405200000006], [0.411145245], [0.116999171], [0.34189014100000004], [0.746950848], [0.39629274600000003], [0.6221438429999999], [0.335271141], [0.140257137], [0.081620681], [0.069837569], [0.46894000799999996], [0.9908574170000001], [0.896616832], [0.255310561], [0.22464526699999998], [0.01991825], [0.296480415], [0.155458996], [0.577916714], [0.9563030309999999], [0.813464394], [0.529675785], [0.287671353], [0.48039136], [0.28104482199999997], [0.633196521], [0.09332537699999999], [0.28447398100000004], [0.052223775], [0.051129385], [0.967405608], [0.040045727999999996], [0.9085829209999999], [0.6621174160000001], [0.42470320899999997], [0.72207806], [0.666193327], [0.509681253], [0.7513536209999999], [0.279073124], [0.074927], [0.916359535], [0.31040327], [0.716604052], [0.485587085], [0.30607518100000003], [0.477558204], [0.7119239409999999], [0.066348638], [0.27453935100000004], [0.31082252], [0.47607312700000004], [0.186795565], [0.26654207], [0.070231142], [0.26951927], [0.800004713], [0.27363366699999997], [0.14647919199999998], [0.378318951], [0.373849065], [0.242170835], [0.249796488], [0.066591188], [0.372956798], [0.501812291], [0.313097752], [0.8802021959999999], [0.51981893], [0.364138746], [0.49268289600000004], [0.285732652], [0.890114985], [0.316419561], [0.26866354], [0.771975959], [0.968888992], [0.080334377], [0.7368282209999999], [0.30055807100000004], [0.9179503929999999], [0.465815039], [0.054036682], [0.963150123], [0.08965350300000001], [0.7076932340000001], [0.636416037], [0.539521117], [0.114757161], [0.357312419], [0.67639834], [0.43482839], [0.032326387000000005], [0.711365605], [0.187486519], [0.052789653], [0.5058636129999999], [0.927431873], [0.6809842559999999], [0.882822186], [0.495705441], [0.596240398], [0.320610701], [0.3413685], [0.159681797], [0.318133669], [0.8393010479999999], [0.06435925099999999], [0.470216633], [0.7762522909999999], [0.635843383], [0.62510543], [0.52959065], [0.986900166], [0.078585688], [0.233284267], [0.363330957], [0.7167169809999999], [0.37588979200000006], [0.223316889], [0.299343986], [0.538595767], [0.730297124], [0.66033077], [0.435296009], [0.326494313], [0.854402708], [0.5734938470000001], [0.757786135], [0.704743233], [0.281575597], [0.671968208], [0.313726015], [0.364338275], [0.368216396], [0.38629520700000003], [0.655971865], [0.5660252729999999], [0.424999093], [0.090110371], [0.772350538], [0.331047258], [0.273716188], [0.23877568], [0.37307977200000003], [0.331185868], [0.256134531], [0.678373225], [0.43463833799999996], [0.654668307], [0.986681065], [0.371520495], [0.408359618], [0.40932365], [0.283412082], [0.395246531], [0.010984428000000001], [0.306013869], [0.266194806], [0.299318521], [0.318293946], [0.74282591], [0.09766432900000001], [0.079666942], [0.613258767], [0.99443072], [0.568835082], [0.7080345159999999], [0.37059271899999996], [0.669867361], [0.651295625], [0.462531569], [0.7196256190000001], [0.45377248], [0.394863946], [0.323974831], [0.146454724], [0.7790670409999999], [0.401828915], [0.601479585], [0.856423023], [0.565242962], [0.301225108], [0.282108144], [0.594378011], [0.705312368], [0.5408696279999999], [0.319249574], [0.36176613799999996], [0.625000704], [0.316287401], [0.047239021], [0.801182233], [0.508474436], [0.8178934109999999], [0.399235601], [0.9740519990000001], [0.72241535], [0.039564764], [0.908684108], [0.47301013399999997], [0.7180496279999999], [0.7634790690000001], [0.6475965370000001], [0.8949973859999999], [0.22282590100000002], [0.359012234], [0.944910252], [0.297877816], [0.172517997], [0.556586265], [0.876481735], [0.48667784299999994], [0.459496733], [0.47412637700000004], [0.70101144], [0.337597387], [0.537578886], [0.966992448], [0.056849545], [0.233249065], [0.380054711], [0.602929443], [0.303847999], [0.170194553], [0.972168554], [0.332168927], [0.6887286890000001], [0.110773401], [0.273352065], [0.572939678], [0.491457065], [0.281389999], [0.821697261], [0.6749776829999999], [0.585134549], [0.7105961159999999], [0.040488789], [0.568054311], [0.321752928], [0.611850232], [0.926096887], [0.618347428], [0.667629785], [0.39773346600000004], [0.290875487], [0.594375103], [0.508255233], [0.338571357], [0.43230234700000003], [0.302221978], [0.87619819], [0.080204492], [0.092333532], [0.09365644699999999], [0.6084523510000001], [0.732654598], [0.944158855], [0.26742308], [0.731124201], [0.661308553], [0.38776626200000003], [0.962585273], [0.322067067], [0.6340810929999999], [0.475345002], [0.35355897299999994], [0.8859363159999999], [0.876798106], [0.221581064], [0.394362449], [0.8050356759999999], [0.452898486], [0.592520516], [0.761026394], [0.245049023], [0.37213936299999995], [0.681054822], [0.7471431479999999], [0.9207395290000001], [0.097207945], [0.699302998], [0.721647006], [0.5353561139999999], [0.738293805], [0.7064675509999999], [0.67395061], [0.7112122909999999], [0.302558708], [0.080097855], [0.707010837], [0.512248622], [0.659627472], [0.657559694], [0.100645606], [0.92665363], [0.892879338], [0.839157508], [0.890959718], [0.556754471], [0.960361937], [0.631037864], [0.029838065], [0.278843351], [0.926157705], [0.551504258], [0.485942349], [0.43723469600000003], [0.25231801800000003], [0.515466972], [0.43725229600000004], [0.493724207], [0.83324725], [0.317521477], [0.28623456199999997], [0.726833965], [0.495667033], [0.028645255], [0.31967191699999997], [0.674344598], [0.7660371890000001], [0.65456992], [0.7565143809999999], [0.528253719], [0.38971949100000003], [0.355087459], [0.87015202], [0.7390833059999999], [0.305761846], [0.411587673], [0.063633094], [0.735409395], [0.605916669], [0.539395562], [0.566183532], [0.674795186], [0.070993366], [0.12526410000000002], [0.279601492], [0.952174402], [0.233806762], [0.43724742899999997], [0.925423095], [0.433498634], [0.52517902], [0.088435529], [0.447677638], [0.647000631], [0.9036033370000001], [0.265790738], [0.66419695], [0.498120658], [0.49018894399999996], [0.747084187], [0.906783648], [0.678770917], [0.348599859], [0.294839683], [0.705691827], [0.211917931], [0.063201124], [0.276699543], [0.672459395], [0.8082059490000001], [0.296538373], [0.16012686199999998], [0.439385032], [0.555951416], [0.386240112], [0.158689619], [0.214499855], [0.299579429], [0.569161656], [0.488614799], [0.8782950209999999], [0.649380949], [0.465713341], [0.16813774], [0.87529545], [0.8411323409999999], [0.33292081], [0.5130478589999999], [0.30505507800000004], [0.8126269909999999], [0.25096706], [0.5024355779999999], [0.45799074100000003]], \"hoverlabel\": {\"namelength\": 0}, \"hovertemplate\": \"0=%{x}<br>1=%{y}<br>2=%{z}<br>Feature=%{customdata[0]}<br>Anomaly=%{marker.color}\", \"legendgroup\": \"\", \"marker\": {\"color\": [0, 0, 1, 1, 0, 0, 0, 1, 1, 0, 0, 1, 0, 0, 1, 0, 0, 1, 1, 0, 1, 0, 0, 1, 1, 1, 0, 0, 1, 1, 0, 0, 0, 1, 1, 1, 0, 0, 0, 0, 0, 0, 0, 1, 0, 0, 0, 0, 0, 0, 0, 1, 0, 1, 0, 1, 0, 0, 0, 1, 0, 0, 0, 1, 0, 0, 1, 0, 0, 1, 0, 0, 0, 0, 0, 0, 0, 0, 0, 0, 0, 0, 0, 0, 0, 0, 0, 0, 0, 0, 0, 0, 0, 0, 0, 0, 0, 0, 0, 0, 0, 0, 0, 0, 0, 0, 0, 0, 0, 0, 0, 0, 0, 0, 0, 0, 0, 0, 0, 0, 0, 0, 0, 0, 0, 0, 0, 0, 0, 0, 1, 0, 0, 0, 0, 0, 0, 0, 0, 0, 0, 0, 0, 0, 0, 0, 0, 0, 0, 0, 0, 0, 0, 0, 0, 0, 0, 0, 0, 0, 0, 0, 0, 0, 0, 0, 0, 0, 0, 0, 0, 0, 0, 0, 0, 0, 0, 0, 0, 0, 0, 0, 0, 0, 0, 0, 0, 0, 0, 0, 0, 0, 0, 0, 0, 0, 0, 0, 1, 0, 0, 0, 0, 0, 0, 0, 0, 0, 0, 0, 0, 0, 0, 0, 0, 0, 0, 0, 0, 0, 0, 0, 0, 0, 0, 0, 0, 0, 0, 0, 0, 0, 0, 0, 0, 0, 0, 0, 0, 0, 0, 0, 0, 0, 0, 0, 0, 0, 0, 0, 0, 0, 0, 0, 0, 0, 0, 0, 0, 0, 0, 0, 0, 0, 0, 0, 0, 0, 0, 0, 0, 0, 0, 0, 0, 0, 0, 0, 0, 0, 0, 0, 0, 0, 0, 0, 0, 0, 0, 0, 0, 0, 0, 0, 0, 0, 0, 0, 0, 0, 0, 0, 0, 0, 0, 0, 0, 0, 0, 0, 0, 0, 0, 0, 0, 0, 0, 0, 0, 0, 0, 0, 0, 0, 0, 0, 0, 0, 0, 0, 0, 0, 0, 0, 0, 0, 0, 0, 0, 0, 0, 0, 0, 0, 0, 0, 0, 0, 0, 0, 0, 0, 0, 0, 0, 0, 0, 0, 0, 0, 0, 0, 0, 0, 0, 0, 0, 0, 0, 0, 0, 0, 0, 0, 0, 0, 0, 0, 0, 0, 0, 0, 0, 0, 0, 0, 0, 0, 0, 0, 0, 0, 1, 0, 0, 0, 0, 0, 0, 0, 0, 0, 0, 0, 0, 0, 0, 0, 1, 0, 0, 0, 0, 0, 0, 0, 0, 0, 0, 0, 0, 0, 0, 0, 0, 0, 0, 0, 0, 0, 0, 0, 0, 0, 0, 0, 0, 0, 0, 0, 0, 0, 0, 0, 0, 0, 0, 0, 0, 0, 0, 0, 0, 0, 0, 0, 0, 0, 0, 0, 0, 0, 0, 0, 0, 0, 0, 0, 0, 0, 0, 0, 0, 0, 0, 0, 0, 0, 0, 0, 0, 0, 0, 0, 0, 0, 0, 0, 0, 0, 0, 0, 0, 0, 0, 0, 0, 0, 0, 0, 0, 0, 0, 0, 0, 0, 0, 0, 0, 0, 0, 0, 0, 0, 0, 0, 0, 0, 0, 0, 0, 0, 0, 0, 0, 0, 0, 0, 0, 0, 0, 0, 0, 0, 0, 0, 0, 0, 0, 0, 0, 0, 0, 0, 0, 0, 0, 0, 0, 0, 0, 0, 0, 0, 0, 0, 0, 0, 0, 0, 0, 0, 0, 0, 0, 0, 0, 0, 0, 0, 0, 0, 0, 0, 0, 0, 0, 0, 0, 0, 0, 0, 0, 0, 0, 0, 0, 0, 0, 0, 0, 0, 0, 0, 0, 0, 0, 0, 0, 0, 0, 0, 1, 0, 0, 0, 0, 0, 0, 0, 0, 0, 0, 0, 0, 0, 0, 0, 0, 0, 0, 0, 0, 0, 0, 0, 0, 0, 0, 0, 0, 0, 0, 0, 0, 0, 0, 0, 0, 0, 0, 0, 0, 0, 0, 0, 0, 0, 0, 0, 0, 0, 0, 0, 0, 0, 0, 0, 0, 0, 0, 0, 0, 0, 0, 0, 0, 0, 0, 0, 0, 0, 0, 0, 0, 0, 0, 1, 0, 0, 1, 0, 0, 0, 0, 0, 0, 0, 0, 0, 0, 0, 0, 0, 0, 0, 0, 0, 0, 0, 1, 1, 0, 1, 0, 0, 0, 1, 1, 0, 1, 0, 0, 1, 0, 0, 0, 1, 1, 0, 1, 0, 1, 1, 1, 0, 0, 0, 1, 0, 0, 0, 0, 0, 0, 0, 0, 0, 0, 0, 0, 0, 0, 0, 0, 0, 0, 0, 0, 0, 0, 0, 0, 0, 0, 0, 0, 0, 0, 0, 0, 0, 0, 0, 0, 0, 0, 0, 0, 0, 0, 0, 0, 0, 0, 0, 0, 0, 0, 0, 0, 0, 0, 0, 0, 0, 0, 0, 0, 0, 1, 0, 0, 0, 0, 0, 0, 0, 0, 1, 0, 0, 0, 0, 0, 0, 0, 0, 0, 0, 0, 0, 0, 0, 0, 0, 0, 0, 0, 0, 0, 0, 0, 0, 0, 0, 0, 0, 0, 0, 0, 0, 0, 0, 0, 0, 0, 0, 0, 0, 0, 0, 0, 0, 0, 0, 0, 0, 0, 0, 0, 0, 0, 0, 0, 0, 0, 0, 0, 0, 0, 0, 0, 1, 0, 0, 0, 0, 0, 0, 0, 0, 0, 0, 0, 0, 0, 0, 0, 0, 0, 0, 0, 0, 0, 0, 0, 0, 0, 0, 0, 0, 0, 0, 0, 0, 0, 0, 0, 0, 0, 0, 0, 0, 0, 0, 0, 0, 0, 0, 0, 0, 0, 0, 0, 0, 0, 0, 0, 0, 0, 0, 0, 0, 0, 0, 0, 0, 0, 0, 0, 0, 0, 0, 0, 0, 0, 0, 0, 0, 0, 0, 0, 1, 0, 0, 0, 0, 0, 0, 0, 0, 0, 0, 0, 0, 0, 0, 0, 0, 0, 0, 0, 0, 0, 0, 0, 0, 0, 0, 0, 0, 0, 0, 0, 0, 0, 0, 0, 0, 0, 0, 0, 0, 0, 0, 0, 0, 0, 0, 0, 0, 0, 0, 0, 0, 0, 0, 0, 0], \"coloraxis\": \"coloraxis\", \"opacity\": 0.7, \"symbol\": \"circle\"}, \"mode\": \"markers\", \"name\": \"\", \"scene\": \"scene\", \"showlegend\": false, \"type\": \"scatter3d\", \"x\": [-7.030492305755615, -0.09567906707525253, -2.615267753601074, 5.291194915771484, -5.843893051147461, 2.503120183944702, 0.0458361878991127, 4.339041233062744, -5.572418689727783, -6.952805042266846, 3.040365219116211, 0.07885553687810898, 8.0653076171875, -6.9362969398498535, 2.14553165435791, 6.2712016105651855, 7.970867156982422, 6.894559860229492, -2.1524507999420166, 5.782400131225586, 2.6073527336120605, -2.4259181022644043, -5.8353447914123535, -5.305306911468506, -3.142813205718994, 0.43275630474090576, -0.6752538084983826, -2.993431568145752, 4.144400596618652, 1.1222751140594482, -4.464591979980469, 1.0256763696670532, -1.4074703454971313, 3.523798704147339, -4.072198867797852, -1.2725951671600342, 6.356473922729492, -3.0224926471710205, -3.65006160736084, 1.7927089929580688, 3.4461169242858887, 2.8804662227630615, 2.4337732791900635, -1.2234761714935303, 1.554761290550232, 7.03773832321167, 2.509620189666748, -5.235458850860596, -0.10724121332168579, 1.6089608669281006, 7.3355231285095215, -1.5817067623138428, -3.934584140777588, 6.7849345207214355, 2.546550989151001, 8.305739402770996, 1.5350911617279053, -6.1845526695251465, 3.4992544651031494, 0.8766738772392273, -4.905486106872559, 1.2274954319000244, 2.27292537689209, 2.9773309230804443, 3.879103660583496, 2.8731143474578857, -1.5245212316513062, 7.1329731941223145, -0.5637405514717102, -0.47667109966278076, 1.6581746339797974, 4.722926616668701, -5.435939788818359, 5.664198875427246, -0.9018957614898682, -4.963007926940918, -0.3977263271808624, 2.2640628814697266, -1.792249083518982, -5.498339653015137, -5.573468208312988, -6.119006156921387, -3.8128154277801514, 1.5110887289047241, 1.4506839513778687, 1.9572237730026245, 4.184838771820068, 2.8560643196105957, -0.7102482318878174, -5.341903209686279, -2.424981117248535, 3.573341131210327, 1.8765186071395874, 0.3303455114364624, 6.521561145782471, 1.8319591283798218, -1.3323146104812622, 2.469062566757202, -2.9162492752075195, -1.0450632572174072, -5.43123722076416, 2.2350311279296875, 2.0073280334472656, -3.8391809463500977, 8.393372535705566, -2.633641004562378, 3.94097638130188, 4.734561443328857, -1.7036749124526978, 3.0685689449310303, -4.464995384216309, -7.351627349853516, 3.8772592544555664, -4.824090480804443, -3.3369691371917725, -5.722405910491943, 4.296372413635254, 0.282205730676651, 5.158938884735107, -2.3715505599975586, -5.756918430328369, -1.3764526844024658, 5.681828498840332, 3.4899604320526123, 1.2662750482559204, 0.6219155192375183, 6.704684734344482, 4.680315017700195, 1.3017305135726929, 0.6981030702590942, -3.06524920463562, -1.989546537399292, 7.238482475280762, 2.5771920680999756, 3.2803432941436768, -6.903290748596191, -4.399596214294434, 7.5801310539245605, -0.5765043497085571, -1.621559977531433, 5.408866882324219, -3.9816431999206543, -4.3458051681518555, -3.91111421585083, -1.660521149635315, -4.063791751861572, 1.9760088920593262, 0.7688831090927124, -0.6333394050598145, 4.144976615905762, -4.284250736236572, -4.258138656616211, 4.448738098144531, -4.596121788024902, -3.5152509212493896, -0.6854842901229858, 0.5706899166107178, 3.8632729053497314, -0.4938468933105469, 3.5975451469421387, 3.330785036087036, -5.541194438934326, -1.810785174369812, -3.2083380222320557, 3.3206021785736084, 3.7379865646362305, 6.227962493896484, 0.6965222954750061, -0.5202599763870239, 1.6272263526916504, 3.473328113555908, 2.7383615970611572, -0.17642587423324585, -3.918870687484741, 0.6672899127006531, 3.0376360416412354, 1.570398211479187, -3.372049570083618, -0.45411670207977295, 6.782646656036377, 1.820626974105835, -1.367937445640564, 2.81819486618042, -0.5337234139442444, 0.03212398663163185, 3.205984354019165, 0.7431818246841431, -3.027985095977783, -6.414029598236084, -4.645428657531738, 1.3930788040161133, -3.9293150901794434, 3.7527964115142822, -3.6731607913970947, 5.719828128814697, 1.7270656824111938, 2.6906421184539795, 5.8726091384887695, -4.7469940185546875, 1.5964630842208862, -3.0462915897369385, -1.3986204862594604, 5.489039897918701, -3.5082263946533203, -2.8965678215026855, 1.1157814264297485, -6.634768009185791, -2.750608444213867, -0.7431418299674988, -2.774430751800537, 0.7129775881767273, -0.7333022952079773, 3.423736810684204, -5.455366134643555, -1.4035227298736572, 0.30100709199905396, -2.053474187850952, 1.1178267002105713, 3.0444958209991455, -2.352001428604126, -3.076843738555908, 2.42010235786438, -2.6591014862060547, -2.037846326828003, 4.9211745262146, -6.8556952476501465, 2.297318935394287, -7.315440654754639, 3.6511728763580322, -3.5220348834991455, 1.4696447849273682, 2.103499412536621, 6.238056659698486, 7.32487154006958, -0.8189684152603149, 2.5446720123291016, -3.574793815612793, -5.4443535804748535, 4.548677921295166, -4.065089702606201, -2.2970573902130127, 4.976834774017334, -2.414093494415283, 1.8282208442687988, 2.953181028366089, 4.556649208068848, -5.930490016937256, -0.9465537071228027, 1.8213109970092773, -5.3311944007873535, -6.155796527862549, -0.29716700315475464, 4.496890544891357, -5.102174758911133, -3.217231273651123, -4.079784870147705, -6.719098091125488, 1.5805131196975708, -3.417076587677002, -1.9268699884414673, -3.631746768951416, -4.098423957824707, -4.802486419677734, 2.484842538833618, -6.200838088989258, 1.7766886949539185, 7.621224403381348, 4.954825401306152, -1.6858106851577759, 6.2570977210998535, 4.272254467010498, 4.539730072021484, -7.088486194610596, -3.5244102478027344, 3.23431396484375, -2.656036138534546, 1.8010329008102417, -3.863029956817627, 3.8200178146362305, -6.3457465171813965, 2.4154436588287354, -3.360898733139038, -5.266759872436523, -4.975379943847656, -2.70546555519104, 4.418336391448975, -0.6457957029342651, 2.1036367416381836, 3.2660393714904785, -5.082553386688232, -4.240102767944336, 3.9869577884674072, 4.048140525817871, 3.6382267475128174, 1.7295105457305908, 2.1603455543518066, 1.8274468183517456, -3.4936609268188477, 3.356843948364258, -5.351222991943359, 1.2505780458450317, 1.1741626262664795, 2.3983633518218994, 3.7816162109375, 0.6819177269935608, -1.2190539836883545, 3.7841579914093018, -2.2780308723449707, 2.6492159366607666, -0.34248459339141846, -0.19739963114261627, 0.4655957818031311, -1.7899099588394165, -3.9949865341186523, 1.7459920644760132, -7.120739936828613, 1.4711202383041382, 0.5986599326133728, -0.9163008332252502, 5.214280128479004, 1.825421929359436, -3.622314691543579, 5.677759170532227, 0.1757839173078537, -6.949151515960693, -3.488046884536743, 7.562272071838379, 6.7812418937683105, -0.8554821014404297, 1.6095637083053589, 5.053541660308838, 0.3816394805908203, -3.0559868812561035, -1.942108154296875, 3.1085617542266846, -0.7550168037414551, 0.7706789374351501, -7.489444255828857, 1.1501203775405884, -0.8826473951339722, -7.92392110824585, -5.057426452636719, 5.3325982093811035, -4.292568206787109, 4.685916423797607, -2.1394541263580322, 2.3939895629882812, 3.153104305267334, 4.594086170196533, 0.27709805965423584, -0.8892137408256531, -7.513232707977295, -2.6309282779693604, 4.753835678100586, -0.6721899509429932, -5.595818996429443, -2.74489688873291, 0.6918789148330688, 1.9767529964447021, -1.3886953592300415, 0.8455290794372559, 2.668057918548584, -5.437081813812256, 1.944234013557434, 5.29334020614624, -1.8684892654418945, 4.025230884552002, 2.608703374862671, 1.7628438472747803, 5.088696002960205, 4.904366970062256, -2.0837459564208984, -1.594314694404602, 0.2623162269592285, 5.6817216873168945, 4.077465057373047, -2.2254533767700195, 1.828679084777832, 5.3991193771362305, -3.383802652359009, 4.036588668823242, -2.801241636276245, -1.657362699508667, -5.680212020874023, 1.2253268957138062, -0.855151355266571, 4.117333889007568, 4.120193958282471, 1.900649070739746, -6.494792938232422, 0.5550330877304077, -1.6479521989822388, -8.2565336227417, -5.004729270935059, -1.4909552335739136, 4.736984729766846, -2.718883991241455, 3.191025733947754, -3.4043161869049072, -5.996467113494873, -2.6633365154266357, -0.0235330481082201, 0.13902755081653595, 1.8309781551361084, 4.729451656341553, 4.346441745758057, -0.7238014936447144, -3.956037998199463, 3.9042327404022217, 4.555137634277344, 2.9241487979888916, -5.239823818206787, 4.2996344566345215, -1.75654935836792, 3.547736644744873, 2.3602380752563477, 3.5400426387786865, -0.2305181622505188, 6.9639692306518555, -1.7637176513671875, -6.727855205535889, 3.912022352218628, 2.6740996837615967, -1.1170912981033325, -0.11845256388187408, 3.4372169971466064, 1.069276213645935, 1.2094149589538574, -5.553674697875977, -0.2549896538257599, -5.572786808013916, 2.269125461578369, 1.0577781200408936, 2.793471336364746, 2.174337148666382, 2.9261295795440674, 0.0894036740064621, -1.8012138605117798, -1.9012575149536133, -2.241546630859375, -3.1887733936309814, -1.9365668296813965, -2.8803000450134277, -0.5644127130508423, -1.1419426202774048, 1.2280093431472778, 2.302535057067871, -2.396624803543091, -3.9134068489074707, -0.9217557311058044, 0.16090980172157288, -3.8861823081970215, 3.4987523555755615, -1.3511711359024048, 3.3340272903442383, 6.6717915534973145, 2.342777967453003, -4.104889392852783, -1.5844045877456665, -5.432535171508789, 1.762987732887268, -1.82168447971344, 3.2116425037384033, -5.578250885009766, -3.366096019744873, -2.386525869369507, -1.7207165956497192, 2.668473243713379, 3.5313313007354736, -1.367395281791687, -6.008713245391846, -0.7318103313446045, 3.878922462463379, -6.032546043395996, 4.692264080047607, 4.984797954559326, 1.6407173871994019, 0.43387991189956665, -7.288745403289795, 1.0824209451675415, 2.583587408065796, 0.8835933208465576, 0.5487233400344849, -0.45059069991111755, 3.6724159717559814, -1.2023842334747314, 3.399728298187256, -6.104242324829102, -7.1058478355407715, -5.09670352935791, -2.060476303100586, 2.167785882949829, -1.6991536617279053, 2.7493598461151123, -2.0986242294311523, 1.553421974182129, 5.11722469329834, 3.4711740016937256, -3.3469412326812744, -5.211393356323242, -0.6042925715446472, -2.986497402191162, -2.8254787921905518, -0.5007851123809814, -5.625734329223633, -4.758510112762451, -0.5832549333572388, 1.7844574451446533, -6.262796878814697, -2.044318675994873, -3.9062764644622803, 3.6703951358795166, 4.143730640411377, -0.3631143271923065, -3.0099945068359375, -2.0794930458068848, -5.863511085510254, -0.9283103942871094, -0.7911308407783508, 4.688506603240967, -6.403708457946777, -2.8665993213653564, -2.360874891281128, -0.5302766561508179, 2.4592816829681396, 5.269820213317871, -5.954276084899902, 1.3419137001037598, 0.8118107318878174, -7.790992736816406, 2.1830859184265137, 3.425947427749634, 5.0143141746521, 5.236108779907227, 3.1242082118988037, -0.4314497709274292, 3.705397129058838, -2.837392568588257, -5.812985897064209, 6.097878456115723, -1.291890263557434, 2.0226972103118896, 3.16872239112854, -1.3163766860961914, 3.4546375274658203, 6.646307945251465, -3.3668148517608643, 3.4917404651641846, 1.3999078273773193, -4.3920578956604, -1.8328254222869873, -4.824037075042725, -1.651559591293335, -0.5011747479438782, -2.587742328643799, 0.4151485562324524, 4.464352130889893, -0.02636604756116867, 7.569674968719482, -3.9072818756103516, -0.9608244895935059, 3.417616128921509, -2.3857274055480957, 1.360550045967102, -1.1168512105941772, -5.489058971405029, 2.1004273891448975, -2.690683126449585, 0.18326328694820404, 1.455052375793457, -6.229860305786133, 2.686227560043335, 3.9193074703216553, 0.2280036062002182, 1.6478761434555054, 0.37630417943000793, -0.09002794325351715, 2.7843680381774902, -5.500946998596191, -5.352451801300049, -6.4334397315979, -3.6110823154449463, 0.191739022731781, -0.11682336032390594, 2.832810878753662, -6.808234214782715, -7.8464250564575195, 4.630536079406738, 4.252976894378662, 3.864311695098877, 0.6936339139938354, 0.41738203167915344, -5.109824180603027, 4.067162036895752, -3.874994993209839, -4.745605945587158, 4.763767242431641, 3.6138696670532227, 0.2913745045661926, -0.6489949822425842, 6.228679656982422, -2.5784990787506104, -2.6420364379882812, 1.5116864442825317, 0.6728673577308655, -0.7466369867324829, 6.136048316955566, 1.456034779548645, -1.7263373136520386, 0.37281864881515503, -2.270223617553711, -5.756186008453369, -5.2026047706604, -7.609650611877441, -6.58665657043457, -1.4434618949890137, 1.554613709449768, -0.4994021952152252, 1.1526529788970947, -7.807684898376465, -5.512465000152588, -3.612924814224243, -6.261505126953125, -1.6183406114578247, -0.27958157658576965, 3.0536701679229736, 3.296527862548828, -3.978487014770508, -3.6039252281188965, -5.124102592468262, -5.18802547454834, 5.884936809539795, -0.04756341129541397, -3.279447317123413, -5.501314163208008, -5.889843940734863, -6.550276756286621, -5.23493766784668, 2.727867364883423, -4.279820442199707, -2.909228801727295, -2.773148775100708, 1.8141783475875854, -4.203351020812988, 1.1701306104660034, -0.8872038722038269, -1.167823076248169, -5.984766483306885, -3.5124783515930176, -7.893795967102051, 2.3171021938323975, 1.5662333965301514, -2.648768901824951, 6.852844715118408, 3.12873911857605, 0.03140122443437576, -2.147897243499756, -5.257831573486328, 4.410618782043457, 2.627412796020508, 1.9183344841003418, -2.9420974254608154, -3.6996288299560547, -6.1960248947143555, 2.56538987159729, -3.4796853065490723, 7.352169513702393, 2.3668384552001953, 5.899761199951172, 2.255749464035034, -1.8788514137268066, -5.357125759124756, -5.760685920715332, -4.935433387756348, 2.3242568969726562, -0.8450253009796143, -1.9249011278152466, 3.824575901031494, 2.981778860092163, 2.621539354324341, -0.589834451675415, 2.8849284648895264, -8.034229278564453, -0.039521053433418274, -3.6063811779022217, 2.543632745742798, -3.153186798095703, 3.33931303024292, 3.248823404312134, 0.9137012362480164, 1.8627099990844727, -0.5320242047309875, 3.7219831943511963, 3.2541615962982178, 4.881105422973633, 5.17024040222168, -2.473986864089966, -6.98866605758667, -1.7632277011871338, 0.18754330277442932, -0.07633667439222336, -5.65238094329834, -6.902612209320068, 4.168663501739502, -5.4897847175598145, 7.009159564971924, 4.249321937561035, 7.670682430267334, -6.318121433258057, -1.3383407592773438, 3.3201253414154053, 3.831785202026367, 2.292942762374878, 0.6305367946624756, 4.824441432952881, 1.8398098945617676, 2.456925868988037, 6.94715690612793, 4.897624969482422, 4.111886978149414, -2.186026096343994, 6.079410552978516, 3.9033405780792236, -1.54057776927948, 0.8188881874084473, -1.3529815673828125, -1.33948814868927, 5.81875467300415, 6.303755283355713, 1.573482632637024, 0.823374330997467, -0.49606889486312866, -4.973210334777832, -2.7894859313964844, 2.934102773666382, 2.631582021713257, -5.509459018707275, -2.8172483444213867, -2.825862169265747, -1.7030290365219116, -2.066697597503662, -5.23301887512207, -4.878483295440674, -3.06984543800354, -3.1847848892211914, -3.54290509223938, -6.730835914611816, 3.817497730255127, -4.047330379486084, 2.15609073638916, 0.06625960767269135, -1.763573169708252, 6.56729793548584, 5.600341796875, 2.0413403511047363, -3.4664902687072754, -5.624126434326172, -3.7279772758483887, 0.09749387204647064, 2.17383074760437, 0.19362220168113708, -5.932568073272705, 3.1481833457946777, 4.7151103019714355, -6.883308410644531, 2.9176247119903564, 4.36526346206665, -2.960650682449341, 0.3805628716945648, -4.042749881744385, -5.621836185455322, -6.474295616149902, -4.842678070068359, 1.4838838577270508, -4.004756450653076, 0.4756198823451996, -3.501929998397827, 1.0948271751403809, -0.007918987423181534, -3.09212327003479, -5.531256675720215, 3.541264772415161, 2.5710537433624268, -4.825087070465088, -1.2673722505569458, 1.1972860097885132, -1.6760845184326172, 2.547009229660034, -4.438989639282227, -7.903407096862793, 5.327165126800537, -5.681285381317139, -2.8399672508239746, -0.6653448343276978, 5.0379638671875, 2.444136142730713, 0.3844992220401764, -3.8786821365356445, -4.050516605377197, 0.29456770420074463, -1.225035548210144, -3.182818651199341, 0.00424277875572443, -0.32370465993881226, -4.200485706329346, 3.1541244983673096, -2.292978048324585, 1.0349100828170776, 5.3416876792907715, 5.811537265777588, -2.0325629711151123, -2.6381638050079346, -0.7176969051361084, -7.205270290374756, 2.668208360671997, -3.7145423889160156, 1.643966555595398, 3.504955530166626, 1.0104877948760986, 4.3589701652526855, 1.44622802734375, -4.003978729248047, -2.9963815212249756, 0.2673722803592682, 3.60309100151062, 0.09988666325807571, 5.147653102874756, -4.74705696105957, -2.621781587600708, 2.6213905811309814, 0.09577258676290512, -2.4513237476348877, 1.7624553442001343, -1.9282515048980713, -4.628225803375244, 0.6658515930175781, -0.9673959016799927, -4.570149898529053, 0.512829601764679, -2.3631210327148438, -4.829084396362305, -3.9614789485931396, 4.860222339630127, 3.7164902687072754, 1.6658110618591309, 3.4371893405914307, 4.379001617431641, -4.449405193328857, -5.153825283050537, 1.211472988128662, 4.444757461547852, -4.927751541137695, -3.6908681392669678, -5.258882522583008, 1.1433711051940918, 5.36482572555542, 0.23467572033405304, 1.7649893760681152, -5.43914270401001, -3.1182758808135986, -4.254506587982178, -5.772854328155518, -3.6309633255004883, -7.254269123077393, 4.296238422393799, 7.290565490722656, 0.7374491095542908, -7.438389778137207, 1.1536579132080078, -4.807880878448486, -0.48284071683883667, -1.4529392719268799, 4.2751994132995605, -5.65167760848999, 5.534618854522705, 4.1138224601745605, -1.4163986444473267, 0.6675504446029663, -5.316135406494141, -2.0651023387908936, -3.815263032913208, -0.1877850592136383, -5.426364421844482, 5.256430625915527, 3.2469964027404785, 4.028260231018066, -3.1239144802093506, 3.8160037994384766, -5.885950565338135, -1.36701238155365, -2.7282004356384277, -0.00044167693704366684, -0.3754514157772064, -6.290340423583984, -0.8599358201026917, -6.102993965148926, -6.1879563331604, 3.043124198913574, 1.3384976387023926, -2.045670747756958, 1.8867746591567993, -3.848004102706909, 0.32853174209594727, 3.3468849658966064, -6.839069843292236, -4.069445610046387, 2.200974225997925, 0.23742352426052094, -0.21572399139404297, -1.7503515481948853, 1.835973858833313, 4.484817028045654, 1.837288737297058, -0.5945747494697571, -1.87975013256073, -4.051810264587402, -6.192119598388672, 5.49970817565918, 1.8235634565353394, 3.5206873416900635, -5.159325122833252, 7.257147312164307, -2.336594343185425, -5.825429439544678, 5.4677228927612305, -4.021186828613281, 4.712277889251709, -6.2849907875061035, 3.2499587535858154, 5.508533000946045, -4.361462116241455, -1.4465532302856445, 4.03949499130249, 2.4617233276367188, 3.7544333934783936, -0.1994963437318802, -0.9437909722328186, -1.543452501296997, -0.3711920976638794, 1.8050742149353027, 0.023419179022312164, -3.022634983062744, -2.498687505722046, 4.226412296295166, -1.5145412683486938, -1.6377397775650024, -2.170694589614868, -3.1873903274536133, 3.2929728031158447, 4.802033424377441, -7.461183071136475, -3.40893292427063, 3.6607582569122314, 6.215939044952393, 4.262577533721924, 3.5507190227508545, 4.559287071228027, 1.9078446626663208, -2.125363349914551, -0.4332120716571808, 3.8579728603363037, 3.914292573928833, -3.288245677947998, -1.4269713163375854, -5.552779674530029, 3.953308343887329, 2.869490623474121, -0.5160847306251526, -1.0668151378631592, -2.960061550140381, 2.542682409286499, -4.449892044067383, -8.276387214660645, -3.6725354194641113, -6.305556297302246, 2.849794864654541, 1.3019630908966064, 1.4111217260360718, -4.94143009185791, 2.1286447048187256, -1.9005218744277954, -5.433538436889648, -3.732287883758545, 2.3081204891204834, 1.3511613607406616, -0.3158682882785797, 0.09922032803297043, 1.1438288688659668, 2.1130247116088867, -1.4369593858718872, 3.5554206371307373, -0.43778133392333984, -0.6219447255134583, -1.479701280593872, -0.5309404134750366, -6.424954891204834, -1.282905101776123, -4.846233367919922, 2.334928274154663, -0.6775336265563965], \"y\": [-4.119840621948242, 10.23245906829834, -11.114436149597168, -0.33338940143585205, -11.290873527526855, 0.6079934239387512, 13.841395378112793, 3.539161205291748, 1.9807744026184082, -2.994135618209839, 6.516711235046387, -13.520219802856445, 4.679103851318359, -4.992537021636963, -7.5911712646484375, -5.369618892669678, 4.788483619689941, 6.163980484008789, -11.157937049865723, -2.01839542388916, 0.41103067994117737, -7.752735137939453, -5.869757175445557, 2.5580692291259766, -3.16204833984375, -6.686946392059326, -12.625000953674316, -0.48641282320022583, -2.563716411590576, -1.3282148838043213, 0.606789231300354, 7.583735466003418, -5.589354515075684, -6.417635440826416, 1.8831908702850342, -6.323030948638916, -2.362165689468384, -0.8779864311218262, -7.221525192260742, 1.9287586212158203, 5.9765305519104, -3.3433687686920166, 3.6302273273468018, -1.9071224927902222, -4.5029144287109375, -5.038338661193848, -4.593674659729004, 2.4357261657714844, -13.293606758117676, 8.789381980895996, 6.684493064880371, -10.997304916381836, 0.8725383281707764, -5.0157880783081055, -0.00011417415225878358, 8.164412498474121, 3.229633092880249, 5.068955421447754, -5.726466655731201, -9.838313102722168, 5.344666957855225, -1.0848109722137451, -7.318029880523682, -2.826978921890259, 1.678249716758728, -4.445200443267822, 6.902904987335205, 5.648493766784668, -12.152493476867676, 3.0739893913269043, -2.36848783493042, 0.13481007516384125, -7.129803657531738, 4.021681308746338, -11.00984001159668, -6.6526665687561035, -10.0621919631958, -3.283297300338745, -9.47161865234375, -8.11932373046875, -7.432664394378662, -8.431262016296387, -7.774866104125977, -0.8945454955101013, 10.77067756652832, 5.114465713500977, 5.266523361206055, 9.104077339172363, 2.911106586456299, -10.001134872436523, -7.028810024261475, 5.383854389190674, 2.6530187129974365, 13.507287979125977, 11.027752876281738, -6.010673522949219, -0.38027223944664, 4.5220770835876465, 8.768259048461914, -9.047811508178711, -8.13803768157959, 7.7705793380737305, 4.171562671661377, 1.6962147951126099, 4.0763373374938965, -3.158676862716675, 0.06309784203767776, 7.450295448303223, -11.62039566040039, -2.638904571533203, -11.150416374206543, -8.74311351776123, 7.7855024337768555, -5.154598712921143, -11.768447875976562, -10.231630325317383, 14.336788177490234, 13.755428314208984, 1.5414464473724365, 9.766454696655273, -10.13770866394043, 1.2204337120056152, 6.399722099304199, 4.113918304443359, -2.945244550704956, 7.776261806488037, 9.666932106018066, 0.3874254524707794, 9.886621475219727, 7.4206767082214355, 4.275067329406738, 0.1045532301068306, 4.963809490203857, 11.17522144317627, 8.857742309570312, -4.3937835693359375, -8.509516716003418, 2.3135054111480713, 6.989218711853027, 2.833221912384033, 4.263293743133545, -9.26319694519043, 2.219280481338501, -9.543747901916504, 10.865376472473145, -5.533054351806641, 3.7234888076782227, 6.919851779937744, 8.274084091186523, -1.2029900550842285, -11.39077377319336, -7.9511590003967285, 2.9924631118774414, 3.062812089920044, -7.236738204956055, 0.17552238702774048, 9.275985717773438, 5.6804890632629395, -7.647546768188477, 3.0824217796325684, 14.49106502532959, 4.729634761810303, -6.334704399108887, -9.518342018127441, 1.145459532737732, 7.262696266174316, 3.9085214138031006, -0.4303775429725647, -8.212767601013184, -3.3149285316467285, 0.10256574302911758, 3.727842330932617, 1.0207139253616333, -10.12155818939209, -0.4037404954433441, 8.301758766174316, 0.5951979756355286, -9.701509475708008, 8.408550262451172, 0.8016456365585327, 1.4919638633728027, 2.5115983486175537, 7.220986843109131, -2.89877986907959, -1.1467549800872803, 14.571734428405762, -2.64571213722229, 4.417753219604492, -5.983086585998535, -7.933303356170654, 7.1073408126831055, -10.719717025756836, 5.858381271362305, -11.387381553649902, 12.006885528564453, 13.869205474853516, 2.5223114490509033, 6.871905326843262, -10.079617500305176, -2.370609760284424, 1.9998669624328613, 1.713783860206604, 10.629908561706543, -8.199045181274414, -11.010497093200684, 7.54792594909668, -9.338024139404297, 2.578946352005005, 3.3090004920959473, 7.167470932006836, -0.6785090565681458, -3.1985654830932617, -4.3206257820129395, -10.62289047241211, 1.3116812705993652, 1.2331676483154297, 7.079721450805664, -3.5548436641693115, -5.000197887420654, 3.178342342376709, -11.656783103942871, 6.408234596252441, -8.790507316589355, -11.298893928527832, 10.770350456237793, -9.500877380371094, 2.5485241413116455, -5.843939304351807, 8.876832008361816, -0.8311919569969177, 12.851300239562988, 2.7355751991271973, 1.8772855997085571, 1.8248789310455322, 12.372167587280273, 6.010461330413818, 5.962648391723633, -7.591673374176025, 0.2576743960380554, -9.390706062316895, 2.696800470352173, 4.205306529998779, -7.740141868591309, 9.669785499572754, 1.2826329469680786, 10.094472885131836, -5.278852939605713, -7.693812370300293, 2.3965883255004883, -6.874255657196045, 3.836669683456421, 1.7205849885940552, -0.1724994033575058, 4.647784233093262, -3.70646071434021, 4.006697177886963, -5.630612373352051, 10.781645774841309, -1.5120415687561035, 10.983406066894531, -8.082469940185547, 3.7242014408111572, -10.590940475463867, 0.7580101490020752, 2.3900790214538574, 9.370858192443848, 2.664048433303833, 11.972602844238281, -11.50234603881836, 5.037377834320068, 6.012475967407227, 11.971266746520996, -6.814239025115967, -7.60987663269043, 1.5766170024871826, 5.5570831298828125, -5.921709060668945, -10.9010591506958, 6.95400857925415, -5.746840953826904, 3.313230514526367, -7.399030685424805, -4.6634440422058105, -3.98311185836792, -11.35071849822998, 6.651707172393799, 7.922643661499023, 6.7254958152771, 10.574092864990234, -10.70675277709961, -10.692828178405762, 8.49327564239502, -0.2846159040927887, 6.41738748550415, -0.8552873730659485, 7.0077595710754395, 2.9489943981170654, -8.147259712219238, 0.4326157569885254, -5.197019577026367, 5.267235279083252, 12.24995231628418, -2.548663377761841, 1.350663185119629, 1.2908298969268799, -8.105512619018555, 4.508084297180176, -7.360965251922607, 5.8417510986328125, -1.4707067012786865, -0.714647114276886, 7.021243572235107, 1.5657018423080444, -8.762968063354492, 3.218836784362793, -5.970165729522705, -3.040313482284546, 11.277381896972656, -8.626259803771973, 10.266342163085938, 5.395963191986084, -5.8668317794799805, 0.6483083367347717, 5.115519046783447, -11.368603706359863, -6.630062103271484, 1.1805856227874756, 3.014029026031494, -6.086500644683838, 1.9454545974731445, 12.359003067016602, -4.898374080657959, 5.284984588623047, -1.6417452096939087, 8.588872909545898, -9.065720558166504, 7.005397796630859, -4.156460762023926, -2.5030386447906494, -4.500443458557129, -5.082921028137207, -5.0239057540893555, 1.7699936628341675, 3.882028818130493, 3.020301103591919, -6.854799270629883, 11.797356605529785, 8.151823043823242, 1.002463936805725, -4.617448329925537, 1.1712958812713623, -6.050966262817383, 11.394866943359375, 11.797889709472656, 7.941969394683838, -4.802281856536865, 1.5943646430969238, 6.022061347961426, -4.99452018737793, -7.278931617736816, 8.673087120056152, 5.007148265838623, 2.338693141937256, 5.4557952880859375, 1.3039767742156982, -6.199863433837891, -3.1802773475646973, 13.547504425048828, 10.779911041259766, 8.132766723632812, 3.7594094276428223, 2.632941961288452, -10.720650672912598, -6.126049041748047, 0.5701006054878235, 2.688347816467285, -9.631096839904785, 1.2299798727035522, 10.801234245300293, -8.563214302062988, 3.188352346420288, 1.612727165222168, -10.402859687805176, -6.521237850189209, 7.905498027801514, -0.569165050983429, -0.7896979451179504, -0.6931211352348328, -1.4211132526397705, -9.490721702575684, 6.640097141265869, -0.8640201091766357, -7.65700101852417, -7.604626178741455, 11.356507301330566, 11.75819206237793, -3.102428913116455, 0.8455883860588074, -6.224825382232666, -4.792171478271484, 9.617070198059082, 5.258020401000977, 6.9786529541015625, 7.891495704650879, 0.9344003200531006, 12.476150512695312, -9.879854202270508, 0.7356522679328918, 4.323948383331299, 6.724315643310547, 8.116435050964355, -8.395833969116211, -4.932969093322754, -7.660478115081787, 9.160757064819336, 3.161756753921509, 7.565585136413574, 9.86546802520752, 3.2842140197753906, -6.953893184661865, -9.606243133544922, 2.4049088954925537, 6.322106838226318, 8.869937896728516, -8.359230995178223, 9.736360549926758, 12.778319358825684, 1.674799919128418, -6.414599895477295, -9.641695022583008, -9.960107803344727, 14.668132781982422, -1.0177582502365112, 0.5373634099960327, -3.094081163406372, 0.7825108170509338, 11.0530366897583, -9.71900749206543, -11.167258262634277, -11.392775535583496, -3.7732481956481934, -8.614197731018066, -11.527000427246094, -9.569825172424316, 1.95399010181427, 1.4380061626434326, -1.9171308279037476, 4.250646114349365, -6.410891056060791, 3.905769109725952, 5.844344615936279, -9.10019302368164, 3.6122078895568848, -8.067427635192871, 6.716928482055664, 10.289908409118652, -0.5588663220405579, -8.368819236755371, -9.500682830810547, -7.617504119873047, 8.1542329788208, -10.788077354431152, 4.017895221710205, -5.973757266998291, 2.455624580383301, -7.171577453613281, -11.985787391662598, -0.7972269654273987, 7.725991249084473, -8.394989013671875, -9.832660675048828, 12.362862586975098, 4.87367057800293, -5.551205158233643, 2.5248327255249023, 11.95201301574707, 13.103191375732422, 0.4969231188297272, -3.302272319793701, 8.73432731628418, 5.518022060394287, -0.3883986473083496, 0.5818102955818176, -8.177916526794434, 14.501131057739258, -9.305037498474121, 2.7568318843841553, -6.3370680809021, -4.6583662033081055, -9.843063354492188, -7.124119281768799, 7.173096179962158, -0.24481365084648132, -2.65027117729187, -8.068780899047852, 3.090898036956787, 6.963709354400635, 4.5811448097229, 3.397717237472534, -10.435914039611816, 7.162132740020752, 0.25995248556137085, -7.374747276306152, 2.461460590362549, -5.865445613861084, -9.345959663391113, -9.925374984741211, 8.032264709472656, -7.0465240478515625, 1.7711890935897827, -11.749704360961914, 6.301791667938232, 3.6173596382141113, -4.018251419067383, -9.120671272277832, 3.7341318130493164, 3.90885066986084, -9.877028465270996, 0.8715737462043762, 4.446589469909668, -8.482038497924805, -6.675250053405762, -2.1717097759246826, -5.809345245361328, -5.583627223968506, 14.187819480895996, -5.591028690338135, 12.211010932922363, -0.5572289824485779, -6.998672008514404, 4.178807735443115, -3.2663004398345947, 4.203134536743164, 3.879610776901245, 5.771088600158691, -0.5090065002441406, 6.951261520385742, -8.757262229919434, -0.9978469610214233, 5.468988418579102, 3.5707457065582275, 3.247957468032837, 7.949147701263428, 8.653373718261719, 8.501709938049316, 5.344702243804932, -4.693070888519287, 2.3897149562835693, 2.3690478801727295, -4.813187599182129, 1.8534209728240967, -4.55314302444458, -11.152105331420898, -7.662887096405029, 4.9689412117004395, 3.5555198192596436, 4.215373516082764, -10.11617374420166, 2.3092591762542725, 4.268130302429199, -10.089659690856934, -4.956819534301758, 5.540255546569824, 4.975721836090088, 8.73287296295166, -8.978008270263672, 6.640040874481201, 0.4984469711780548, 4.044294834136963, 6.380036354064941, -5.243972301483154, 5.98677396774292, 2.13046932220459, -4.956503868103027, 8.745621681213379, -1.085982322692871, 9.896653175354004, 9.971386909484863, -4.413305282592773, -10.924818992614746, -8.801631927490234, -9.546221733093262, -6.743078708648682, 10.779163360595703, 5.768368721008301, -9.320531845092773, -6.34909725189209, 1.4381505250930786, 12.218894958496094, -3.2221758365631104, 5.456732273101807, 4.102862358093262, 3.644580602645874, 1.3225983381271362, 4.168978214263916, 2.0167815685272217, 1.5238738059997559, -4.101977348327637, 1.3124663829803467, -9.545724868774414, 2.6295433044433594, 1.4076076745986938, 1.5262960195541382, 13.927251815795898, 3.4647724628448486, 7.218143939971924, 3.0608761310577393, -6.339407444000244, 9.38886833190918, 4.544424533843994, -1.4494819641113281, -10.175943374633789, -8.7738618850708, -6.034876823425293, -5.232895851135254, 5.513177871704102, 2.2791802883148193, 3.5939440727233887, -3.0052130222320557, -6.7343058586120605, 2.4679367542266846, 2.036266803741455, 3.3198695182800293, 0.8845487833023071, -6.3393988609313965, 1.09797203540802, 14.217630386352539, -12.459487915039062, 1.9183435440063477, -6.155556678771973, 2.874302864074707, 6.519193172454834, -9.94819164276123, -7.19687557220459, -9.859004974365234, -1.2446694374084473, -10.867420196533203, 2.9209866523742676, 6.8914313316345215, 4.790767669677734, -10.894588470458984, 7.281027793884277, 13.604738235473633, -8.713953971862793, -5.524206161499023, -6.738826751708984, -8.847991943359375, -3.973703145980835, -4.897409915924072, -6.927544116973877, 2.498703956604004, 6.836864948272705, 2.2705013751983643, 3.928466796875, 8.29021167755127, 5.653402805328369, -8.704323768615723, -4.103195667266846, -1.5123635530471802, -2.645834445953369, -1.6918041706085205, 1.5625041723251343, 2.6042098999023438, -4.914910316467285, 2.846867561340332, 6.207880020141602, 2.0147476196289062, 11.659188270568848, 7.021939754486084, 7.822243690490723, 3.3600637912750244, -4.541947841644287, 4.10474967956543, 4.172164440155029, 2.4055404663085938, 2.1384150981903076, 7.780148029327393, 7.141453742980957, 1.8240854740142822, 10.995766639709473, -7.701707363128662, 3.8452327251434326, -5.512417793273926, 1.103186845779419, 6.900845527648926, 8.201544761657715, -5.58954381942749, 7.160720348358154, 5.87874698638916, -0.9627810716629028, -5.344369411468506, -0.32064101099967957, -4.912740707397461, 1.1722673177719116, 6.739415645599365, 3.9994044303894043, -7.6646409034729, -9.441688537597656, -7.672147750854492, -2.8441390991210938, 3.0039873123168945, 2.991232395172119, -5.021723747253418, -2.560478925704956, -4.055553913116455, 12.180554389953613, 4.528567314147949, 7.118293762207031, 1.365811824798584, -1.8758245706558228, -5.8906731605529785, 4.915727615356445, -3.6399800777435303, -6.641202449798584, -2.8252015113830566, 3.9546070098876953, 0.6429601311683655, -4.247279167175293, -2.9580681324005127, 1.9375959634780884, -11.163979530334473, 13.929636001586914, 2.0843608379364014, -10.986501693725586, -0.19520936906337738, -5.555117607116699, 3.1688191890716553, 4.237678527832031, -0.26689159870147705, 1.4494118690490723, -0.5315864086151123, -10.824838638305664, 3.8143975734710693, 11.137861251831055, -0.04005381837487221, 6.555367946624756, -10.314803123474121, -6.808638572692871, -8.283735275268555, -1.6653687953948975, -0.5750799775123596, -6.159137725830078, -4.985554218292236, -0.30157724022865295, -6.306276321411133, -8.336080551147461, -10.596835136413574, 6.818563461303711, -8.771382331848145, -2.0231642723083496, 9.312141418457031, -10.87980842590332, 11.630972862243652, 12.09030532836914, 3.777505874633789, -10.275283813476562, -8.073982238769531, 4.039560794830322, -4.355809688568115, 8.193464279174805, -2.5143914222717285, 4.195613384246826, 1.2859866619110107, 8.61292839050293, -5.606118679046631, 13.400867462158203, 12.580344200134277, -11.064319610595703, 11.5337553024292, -11.359634399414062, -7.797870635986328, -2.790266513824463, 2.112020254135132, 12.536109924316406, -5.845597743988037, 4.782967567443848, 1.8766968250274658, 2.350468397140503, -9.924071311950684, -4.935091495513916, -8.78084659576416, 13.072522163391113, 4.119987487792969, -11.190778732299805, -7.583740711212158, -1.9134752750396729, 4.8115386962890625, 2.8792197704315186, -9.898638725280762, -9.518904685974121, 1.2617425918579102, -6.859527111053467, -0.9335669875144958, -8.674797058105469, 12.819249153137207, 8.231314659118652, 2.6393074989318848, -7.040816307067871, -9.284523010253906, 6.540929317474365, 1.8866055011749268, 0.47075870633125305, -0.09893249720335007, 9.665528297424316, -9.951220512390137, 7.902071952819824, 4.068689346313477, 3.527798652648926, 4.7581000328063965, 3.3667445182800293, -9.317146301269531, 0.32084405422210693, -9.228073120117188, -8.989326477050781, 4.5005998611450195, -6.177494049072266, 4.821937561035156, 0.672573983669281, 0.3633834421634674, 2.188478946685791, 5.107409954071045, -8.252278327941895, -8.4393949508667, 4.384827613830566, 3.225832939147949, 12.288473129272461, 4.820105075836182, -9.312498092651367, -6.669849395751953, -3.8743832111358643, 3.6853272914886475, -7.664288520812988, -6.478774547576904, -0.4267025291919708, -8.549684524536133, 2.852900266647339, -10.9139986038208, -10.460131645202637, 5.19192361831665, 3.901057243347168, -9.332624435424805, 1.634817361831665, 1.862801432609558, 7.575126647949219, 11.480738639831543, 4.896312713623047, 5.481650352478027, -9.47114086151123, -11.293818473815918, -3.105670928955078, 4.043972969055176, -9.025872230529785, 3.7328503131866455, -9.655250549316406, -1.1332978010177612, 4.686727523803711, 0.9949211478233337, 7.391366481781006, -9.693024635314941, -0.9408764839172363, -7.607057571411133, -8.845670700073242, 4.886099815368652, -10.570480346679688, 4.302821636199951, 2.3729588985443115, 14.08489990234375, -9.422281265258789, 3.458991765975952, -9.340603828430176, 4.383276462554932, 1.979024052619934, 5.377777576446533, -11.514399528503418, 10.562254905700684, 0.9110928773880005, 11.62973403930664, 3.083888053894043, -3.1569952964782715, -9.802685737609863, -10.287088394165039, -6.099315643310547, -4.506604194641113, -0.7477709054946899, 1.100759506225586, 7.171419620513916, -5.237278938293457, 0.2042483240365982, -5.227200508117676, -1.538597822189331, -9.104836463928223, -1.2866350412368774, -7.397449493408203, -4.790449142456055, -2.5292651653289795, -8.133069038391113, -4.65946626663208, 9.13989543914795, -0.6535435914993286, 8.646930694580078, 6.22343111038208, 3.9969897270202637, 3.707639455795288, 0.4640209674835205, -11.53705883026123, -8.158282279968262, 2.8158793449401855, 7.145866394042969, -6.972898006439209, -11.0122652053833, 6.034386157989502, 1.2078912258148193, 2.40952730178833, -10.931649208068848, -0.8732312321662903, -12.452163696289062, -2.431586503982544, 6.1534905433654785, 7.240486145019531, 6.981520652770996, -8.81601333618164, 4.779144763946533, 9.486995697021484, -6.012069225311279, 4.772577285766602, -11.396855354309082, 12.18419361114502, -3.190769672393799, 0.5371450781822205, 5.052637577056885, -12.46963119506836, 2.744781494140625, 4.645225524902344, -0.9707334637641907, 1.3028939962387085, -9.301604270935059, -0.3104408085346222, -10.480080604553223, 8.699790000915527, 5.476276397705078, -9.700258255004883, 4.281754493713379, -8.909878730773926, 5.170001983642578, -8.029938697814941, -2.92973256111145, -7.113704681396484, -6.185397148132324, 6.423314094543457, 13.030135154724121, -2.8349640369415283, 0.7214971780776978, 0.8399024605751038, 1.2596229314804077, -1.1342755556106567, 7.532063007354736, 6.751641750335693, -2.1960089206695557, -0.43390434980392456, 2.7539491653442383, 12.390235900878906, 2.1991357803344727, -9.38702392578125, -9.242071151733398, -4.365019798278809, 6.6738715171813965, 6.287403583526611, -7.43027400970459, -2.048219919204712, 4.7369232177734375, -4.8962178230285645, -10.690481185913086, -4.9849066734313965, -12.279475212097168, -6.5900654792785645, 10.368657112121582, 8.908220291137695, -5.121690273284912, 3.7414469718933105, 3.1588900089263916, -1.8177108764648438, -8.427043914794922, -7.676985263824463, 14.333086013793945, -4.398083209991455, 5.273153305053711, 2.849992275238037, 3.299729347229004, 5.904018402099609, -9.926931381225586, 2.181830883026123, -8.977195739746094, -6.479092121124268, -10.446309089660645, -2.7051093578338623, -3.7052388191223145, 9.516548156738281, -9.556658744812012, 1.1790363788604736, -10.82613468170166], \"z\": [1.4224777221679688, 0.19744741916656494, -7.107980728149414, -12.124892234802246, -13.331525802612305, -8.371177673339844, 3.5084378719329834, -18.91771125793457, -2.7335426807403564, 12.561145782470703, -18.31587028503418, -13.654243469238281, -11.99410343170166, -10.491679191589355, -12.053958892822266, -16.706722259521484, -11.913861274719238, 6.9800639152526855, -5.510140895843506, -11.644268035888672, -7.472300052642822, 2.542609453201294, -11.164827346801758, -3.2723498344421387, -11.070891380310059, 1.3295801877975464, -12.584808349609375, -1.4654649496078491, -23.33222007751465, -17.257341384887695, -1.1423057317733765, -2.1894009113311768, -0.965626060962677, -12.590682029724121, 7.314424991607666, 3.0424885749816895, -10.77965259552002, -1.6939753293991089, 0.6746451258659363, -8.895478248596191, 13.965031623840332, -13.341656684875488, 9.380485534667969, -10.13990306854248, -12.290623664855957, -16.736780166625977, -11.894784927368164, -2.8415112495422363, -13.406399726867676, 9.950051307678223, -15.919248580932617, -3.710202217102051, 8.832549095153809, -16.688615798950195, -10.631049156188965, -14.333250999450684, -8.424492835998535, 6.066177845001221, -12.784156799316406, -10.352806091308594, 3.464015483856201, 7.171625137329102, -18.912506103515625, -13.550030708312988, 12.136581420898438, -11.164772033691406, 12.089649200439453, 7.362832069396973, -13.451484680175781, -13.190885543823242, -21.658723831176758, -16.33564567565918, 0.07827604562044144, -13.303154945373535, 9.751192092895508, 6.411671161651611, -13.906457901000977, -17.135684967041016, 13.817975044250488, 12.749711990356445, 12.537521362304688, 6.499598979949951, -14.078173637390137, 5.540886878967285, 2.9723262786865234, -1.5589096546173096, 7.2774882316589355, 6.825806140899658, 5.77529764175415, 3.8610899448394775, 5.913007736206055, -16.325288772583008, 8.131365776062012, 5.18919038772583, 1.910173773765564, -19.70916175842285, 10.457547187805176, 0.5930646657943726, 4.959553241729736, -14.094707489013672, 1.5819358825683594, 10.182144165039062, 0.5891226530075073, 10.634552955627441, -13.058911323547363, 11.170833587646484, 8.036867141723633, 1.2521415948867798, 10.004863739013672, -16.533329010009766, 5.93979549407959, 1.4058446884155273, -15.126673698425293, 7.3934102058410645, -11.570550918579102, 8.304924964904785, 4.1797075271606445, 5.406928539276123, -12.136441230773926, 6.3870086669921875, 9.259610176086426, 5.005608558654785, 2.6454689502716064, 11.145584106445312, 3.26515531539917, 1.0959066152572632, 0.9300835728645325, -13.703261375427246, 2.889653205871582, 2.166151285171509, 4.826531887054443, 10.120408058166504, -16.13815689086914, 0.9831397533416748, 9.959508895874023, 5.654871940612793, -12.323688507080078, -15.013982772827148, 0.3707175552845001, 1.308929204940796, -14.414118766784668, 4.652827262878418, 10.087335586547852, -14.022501945495605, 6.984238624572754, 12.100746154785156, -16.550701141357422, 11.12118148803711, 0.039493076503276825, 5.84763240814209, 4.996496200561523, 8.158037185668945, 0.16065886616706848, 10.889877319335938, 1.9827210903167725, 11.066691398620605, 10.924322128295898, 11.682336807250977, 7.749293804168701, -11.667320251464844, 3.052729368209839, 6.692359924316406, 10.184168815612793, 14.624018669128418, -12.589693069458008, 10.33383560180664, -14.09809684753418, -19.368223190307617, -11.027095794677734, 4.942034721374512, 8.770655632019043, -0.3956289291381836, -12.389238357543945, -10.302356719970703, 1.7096705436706543, 8.006508827209473, -11.124755859375, -9.491848945617676, -0.776631772518158, -14.957381248474121, 2.992295265197754, -15.218132019042969, -2.2177305221557617, -19.479995727539062, -19.33486557006836, 4.9578142166137695, -14.207093238830566, 5.716535568237305, 11.09119987487793, 7.9145307540893555, 10.936296463012695, -13.80908203125, -17.313213348388672, -10.25263786315918, 6.961185455322266, 2.233293056488037, 3.7648086547851562, 0.602143406867981, 1.5945194959640503, 2.5003886222839355, 4.729501247406006, 1.4266153573989868, 0.4303095042705536, -14.737040519714355, -8.9881591796875, -2.582784652709961, 13.957283973693848, 4.775710105895996, -14.801615715026855, -0.23532922565937042, 2.9546704292297363, -15.790783882141113, -16.65718650817871, 6.915679931640625, 4.7734503746032715, 3.884345531463623, 0.13794441521167755, -17.86177635192871, -19.370698928833008, -0.1418282389640808, -8.66772174835205, 3.0703587532043457, -14.18945026397705, 11.389827728271484, 7.60833740234375, 12.744606971740723, 10.836956977844238, 12.271276473999023, 10.699630737304688, -14.826240539550781, 3.060086488723755, 8.469419479370117, -14.821382522583008, -14.96078872680664, 5.843494415283203, 3.1259098052978516, 1.2320231199264526, 8.069611549377441, -14.012685775756836, -8.242927551269531, 4.8260498046875, 3.6993377208709717, -9.455307960510254, 5.310409069061279, -17.421472549438477, 8.231353759765625, 9.034736633300781, 12.609251022338867, 11.185468673706055, -11.742913246154785, 8.279399871826172, 0.12965992093086243, -15.902535438537598, 6.733515739440918, 11.816439628601074, -1.9474384784698486, 3.5964548587799072, 7.055490970611572, -15.156058311462402, 6.4976487159729, -9.789758682250977, 6.72617769241333, -12.374504089355469, 2.387962818145752, 9.139274597167969, 5.0486555099487305, -16.418317794799805, 5.246681213378906, 9.746686935424805, 0.10673871636390686, 1.5897793769836426, 1.372042179107666, 5.975616455078125, -9.005220413208008, -11.647957801818848, 9.77869987487793, -17.962907791137695, -13.833232879638672, 1.9793213605880737, 10.937555313110352, 10.772855758666992, -9.304871559143066, 11.794242858886719, 4.599084854125977, -11.552364349365234, 3.8685953617095947, 8.276224136352539, 2.7109222412109375, 6.9682416915893555, 1.1490024328231812, 4.1411871910095215, 1.5827020406723022, 7.928894519805908, 4.747871398925781, 5.577967643737793, -13.666009902954102, -15.579899787902832, 14.42187786102295, 5.44692850112915, 2.835725784301758, -2.3803939819335938, 6.603216171264648, -18.84880256652832, -17.35648536682129, -14.699036598205566, 9.223576545715332, 2.4373939037323, 9.344868659973145, 13.297067642211914, -19.267038345336914, -18.67593765258789, 12.564735412597656, -15.394084930419922, -8.592544555664062, 6.142176151275635, 2.417405605316162, 4.840641975402832, 3.8209540843963623, 10.137933731079102, 1.289199709892273, -1.6305687427520752, 8.269166946411133, -15.916139602661133, 0.27045226097106934, 10.97384262084961, 3.963253974914551, -16.389970779418945, -17.231788635253906, -12.030649185180664, -14.378742218017578, 5.391925811767578, -17.730070114135742, 8.321186065673828, 10.844510078430176, 6.907061576843262, -13.278636932373047, 1.4024170637130737, 5.650722026824951, -14.363216400146484, -16.738496780395508, 5.2005720138549805, 13.61935043334961, -12.0145263671875, 10.857305526733398, -18.28525161743164, -13.053084373474121, 0.4897182583808899, 12.875519752502441, -13.378860473632812, -18.270708084106445, -0.4667021930217743, 6.321323871612549, 6.1016035079956055, 1.8068287372589111, 8.275408744812012, 13.795180320739746, 7.941655158996582, 2.831803321838379, -20.68971061706543, 2.762211561203003, 0.5750885605812073, 1.848874568939209, 1.567633867263794, 11.87747859954834, -14.962944030761719, 10.6396484375, -18.408992767333984, 6.439582824707031, 7.56366491317749, 1.1475112438201904, 9.58692741394043, 4.902660846710205, -14.16195297241211, -10.989320755004883, -15.822273254394531, 11.018231391906738, 9.762301445007324, -14.727313041687012, 1.6251846551895142, 4.460777282714844, -13.519270896911621, 2.0381462574005127, 8.538100242614746, -0.7662113904953003, 1.059919834136963, 9.903868675231934, 7.922571659088135, 6.578445911407471, 1.981974720954895, 1.3329756259918213, 8.629018783569336, 10.820273399353027, 6.932946681976318, 8.671956062316895, 5.198997974395752, 1.5785212516784668, 10.825651168823242, -17.348434448242188, 2.663029193878174, 9.819517135620117, 6.140432357788086, 7.19826078414917, 12.416308403015137, -2.5012454986572266, -19.191856384277344, 4.584535121917725, -10.464719772338867, 2.6894402503967285, -10.993033409118652, -1.655818223953247, 4.491353511810303, 5.279733180999756, -20.370023727416992, 10.203014373779297, 1.2282328605651855, 8.87871265411377, 7.219729423522949, 2.600792407989502, -16.837648391723633, -13.336966514587402, 1.2499243021011353, 5.445228576660156, 3.237980842590332, 1.6036573648452759, -11.730390548706055, 8.911087036132812, 3.5403859615325928, -14.70588207244873, 1.0044572353363037, -13.982065200805664, 7.7372727394104, 3.9607865810394287, 5.875738143920898, -15.138803482055664, -21.396678924560547, 2.787219285964966, 7.401646137237549, -13.881035804748535, 10.639366149902344, -9.308045387268066, 11.208649635314941, 13.762804985046387, -10.21818733215332, -16.614036560058594, 6.856796741485596, -11.569954872131348, -19.698305130004883, 10.360757827758789, -11.37960147857666, -16.033611297607422, 7.878468990325928, -12.576435089111328, 11.1791353225708, 9.669340133666992, -15.561763763427734, 1.071608304977417, 0.20774537324905396, -11.572397232055664, 13.04026985168457, -1.2459990978240967, 0.7495046257972717, -10.996647834777832, 8.51092529296875, 14.819477081298828, -1.6302882432937622, 6.254417419433594, 9.823171615600586, -20.705570220947266, 10.302203178405762, -11.187370300292969, 10.266776084899902, 8.350547790527344, 8.009056091308594, 7.72493839263916, 10.653843879699707, 7.200764179229736, 1.9913190603256226, -13.636015892028809, 3.6314687728881836, 4.191509246826172, 12.198480606079102, 6.248051643371582, -15.313594818115234, -15.31855297088623, 4.246399879455566, -15.623884201049805, 0.06915552169084549, 0.32227155566215515, 4.778720378875732, -8.583662033081055, 11.627015113830566, -14.447060585021973, -12.46932315826416, -19.236330032348633, -10.033487319946289, -16.699050903320312, -1.0355981588363647, -12.44885540008545, 9.621025085449219, 2.939929723739624, 0.6567189693450928, -1.1167999505996704, 4.058756351470947, 5.392071723937988, 0.9399896264076233, -8.928573608398438, 11.830466270446777, 12.664888381958008, -0.16560550034046173, -15.03952693939209, -13.278030395507812, 11.687288284301758, 2.7761058807373047, -16.323284149169922, 13.893315315246582, 12.017583847045898, 9.719167709350586, 12.647482872009277, -0.3002326488494873, 2.1803078651428223, -0.11888650804758072, -14.856229782104492, -13.784100532531738, -12.422569274902344, -19.634836196899414, 4.720807075500488, -0.5266121625900269, 6.734716415405273, 1.1441190242767334, 2.9014675617218018, 0.6890890002250671, -17.345293045043945, -12.387052536010742, 9.136007308959961, -13.687215805053711, -17.909549713134766, -1.988503098487854, -15.295990943908691, 2.585310459136963, 0.14023911952972412, -0.02217593975365162, -13.646378517150879, 4.490586280822754, -0.21584948897361755, 12.481637001037598, -14.100239753723145, 12.082056045532227, -14.503518104553223, -16.47837257385254, 11.579286575317383, 10.777786254882812, 5.957078456878662, -12.682493209838867, 7.686093330383301, 9.601137161254883, 1.237683892250061, -11.582839965820312, 8.716573715209961, -16.8736572265625, -1.9972952604293823, -16.577119827270508, -19.72579574584961, 10.213138580322266, -16.4945068359375, 7.689924716949463, 14.542899131774902, 9.575058937072754, -0.7878881692886353, -17.460874557495117, -15.279062271118164, 1.476393461227417, -14.764030456542969, -18.600830078125, -18.57436752319336, -0.8409931659698486, -20.352102279663086, 3.1652657985687256, 6.776252269744873, 4.385178565979004, 9.576563835144043, 1.4433482885360718, 10.537099838256836, -10.896210670471191, 2.7339870929718018, 13.217611312866211, 14.223785400390625, 2.76407527923584, 9.593886375427246, 7.339598178863525, -18.199466705322266, 6.63137149810791, 12.204659461975098, -1.4795036315917969, -19.026586532592773, -0.027021856978535652, 9.723915100097656, -16.9030818939209, -16.99354362487793, -13.913189888000488, -15.830687522888184, -13.534135818481445, 5.6186113357543945, -14.698979377746582, 3.9327123165130615, -13.992971420288086, 0.3145911693572998, -17.757747650146484, -18.1444149017334, 6.574492931365967, -1.4664018154144287, -13.773847579956055, 4.544228553771973, -0.2814948856830597, 4.670720100402832, 13.830879211425781, 11.001848220825195, 3.9423553943634033, 5.170232772827148, 4.362330436706543, 3.2469563484191895, 0.441890150308609, 9.380369186401367, 8.908243179321289, -0.6674603223800659, -12.058473587036133, -20.74347686767578, 3.756120204925537, -11.986374855041504, 2.784512519836426, 14.762712478637695, 6.163353443145752, 1.5959885120391846, 11.181557655334473, -14.446215629577637, 3.5177361965179443, 2.669745445251465, 4.725714206695557, 0.6155453324317932, -15.63089370727539, 0.9413356781005859, -8.719205856323242, -0.42875874042510986, 2.4337329864501953, 4.82282829284668, -16.620882034301758, 10.790413856506348, -10.082714080810547, 7.082523345947266, -11.577033996582031, 6.673097133636475, 10.772704124450684, 9.276121139526367, 2.0270979404449463, -14.416244506835938, 8.419111251831055, -0.37760040163993835, -14.142928123474121, 5.089010238647461, 5.763189792633057, -16.93645477294922, -19.95012855529785, 8.747655868530273, -1.4405319690704346, 2.39963960647583, -14.227602005004883, 1.011232614517212, -13.903491973876953, 0.7156978845596313, 0.49746620655059814, 8.96350383758545, 0.926322340965271, 13.129744529724121, 9.845359802246094, 1.6444172859191895, -11.594033241271973, 11.110543251037598, -1.2540407180786133, -13.803980827331543, -15.255544662475586, 1.082183837890625, -10.751742362976074, 9.938627243041992, 6.082841873168945, -12.185178756713867, 10.104348182678223, 9.066082954406738, 12.567317962646484, 13.396324157714844, -16.912261962890625, -19.422760009765625, -15.670244216918945, -17.65645980834961, -20.144824981689453, 0.7411164045333862, -16.001882553100586, -11.433321952819824, 3.7706573009490967, 12.458681106567383, 6.92095422744751, -13.59029483795166, 4.018271446228027, 12.13758659362793, -10.51019287109375, -23.37258529663086, 9.84018325805664, 1.4069712162017822, -17.442853927612305, -16.161544799804688, 0.7848731875419617, -10.917306900024414, -12.206969261169434, 11.565486907958984, 5.666276454925537, 1.2336524724960327, 8.507017135620117, -10.318827629089355, -8.085916519165039, -16.554046630859375, 8.544031143188477, 7.085056304931641, -5.625763893127441, 4.99664831161499, -0.6576322317123413, -3.6191298961639404, -2.457279682159424, -1.0512373447418213, -15.532833099365234, -11.037751197814941, -15.128697395324707, -8.975505828857422, 3.228447675704956, -14.602927207946777, 1.3784301280975342, 3.6170198917388916, -0.05074729770421982, -16.26609992980957, 7.372100353240967, 12.777600288391113, 13.947811126708984, -14.610763549804688, 2.03816294670105, 5.291314601898193, 5.339819431304932, -13.31365966796875, 2.5645313262939453, 14.080857276916504, 10.333799362182617, -14.426778793334961, -10.991771697998047, -20.4799861907959, 0.37743234634399414, -13.307251930236816, 2.1616315841674805, 6.912269592285156, 11.731254577636719, -9.600076675415039, 12.615394592285156, 6.8366475105285645, -16.387372970581055, 12.608844757080078, -19.496475219726562, 9.817269325256348, 10.004103660583496, 7.898951530456543, 2.158377170562744, 5.834739685058594, 4.638885974884033, -14.136536598205566, 3.6560325622558594, -14.448509216308594, 12.287003517150879, 3.905017375946045, -0.8589776158332825, 3.071096658706665, 4.023942947387695, 12.678543090820312, 2.678281307220459, 4.2516326904296875, 11.008082389831543, 4.632815837860107, 8.421895027160645, 4.916202068328857, -0.6260201930999756, 5.112276077270508, 13.281449317932129, -20.345779418945312, 7.261063575744629, -12.011893272399902, 14.223249435424805, 12.527637481689453, -19.45961570739746, 9.018074035644531, -15.01411247253418, 9.084616661071777, 6.442328929901123, -2.2244222164154053, 11.394692420959473, -11.3015775680542, 9.434024810791016, 11.567732810974121, 6.999765872955322, 1.9866235256195068, 0.5562113523483276, -0.48040953278541565, -8.681779861450195, 9.951163291931152, 11.793724060058594, 0.7049558758735657, -14.933897018432617, 9.307747840881348, -13.431130409240723, -12.314718246459961, 9.706208229064941, 1.586970567703247, -1.1653622388839722, -11.390018463134766, 1.1208869218826294, -19.965618133544922, -10.739990234375, -14.789844512939453, -16.59473991394043, -8.615424156188965, 14.973820686340332, -1.0226538181304932, 3.383636474609375, 7.791507720947266, -14.99404239654541, 12.576828002929688, 6.80687141418457, -17.796159744262695, 1.4190945625305176, 3.9034712314605713, -18.60045623779297, -12.490564346313477, -11.406871795654297, -13.181086540222168, -15.549391746520996, -13.688924789428711, -15.679038047790527, 10.387718200683594, 8.978399276733398, 10.383590698242188, -14.665051460266113, 2.0512216091156006, 4.668652057647705, -12.492058753967285, -1.4445298910140991, 9.617942810058594, 5.705989360809326, 3.4891774654388428, -11.666234970092773, -0.3348713219165802, 10.700033187866211, 8.991134643554688, 1.9482253789901733, 1.4018090963363647, 2.6156811714172363, -12.60136890411377, 13.068750381469727, -14.711142539978027, 1.4743925333023071, 11.957267761230469, -2.623753786087036, 10.01596736907959, 2.667390823364258, -15.076581954956055, 5.688741207122803, 12.542566299438477, -13.893969535827637, 4.341699600219727, -16.823537826538086, 10.825465202331543, 7.266959190368652, 6.2676262855529785, 2.7599151134490967, 9.78249454498291, 5.065578460693359, 5.901625156402588, 3.444068431854248, -9.221834182739258, 4.7344279289245605, 10.520009994506836, 13.075324058532715, -16.73600959777832, -17.682836532592773, -15.158312797546387, 4.819293975830078, 6.755738735198975, 2.9423389434814453, -11.700475692749023, -13.88185977935791, -18.44049835205078, -11.68156909942627, 12.566221237182617, -18.962669372558594, 6.4662909507751465, 6.326596260070801, 8.512224197387695, 1.039989709854126, 2.7742202281951904, 2.772373914718628, 7.185585021972656, 12.063302993774414, -20.548309326171875, 10.835176467895508, -14.614255905151367, -16.040985107421875, -2.348605155944824, -11.56129264831543, 11.458224296569824, 6.18976354598999, 9.093194007873535, 8.292071342468262, 10.11795425415039, -14.750273704528809, -12.552592277526855, 2.9055819511413574, 3.3048229217529297, -13.172921180725098, -16.26909065246582, 0.4623589515686035, -16.380704879760742, 5.150954723358154, 9.898584365844727, 0.26982638239860535, 4.412501811981201, 2.482426166534424, 3.1816201210021973, 5.114022254943848, 1.150368571281433, -13.6838960647583, 9.469120979309082, 6.992520332336426, -19.963523864746094, -17.199621200561523, -13.30373477935791, 10.65479850769043, -8.961162567138672, -0.28910067677497864, -16.67795181274414, -10.46900749206543, 5.3550591468811035, 13.773518562316895, -12.282517433166504, 10.575100898742676, -14.851085662841797, 11.90676212310791, 8.758569717407227, 2.3272814750671387, 2.8476788997650146, 3.5696182250976562, 2.2319254875183105, -19.773563385009766, -15.508477210998535, 6.126840114593506, 7.166191577911377, -15.8925199508667, -14.912242889404297, -12.240039825439453, 5.178925514221191, 7.470739364624023, 5.83276891708374, -8.994330406188965, 12.37674617767334, 4.638726234436035, 11.831291198730469, 4.671770095825195, 7.020215034484863, -13.750589370727539, 8.535606384277344, -18.485862731933594, 10.389310836791992, 5.588804721832275, -12.563926696777344, 11.085269927978516, 5.2049784660339355, 4.8914031982421875, -17.856616973876953, 1.3201955556869507, -11.905533790588379, -13.809441566467285, 1.592720866203308, 14.812113761901855, 4.882355690002441, -18.097986221313477, 7.275259494781494, 5.982460975646973, -15.283721923828125, -15.011847496032715, -15.760502815246582, -12.266056060791016, 9.230554580688477, 10.97098159790039, -9.12618350982666, -15.426351547241211, 4.133671283721924, 6.984226703643799, 13.893009185791016, -14.619782447814941, -15.15041732788086]}],\n",
              "                        {\"coloraxis\": {\"colorbar\": {\"title\": {\"text\": \"Anomaly\"}}, \"colorscale\": [[0.0, \"#0d0887\"], [0.1111111111111111, \"#46039f\"], [0.2222222222222222, \"#7201a8\"], [0.3333333333333333, \"#9c179e\"], [0.4444444444444444, \"#bd3786\"], [0.5555555555555556, \"#d8576b\"], [0.6666666666666666, \"#ed7953\"], [0.7777777777777778, \"#fb9f3a\"], [0.8888888888888888, \"#fdca26\"], [1.0, \"#f0f921\"]]}, \"height\": 800, \"legend\": {\"tracegroupgap\": 0}, \"scene\": {\"domain\": {\"x\": [0.0, 1.0], \"y\": [0.0, 1.0]}, \"xaxis\": {\"title\": {\"text\": \"0\"}}, \"yaxis\": {\"title\": {\"text\": \"1\"}}, \"zaxis\": {\"title\": {\"text\": \"2\"}}}, \"template\": {\"data\": {\"bar\": [{\"error_x\": {\"color\": \"#2a3f5f\"}, \"error_y\": {\"color\": \"#2a3f5f\"}, \"marker\": {\"line\": {\"color\": \"#E5ECF6\", \"width\": 0.5}}, \"type\": \"bar\"}], \"barpolar\": [{\"marker\": {\"line\": {\"color\": \"#E5ECF6\", \"width\": 0.5}}, \"type\": \"barpolar\"}], \"carpet\": [{\"aaxis\": {\"endlinecolor\": \"#2a3f5f\", \"gridcolor\": \"white\", \"linecolor\": \"white\", \"minorgridcolor\": \"white\", \"startlinecolor\": \"#2a3f5f\"}, \"baxis\": {\"endlinecolor\": \"#2a3f5f\", \"gridcolor\": \"white\", \"linecolor\": \"white\", \"minorgridcolor\": \"white\", \"startlinecolor\": \"#2a3f5f\"}, \"type\": \"carpet\"}], \"choropleth\": [{\"colorbar\": {\"outlinewidth\": 0, \"ticks\": \"\"}, \"type\": \"choropleth\"}], \"contour\": [{\"colorbar\": {\"outlinewidth\": 0, \"ticks\": \"\"}, \"colorscale\": [[0.0, \"#0d0887\"], [0.1111111111111111, \"#46039f\"], [0.2222222222222222, \"#7201a8\"], [0.3333333333333333, \"#9c179e\"], [0.4444444444444444, \"#bd3786\"], [0.5555555555555556, \"#d8576b\"], [0.6666666666666666, \"#ed7953\"], [0.7777777777777778, \"#fb9f3a\"], [0.8888888888888888, \"#fdca26\"], [1.0, \"#f0f921\"]], \"type\": \"contour\"}], \"contourcarpet\": [{\"colorbar\": {\"outlinewidth\": 0, \"ticks\": \"\"}, \"type\": \"contourcarpet\"}], \"heatmap\": [{\"colorbar\": {\"outlinewidth\": 0, \"ticks\": \"\"}, \"colorscale\": [[0.0, \"#0d0887\"], [0.1111111111111111, \"#46039f\"], [0.2222222222222222, \"#7201a8\"], [0.3333333333333333, \"#9c179e\"], [0.4444444444444444, \"#bd3786\"], [0.5555555555555556, \"#d8576b\"], [0.6666666666666666, \"#ed7953\"], [0.7777777777777778, \"#fb9f3a\"], [0.8888888888888888, \"#fdca26\"], [1.0, \"#f0f921\"]], \"type\": \"heatmap\"}], \"heatmapgl\": [{\"colorbar\": {\"outlinewidth\": 0, \"ticks\": \"\"}, \"colorscale\": [[0.0, \"#0d0887\"], [0.1111111111111111, \"#46039f\"], [0.2222222222222222, \"#7201a8\"], [0.3333333333333333, \"#9c179e\"], [0.4444444444444444, \"#bd3786\"], [0.5555555555555556, \"#d8576b\"], [0.6666666666666666, \"#ed7953\"], [0.7777777777777778, \"#fb9f3a\"], [0.8888888888888888, \"#fdca26\"], [1.0, \"#f0f921\"]], \"type\": \"heatmapgl\"}], \"histogram\": [{\"marker\": {\"colorbar\": {\"outlinewidth\": 0, \"ticks\": \"\"}}, \"type\": \"histogram\"}], \"histogram2d\": [{\"colorbar\": {\"outlinewidth\": 0, \"ticks\": \"\"}, \"colorscale\": [[0.0, \"#0d0887\"], [0.1111111111111111, \"#46039f\"], [0.2222222222222222, \"#7201a8\"], [0.3333333333333333, \"#9c179e\"], [0.4444444444444444, \"#bd3786\"], [0.5555555555555556, \"#d8576b\"], [0.6666666666666666, \"#ed7953\"], [0.7777777777777778, \"#fb9f3a\"], [0.8888888888888888, \"#fdca26\"], [1.0, \"#f0f921\"]], \"type\": \"histogram2d\"}], \"histogram2dcontour\": [{\"colorbar\": {\"outlinewidth\": 0, \"ticks\": \"\"}, \"colorscale\": [[0.0, \"#0d0887\"], [0.1111111111111111, \"#46039f\"], [0.2222222222222222, \"#7201a8\"], [0.3333333333333333, \"#9c179e\"], [0.4444444444444444, \"#bd3786\"], [0.5555555555555556, \"#d8576b\"], [0.6666666666666666, \"#ed7953\"], [0.7777777777777778, \"#fb9f3a\"], [0.8888888888888888, \"#fdca26\"], [1.0, \"#f0f921\"]], \"type\": \"histogram2dcontour\"}], \"mesh3d\": [{\"colorbar\": {\"outlinewidth\": 0, \"ticks\": \"\"}, \"type\": \"mesh3d\"}], \"parcoords\": [{\"line\": {\"colorbar\": {\"outlinewidth\": 0, \"ticks\": \"\"}}, \"type\": \"parcoords\"}], \"pie\": [{\"automargin\": true, \"type\": \"pie\"}], \"scatter\": [{\"marker\": {\"colorbar\": {\"outlinewidth\": 0, \"ticks\": \"\"}}, \"type\": \"scatter\"}], \"scatter3d\": [{\"line\": {\"colorbar\": {\"outlinewidth\": 0, \"ticks\": \"\"}}, \"marker\": {\"colorbar\": {\"outlinewidth\": 0, \"ticks\": \"\"}}, \"type\": \"scatter3d\"}], \"scattercarpet\": [{\"marker\": {\"colorbar\": {\"outlinewidth\": 0, \"ticks\": \"\"}}, \"type\": \"scattercarpet\"}], \"scattergeo\": [{\"marker\": {\"colorbar\": {\"outlinewidth\": 0, \"ticks\": \"\"}}, \"type\": \"scattergeo\"}], \"scattergl\": [{\"marker\": {\"colorbar\": {\"outlinewidth\": 0, \"ticks\": \"\"}}, \"type\": \"scattergl\"}], \"scattermapbox\": [{\"marker\": {\"colorbar\": {\"outlinewidth\": 0, \"ticks\": \"\"}}, \"type\": \"scattermapbox\"}], \"scatterpolar\": [{\"marker\": {\"colorbar\": {\"outlinewidth\": 0, \"ticks\": \"\"}}, \"type\": \"scatterpolar\"}], \"scatterpolargl\": [{\"marker\": {\"colorbar\": {\"outlinewidth\": 0, \"ticks\": \"\"}}, \"type\": \"scatterpolargl\"}], \"scatterternary\": [{\"marker\": {\"colorbar\": {\"outlinewidth\": 0, \"ticks\": \"\"}}, \"type\": \"scatterternary\"}], \"surface\": [{\"colorbar\": {\"outlinewidth\": 0, \"ticks\": \"\"}, \"colorscale\": [[0.0, \"#0d0887\"], [0.1111111111111111, \"#46039f\"], [0.2222222222222222, \"#7201a8\"], [0.3333333333333333, \"#9c179e\"], [0.4444444444444444, \"#bd3786\"], [0.5555555555555556, \"#d8576b\"], [0.6666666666666666, \"#ed7953\"], [0.7777777777777778, \"#fb9f3a\"], [0.8888888888888888, \"#fdca26\"], [1.0, \"#f0f921\"]], \"type\": \"surface\"}], \"table\": [{\"cells\": {\"fill\": {\"color\": \"#EBF0F8\"}, \"line\": {\"color\": \"white\"}}, \"header\": {\"fill\": {\"color\": \"#C8D4E3\"}, \"line\": {\"color\": \"white\"}}, \"type\": \"table\"}]}, \"layout\": {\"annotationdefaults\": {\"arrowcolor\": \"#2a3f5f\", \"arrowhead\": 0, \"arrowwidth\": 1}, \"coloraxis\": {\"colorbar\": {\"outlinewidth\": 0, \"ticks\": \"\"}}, \"colorscale\": {\"diverging\": [[0, \"#8e0152\"], [0.1, \"#c51b7d\"], [0.2, \"#de77ae\"], [0.3, \"#f1b6da\"], [0.4, \"#fde0ef\"], [0.5, \"#f7f7f7\"], [0.6, \"#e6f5d0\"], [0.7, \"#b8e186\"], [0.8, \"#7fbc41\"], [0.9, \"#4d9221\"], [1, \"#276419\"]], \"sequential\": [[0.0, \"#0d0887\"], [0.1111111111111111, \"#46039f\"], [0.2222222222222222, \"#7201a8\"], [0.3333333333333333, \"#9c179e\"], [0.4444444444444444, \"#bd3786\"], [0.5555555555555556, \"#d8576b\"], [0.6666666666666666, \"#ed7953\"], [0.7777777777777778, \"#fb9f3a\"], [0.8888888888888888, \"#fdca26\"], [1.0, \"#f0f921\"]], \"sequentialminus\": [[0.0, \"#0d0887\"], [0.1111111111111111, \"#46039f\"], [0.2222222222222222, \"#7201a8\"], [0.3333333333333333, \"#9c179e\"], [0.4444444444444444, \"#bd3786\"], [0.5555555555555556, \"#d8576b\"], [0.6666666666666666, \"#ed7953\"], [0.7777777777777778, \"#fb9f3a\"], [0.8888888888888888, \"#fdca26\"], [1.0, \"#f0f921\"]]}, \"colorway\": [\"#636efa\", \"#EF553B\", \"#00cc96\", \"#ab63fa\", \"#FFA15A\", \"#19d3f3\", \"#FF6692\", \"#B6E880\", \"#FF97FF\", \"#FECB52\"], \"font\": {\"color\": \"#2a3f5f\"}, \"geo\": {\"bgcolor\": \"white\", \"lakecolor\": \"white\", \"landcolor\": \"#E5ECF6\", \"showlakes\": true, \"showland\": true, \"subunitcolor\": \"white\"}, \"hoverlabel\": {\"align\": \"left\"}, \"hovermode\": \"closest\", \"mapbox\": {\"style\": \"light\"}, \"paper_bgcolor\": \"white\", \"plot_bgcolor\": \"#E5ECF6\", \"polar\": {\"angularaxis\": {\"gridcolor\": \"white\", \"linecolor\": \"white\", \"ticks\": \"\"}, \"bgcolor\": \"#E5ECF6\", \"radialaxis\": {\"gridcolor\": \"white\", \"linecolor\": \"white\", \"ticks\": \"\"}}, \"scene\": {\"xaxis\": {\"backgroundcolor\": \"#E5ECF6\", \"gridcolor\": \"white\", \"gridwidth\": 2, \"linecolor\": \"white\", \"showbackground\": true, \"ticks\": \"\", \"zerolinecolor\": \"white\"}, \"yaxis\": {\"backgroundcolor\": \"#E5ECF6\", \"gridcolor\": \"white\", \"gridwidth\": 2, \"linecolor\": \"white\", \"showbackground\": true, \"ticks\": \"\", \"zerolinecolor\": \"white\"}, \"zaxis\": {\"backgroundcolor\": \"#E5ECF6\", \"gridcolor\": \"white\", \"gridwidth\": 2, \"linecolor\": \"white\", \"showbackground\": true, \"ticks\": \"\", \"zerolinecolor\": \"white\"}}, \"shapedefaults\": {\"line\": {\"color\": \"#2a3f5f\"}}, \"ternary\": {\"aaxis\": {\"gridcolor\": \"white\", \"linecolor\": \"white\", \"ticks\": \"\"}, \"baxis\": {\"gridcolor\": \"white\", \"linecolor\": \"white\", \"ticks\": \"\"}, \"bgcolor\": \"#E5ECF6\", \"caxis\": {\"gridcolor\": \"white\", \"linecolor\": \"white\", \"ticks\": \"\"}}, \"title\": {\"x\": 0.05}, \"xaxis\": {\"automargin\": true, \"gridcolor\": \"white\", \"linecolor\": \"white\", \"ticks\": \"\", \"title\": {\"standoff\": 15}, \"zerolinecolor\": \"white\", \"zerolinewidth\": 2}, \"yaxis\": {\"automargin\": true, \"gridcolor\": \"white\", \"linecolor\": \"white\", \"ticks\": \"\", \"title\": {\"standoff\": 15}, \"zerolinecolor\": \"white\", \"zerolinewidth\": 2}}}, \"title\": {\"text\": \"3d TSNE Plot for Outliers\"}, \"width\": 900},\n",
              "                        {\"responsive\": true}\n",
              "                    ).then(function(){\n",
              "                            \n",
              "var gd = document.getElementById('07e6fd97-fd2b-48ae-b14f-018b0c0c06d9');\n",
              "var x = new MutationObserver(function (mutations, observer) {{\n",
              "        var display = window.getComputedStyle(gd).display;\n",
              "        if (!display || display === 'none') {{\n",
              "            console.log([gd, 'removed!']);\n",
              "            Plotly.purge(gd);\n",
              "            observer.disconnect();\n",
              "        }}\n",
              "}});\n",
              "\n",
              "// Listen for the removal of the full notebook cells\n",
              "var notebookContainer = gd.closest('#notebook-container');\n",
              "if (notebookContainer) {{\n",
              "    x.observe(notebookContainer, {childList: true});\n",
              "}}\n",
              "\n",
              "// Listen for the clearing of the current output cell\n",
              "var outputEl = gd.closest('.output');\n",
              "if (outputEl) {{\n",
              "    x.observe(outputEl, {childList: true});\n",
              "}}\n",
              "\n",
              "                        })\n",
              "                };\n",
              "                \n",
              "            </script>\n",
              "        </div>\n",
              "</body>\n",
              "</html>"
            ]
          },
          "metadata": {}
        }
      ]
    },
    {
      "cell_type": "code",
      "metadata": {
        "colab": {
          "base_uri": "https://localhost:8080/",
          "height": 817,
          "referenced_widgets": [
            "8365f322a9014ecaae55413be5188f22",
            "26f7beb6576d46bc8e760c8a8af902ac",
            "1287965a8867468c867a0c55b0142df3",
            "021a20051a5044dc92c72fe4bcbdf728"
          ]
        },
        "id": "8hA266DPuMxT",
        "outputId": "cd9cb05b-d67b-48db-8f85-27839420fda5"
      },
      "source": [
        "## creating a model usinf knn model \n",
        "knn = create_model('knn')\n",
        "#plot model\n",
        "plot_model(knn)"
      ],
      "execution_count": 65,
      "outputs": [
        {
          "output_type": "display_data",
          "data": {
            "text/html": [
              "<html>\n",
              "<head><meta charset=\"utf-8\" /></head>\n",
              "<body>\n",
              "    <div>\n",
              "            <script src=\"https://cdnjs.cloudflare.com/ajax/libs/mathjax/2.7.5/MathJax.js?config=TeX-AMS-MML_SVG\"></script><script type=\"text/javascript\">if (window.MathJax) {MathJax.Hub.Config({SVG: {font: \"STIX-Web\"}});}</script>\n",
              "                <script type=\"text/javascript\">window.PlotlyConfig = {MathJaxConfig: 'local'};</script>\n",
              "        <script src=\"https://cdn.plot.ly/plotly-latest.min.js\"></script>    \n",
              "            <div id=\"b83f1531-db5c-4327-b1cb-efb2b599a2df\" class=\"plotly-graph-div\" style=\"height:800px; width:900px;\"></div>\n",
              "            <script type=\"text/javascript\">\n",
              "                \n",
              "                    window.PLOTLYENV=window.PLOTLYENV || {};\n",
              "                    \n",
              "                if (document.getElementById(\"b83f1531-db5c-4327-b1cb-efb2b599a2df\")) {\n",
              "                    Plotly.newPlot(\n",
              "                        'b83f1531-db5c-4327-b1cb-efb2b599a2df',\n",
              "                        [{\"customdata\": [[0.263995357], [0.546092303], [0.33671410399999996], [0.092107835], [0.325261175], [0.212464853], [0.258565714], [0.869236755], [0.197077957], [0.292984504], [0.82178316], [0.796622959], [0.045577010999999994], [0.613660351], [0.9507445659999999], [0.33634633700000005], [0.034440667], [0.741544275], [0.18443265], [0.664514943], [0.16282485800000002], [0.729838445], [0.62837389], [0.057883660999999996], [0.445534827], [0.80183695], [0.27709612], [0.228634015], [0.834860657], [0.6697665110000001], [0.532527349], [0.17045907100000002], [0.5102884679999999], [0.977561989], [0.249775993], [0.9755006820000001], [0.613701727], [0.16742036300000002], [0.537472516], [0.379899131], [0.633897303], [0.633960424], [0.5499746529999999], [0.178172988], [0.85563814], [0.321796672], [0.8174905370000001], [0.254879417], [0.344140513], [0.8061457259999999], [0.27708167100000003], [0.544328519], [0.07708393], [0.273081458], [0.390877336], [0.349621385], [0.214549744], [0.206075222], [0.86461997], [0.9817088540000001], [0.33482964600000004], [0.648387061], [0.093643561], [0.837802698], [0.7603439670000001], [0.29140417399999996], [0.3413454], [0.7611124840000001], [0.541899775], [0.684176639], [0.983535597], [0.52081245], [0.328227724], [0.09715793800000001], [0.876088593], [0.870214512], [0.656086992], [0.306791514], [0.48126734], [0.259559174], [0.326123655], [0.930568042], [0.6583894], [0.689992335], [0.315781109], [0.5669050929999999], [0.637526619], [0.687540723], [0.324300602], [0.592704906], [0.7402531259999999], [0.5940328770000001], [0.596452977], [0.27768081699999997], [0.258329663], [0.142460864], [0.435533461], [0.7024990440000001], [0.58897535], [0.653304374], [0.336968524], [0.631244736], [0.73530076], [0.050390366], [0.064264924], [0.665359476], [0.917835245], [0.44651012], [0.661938199], [0.43935985299999997], [0.6875724040000001], [0.363462248], [0.6542621820000001], [0.578553536], [0.065927945], [0.550148559], [0.13918281400000002], [0.080004635], [0.278228358], [0.560124266], [0.53639864], [0.42653190399999996], [0.789109796], [0.742900474], [0.901692589], [0.650337401], [0.114057311], [0.260812592], [0.43991232], [0.964409284], [0.184401415], [0.345145446], [0.17589458100000002], [0.312514453], [0.674131879], [0.32825045], [0.598231057], [0.09259881699999999], [0.497916521], [0.419776521], [0.31217670000000003], [0.937857107], [0.049030963], [0.47610452600000003], [0.447397526], [0.295806058], [0.737363977], [0.625896253], [0.408813429], [0.437511156], [0.691351375], [0.935555275], [0.437846654], [0.072217715], [0.67636067], [0.468883999], [0.543820644], [0.6555226470000001], [0.6935289240000001], [0.10887831199999999], [0.285463743], [0.0], [0.706495497], [0.273530633], [0.292320271], [0.673984307], [0.12612182800000002], [0.9467074590000001], [0.9363388979999999], [0.8537553640000001], [0.7060713609999999], [0.693682186], [0.508527882], [0.34717038899999997], [0.704154263], [0.658730088], [0.155841557], [0.311085435], [0.281135347], [0.094587802], [0.6832609540000001], [0.9077292509999999], [0.29151267399999997], [0.752734459], [0.93482964], [0.071413953], [0.5948963270000001], [0.404672015], [0.13837621], [0.7473384679999999], [0.530882486], [0.282649594], [0.699335734], [0.056111250999999994], [0.855234998], [0.07789512700000001], [0.891649583], [0.38674227899999997], [0.27113158], [0.958888961], [0.085120869], [0.5269022489999999], [0.066577785], [0.841506738], [0.255342095], [0.060545771], [0.073385869], [0.187493723], [0.858365688], [0.090640352], [0.7097252270000001], [0.631300647], [0.24750447399999997], [0.822843584], [0.373476759], [0.625538582], [0.292951715], [0.299730324], [0.25121407], [0.344480551], [0.293064767], [0.7628032240000001], [0.7384708040000001], [0.674883265], [0.719151612], [0.13098021599999998], [0.511328036], [0.04492903], [0.560914449], [0.7440406409999999], [0.266961634], [0.644231853], [0.038113352], [0.05715529900000001], [0.34139246100000004], [0.7204636320000001], [0.402878236], [0.635148967], [0.320729467], [0.09120969400000001], [0.23414609], [0.8902211309999999], [0.602170884], [0.633652055], [0.806240837], [0.739731184], [0.465231269], [0.7321109], [0.373874305], [0.501587947], [0.11538315800000001], [0.7319466040000001], [0.41829872799999995], [0.062259590999999996], [0.391496379], [0.35984929], [0.24523562699999998], [0.610028339], [0.43540360200000006], [0.434309675], [0.523763344], [0.17118786600000002], [0.18773430300000002], [0.945014638], [0.027851097000000002], [0.68445706], [0.178014532], [0.643427879], [0.59588355], [0.372361682], [0.586103584], [0.271658852], [0.59951107], [0.468363088], [0.314515565], [0.21893726], [0.254716562], [0.25612815], [0.602259755], [0.134381075], [0.513887424], [0.624241636], [0.160251854], [0.580708108], [0.270540486], [0.832919932], [0.93032134], [0.719157884], [0.886720033], [0.098792281], [0.787174286], [0.365592376], [0.719576193], [0.8058956], [0.7555783340000001], [0.526005909], [0.68880424], [0.22111531199999998], [0.739369477], [0.408440236], [0.348926542], [0.433713763], [0.5964966070000001], [0.6942953000000001], [0.7090309659999999], [0.867652984], [0.89332545], [0.746020922], [0.538284443], [0.8922193140000001], [0.935175765], [0.260527707], [0.956780449], [0.204932484], [0.687733351], [0.329063619], [0.632149831], [0.463744506], [0.698859621], [0.385446564], [0.47997537700000004], [0.732279108], [0.3813543], [0.459326013], [0.257401434], [0.665014804], [0.103399542], [0.425284413], [0.943529051], [0.594750236], [0.543776817], [0.18203988], [0.23584208399999998], [0.585984497], [0.762013168], [0.6849829070000001], [0.676936933], [0.290184964], [0.48106822200000005], [0.492766033], [0.22185623399999999], [0.053875998], [0.082751144], [0.385366225], [0.702513961], [0.91553156], [0.082087436], [0.251280378], [0.41672181700000005], [0.277032672], [0.579539754], [0.569363476], [0.133399703], [0.265045463], [0.936571901], [0.252618554], [0.054033081], [0.802481439], [0.528197693], [0.9515026], [0.572121173], [0.752938227], [0.143857535], [0.513484576], [0.313322389], [0.6877973959999999], [0.37705984], [0.348226142], [0.67763282], [0.24138752100000002], [0.8506501790000001], [0.22034810300000002], [0.476445464], [0.690324025], [0.364695946], [0.6492491970000001], [0.9437019209999999], [0.529645971], [0.299097002], [0.96696247], [0.272005242], [0.314161447], [0.752020991], [0.221882453], [0.7203326729999999], [0.379204782], [0.60168653], [0.582932673], [0.950809853], [0.58830141], [0.880887227], [0.467857701], [0.8799021709999999], [0.619844009], [0.359002573], [0.291511278], [0.694157143], [0.727960353], [0.617703921], [0.39581257], [0.58317282], [0.710332374], [0.253753693], [0.049412227999999996], [0.728378695], [0.432432881], [0.58612345], [0.052342373], [0.053483902], [0.518729378], [0.933040208], [0.7035542840000001], [0.268989899], [0.733006927], [0.44435246700000003], [0.5833946210000001], [0.871172692], [0.42876707799999997], [0.30046084100000003], [0.9533294590000001], [0.606443965], [0.90986815], [0.714896449], [0.49734950899999997], [0.8530974859999999], [0.721804145], [0.303467328], [0.664485096], [0.27978062], [0.569481665], [0.628628926], [0.088368123], [0.733567326], [0.537436778], [0.638593691], [0.954726948], [0.632202332], [0.642134651], [0.744653087], [0.115714007], [0.48625007299999995], [0.440356144], [0.08272289], [0.511591027], [0.394627555], [0.224394], [0.626927584], [0.290254057], [0.779008053], [0.86610579], [0.873326081], [0.49548916], [0.594297695], [0.9182015840000001], [0.5770427539999999], [0.019467671000000002], [0.6702982820000001], [0.546595316], [0.591665146], [0.42155819], [0.6856085590000001], [0.340303024], [0.675626741], [0.319067345], [0.38849966399999997], [0.706949589], [0.559409515], [0.687663508], [0.7088045540000001], [0.6818880940000001], [0.42253510899999996], [0.320004605], [0.6582813679999999], [0.634154867], [0.7773320090000001], [0.812677205], [0.074280797], [0.39600217], [0.054933913], [0.825058925], [0.382642009], [0.8687298179999999], [0.588043346], [0.891551577], [0.10920046], [0.647682781], [0.724342512], [0.07016304400000001], [0.280882054], [0.039113261], [0.579641592], [0.639000922], [0.281745925], [0.647857744], [0.6479057970000001], [0.875226264], [0.567603305], [0.262940591], [0.268026042], [0.40519133], [0.479965451], [0.33552403], [0.777165379], [0.42548796299999997], [0.237986115], [0.142522971], [0.724176488], [0.234698933], [0.07818228099999999], [0.855990155], [0.270251765], [0.435517841], [0.762697513], [0.46448725799999996], [0.396112685], [0.37638092100000003], [0.29459467699999997], [0.6944921209999999], [0.622767949], [0.8475597220000001], [0.301463054], [0.912937812], [0.500017182], [0.902587935], [0.304517943], [0.299165673], [0.092014087], [0.488548917], [0.664664437], [0.26534954899999996], [0.723657021], [0.149262385], [0.04577339], [0.69661064], [0.42181486], [0.733845785], [0.418795386], [0.677443529], [0.26128360300000003], [0.268527767], [0.5443222360000001], [0.431632036], [0.981018141], [0.21498072399999998], [0.39472999299999995], [0.122224944], [0.297496875], [0.37490443100000004], [0.68698771], [0.388549207], [0.039296071], [0.73553424], [0.37929489299999997], [0.7321233859999999], [0.33922143899999996], [0.659450594], [0.054838642], [0.640112102], [0.30714170399999996], [0.39661190700000004], [0.420439161], [0.24171497399999997], [0.065893153], [0.9105219370000001], [0.697163103], [0.072559853], [0.81825094], [0.311888815], [0.961644609], [0.816325524], [0.14647302], [0.548753945], [0.946158087], [0.293992717], [0.331479643], [0.9062200309999999], [0.525540416], [0.83301411], [0.514849806], [0.574609024], [0.46871185299999996], [0.71002775], [0.645973276], [0.229794416], [0.551783393], [0.055822990999999995], [0.331750941], [0.715520198], [0.583924357], [0.30695769100000003], [0.7914782370000001], [0.16423663900000002], [0.065711219], [0.948993132], [0.080423835], [0.052495426], [0.566346135], [0.3630266], [0.605442195], [0.6308505839999999], [0.065791238], [0.28681707100000003], [0.685462839], [0.260853706], [0.659122429], [0.44317392200000005], [0.602063986], [0.060366910999999995], [0.781903153], [0.5145798070000001], [0.48388621299999995], [0.600213807], [0.49736405200000006], [0.411145245], [0.116999171], [0.34189014100000004], [0.746950848], [0.39629274600000003], [0.6221438429999999], [0.335271141], [0.140257137], [0.081620681], [0.069837569], [0.46894000799999996], [0.9908574170000001], [0.896616832], [0.255310561], [0.22464526699999998], [0.01991825], [0.296480415], [0.155458996], [0.577916714], [0.9563030309999999], [0.813464394], [0.529675785], [0.287671353], [0.48039136], [0.28104482199999997], [0.633196521], [0.09332537699999999], [0.28447398100000004], [0.052223775], [0.051129385], [0.967405608], [0.040045727999999996], [0.9085829209999999], [0.6621174160000001], [0.42470320899999997], [0.72207806], [0.666193327], [0.509681253], [0.7513536209999999], [0.279073124], [0.074927], [0.916359535], [0.31040327], [0.716604052], [0.485587085], [0.30607518100000003], [0.477558204], [0.7119239409999999], [0.066348638], [0.27453935100000004], [0.31082252], [0.47607312700000004], [0.186795565], [0.26654207], [0.070231142], [0.26951927], [0.800004713], [0.27363366699999997], [0.14647919199999998], [0.378318951], [0.373849065], [0.242170835], [0.249796488], [0.066591188], [0.372956798], [0.501812291], [0.313097752], [0.8802021959999999], [0.51981893], [0.364138746], [0.49268289600000004], [0.285732652], [0.890114985], [0.316419561], [0.26866354], [0.771975959], [0.968888992], [0.080334377], [0.7368282209999999], [0.30055807100000004], [0.9179503929999999], [0.465815039], [0.054036682], [0.963150123], [0.08965350300000001], [0.7076932340000001], [0.636416037], [0.539521117], [0.114757161], [0.357312419], [0.67639834], [0.43482839], [0.032326387000000005], [0.711365605], [0.187486519], [0.052789653], [0.5058636129999999], [0.927431873], [0.6809842559999999], [0.882822186], [0.495705441], [0.596240398], [0.320610701], [0.3413685], [0.159681797], [0.318133669], [0.8393010479999999], [0.06435925099999999], [0.470216633], [0.7762522909999999], [0.635843383], [0.62510543], [0.52959065], [0.986900166], [0.078585688], [0.233284267], [0.363330957], [0.7167169809999999], [0.37588979200000006], [0.223316889], [0.299343986], [0.538595767], [0.730297124], [0.66033077], [0.435296009], [0.326494313], [0.854402708], [0.5734938470000001], [0.757786135], [0.704743233], [0.281575597], [0.671968208], [0.313726015], [0.364338275], [0.368216396], [0.38629520700000003], [0.655971865], [0.5660252729999999], [0.424999093], [0.090110371], [0.772350538], [0.331047258], [0.273716188], [0.23877568], [0.37307977200000003], [0.331185868], [0.256134531], [0.678373225], [0.43463833799999996], [0.654668307], [0.986681065], [0.371520495], [0.408359618], [0.40932365], [0.283412082], [0.395246531], [0.010984428000000001], [0.306013869], [0.266194806], [0.299318521], [0.318293946], [0.74282591], [0.09766432900000001], [0.079666942], [0.613258767], [0.99443072], [0.568835082], [0.7080345159999999], [0.37059271899999996], [0.669867361], [0.651295625], [0.462531569], [0.7196256190000001], [0.45377248], [0.394863946], [0.323974831], [0.146454724], [0.7790670409999999], [0.401828915], [0.601479585], [0.856423023], [0.565242962], [0.301225108], [0.282108144], [0.594378011], [0.705312368], [0.5408696279999999], [0.319249574], [0.36176613799999996], [0.625000704], [0.316287401], [0.047239021], [0.801182233], [0.508474436], [0.8178934109999999], [0.399235601], [0.9740519990000001], [0.72241535], [0.039564764], [0.908684108], [0.47301013399999997], [0.7180496279999999], [0.7634790690000001], [0.6475965370000001], [0.8949973859999999], [0.22282590100000002], [0.359012234], [0.944910252], [0.297877816], [0.172517997], [0.556586265], [0.876481735], [0.48667784299999994], [0.459496733], [0.47412637700000004], [0.70101144], [0.337597387], [0.537578886], [0.966992448], [0.056849545], [0.233249065], [0.380054711], [0.602929443], [0.303847999], [0.170194553], [0.972168554], [0.332168927], [0.6887286890000001], [0.110773401], [0.273352065], [0.572939678], [0.491457065], [0.281389999], [0.821697261], [0.6749776829999999], [0.585134549], [0.7105961159999999], [0.040488789], [0.568054311], [0.321752928], [0.611850232], [0.926096887], [0.618347428], [0.667629785], [0.39773346600000004], [0.290875487], [0.594375103], [0.508255233], [0.338571357], [0.43230234700000003], [0.302221978], [0.87619819], [0.080204492], [0.092333532], [0.09365644699999999], [0.6084523510000001], [0.732654598], [0.944158855], [0.26742308], [0.731124201], [0.661308553], [0.38776626200000003], [0.962585273], [0.322067067], [0.6340810929999999], [0.475345002], [0.35355897299999994], [0.8859363159999999], [0.876798106], [0.221581064], [0.394362449], [0.8050356759999999], [0.452898486], [0.592520516], [0.761026394], [0.245049023], [0.37213936299999995], [0.681054822], [0.7471431479999999], [0.9207395290000001], [0.097207945], [0.699302998], [0.721647006], [0.5353561139999999], [0.738293805], [0.7064675509999999], [0.67395061], [0.7112122909999999], [0.302558708], [0.080097855], [0.707010837], [0.512248622], [0.659627472], [0.657559694], [0.100645606], [0.92665363], [0.892879338], [0.839157508], [0.890959718], [0.556754471], [0.960361937], [0.631037864], [0.029838065], [0.278843351], [0.926157705], [0.551504258], [0.485942349], [0.43723469600000003], [0.25231801800000003], [0.515466972], [0.43725229600000004], [0.493724207], [0.83324725], [0.317521477], [0.28623456199999997], [0.726833965], [0.495667033], [0.028645255], [0.31967191699999997], [0.674344598], [0.7660371890000001], [0.65456992], [0.7565143809999999], [0.528253719], [0.38971949100000003], [0.355087459], [0.87015202], [0.7390833059999999], [0.305761846], [0.411587673], [0.063633094], [0.735409395], [0.605916669], [0.539395562], [0.566183532], [0.674795186], [0.070993366], [0.12526410000000002], [0.279601492], [0.952174402], [0.233806762], [0.43724742899999997], [0.925423095], [0.433498634], [0.52517902], [0.088435529], [0.447677638], [0.647000631], [0.9036033370000001], [0.265790738], [0.66419695], [0.498120658], [0.49018894399999996], [0.747084187], [0.906783648], [0.678770917], [0.348599859], [0.294839683], [0.705691827], [0.211917931], [0.063201124], [0.276699543], [0.672459395], [0.8082059490000001], [0.296538373], [0.16012686199999998], [0.439385032], [0.555951416], [0.386240112], [0.158689619], [0.214499855], [0.299579429], [0.569161656], [0.488614799], [0.8782950209999999], [0.649380949], [0.465713341], [0.16813774], [0.87529545], [0.8411323409999999], [0.33292081], [0.5130478589999999], [0.30505507800000004], [0.8126269909999999], [0.25096706], [0.5024355779999999], [0.45799074100000003]], \"hoverlabel\": {\"namelength\": 0}, \"hovertemplate\": \"0=%{x}<br>1=%{y}<br>2=%{z}<br>Feature=%{customdata[0]}<br>Anomaly=%{marker.color}\", \"legendgroup\": \"\", \"marker\": {\"color\": [0, 0, 1, 1, 0, 0, 0, 0, 1, 1, 0, 1, 0, 1, 1, 1, 0, 1, 1, 0, 1, 0, 0, 1, 1, 1, 0, 0, 1, 1, 0, 0, 1, 1, 0, 0, 1, 0, 0, 0, 0, 0, 0, 1, 0, 1, 1, 0, 1, 0, 0, 1, 0, 1, 1, 1, 1, 0, 0, 1, 0, 1, 0, 1, 0, 1, 0, 0, 0, 0, 0, 0, 0, 0, 0, 0, 0, 0, 0, 0, 0, 0, 0, 0, 0, 0, 0, 0, 0, 0, 0, 0, 0, 0, 0, 0, 0, 0, 0, 0, 0, 0, 0, 0, 0, 0, 0, 0, 0, 0, 0, 0, 0, 0, 0, 0, 0, 0, 0, 0, 0, 0, 0, 0, 0, 0, 0, 0, 0, 0, 0, 0, 0, 0, 0, 0, 0, 0, 0, 0, 0, 0, 0, 0, 0, 0, 0, 0, 0, 0, 0, 0, 0, 0, 0, 0, 0, 0, 0, 0, 0, 0, 0, 0, 0, 0, 0, 0, 0, 0, 0, 0, 0, 0, 0, 0, 0, 0, 0, 0, 0, 0, 0, 0, 0, 0, 0, 0, 0, 0, 0, 0, 0, 0, 0, 0, 0, 0, 0, 0, 0, 0, 0, 0, 0, 0, 0, 0, 0, 0, 0, 0, 0, 0, 0, 0, 0, 0, 0, 0, 0, 0, 0, 0, 0, 0, 0, 0, 0, 0, 0, 0, 0, 0, 0, 0, 0, 0, 0, 0, 0, 0, 0, 0, 0, 0, 0, 0, 0, 0, 0, 0, 0, 0, 0, 0, 0, 0, 0, 0, 0, 0, 0, 0, 0, 0, 0, 0, 0, 0, 0, 0, 0, 0, 0, 0, 0, 0, 0, 0, 0, 0, 0, 0, 0, 0, 0, 0, 0, 0, 0, 0, 0, 0, 0, 0, 0, 0, 0, 0, 0, 0, 0, 0, 0, 0, 0, 0, 0, 0, 0, 0, 0, 0, 0, 0, 0, 0, 0, 0, 0, 0, 0, 0, 0, 0, 0, 0, 0, 0, 0, 0, 0, 0, 0, 0, 0, 0, 0, 0, 0, 0, 0, 0, 0, 0, 0, 0, 0, 0, 0, 0, 0, 0, 0, 0, 0, 0, 0, 0, 0, 0, 0, 0, 0, 0, 0, 0, 0, 0, 0, 0, 0, 0, 0, 0, 0, 0, 0, 0, 0, 0, 0, 0, 0, 0, 0, 0, 0, 0, 0, 0, 0, 0, 0, 0, 0, 0, 0, 0, 0, 0, 0, 0, 0, 0, 0, 0, 0, 0, 0, 0, 0, 0, 0, 0, 0, 0, 0, 0, 0, 0, 0, 0, 0, 0, 0, 0, 0, 0, 0, 0, 0, 0, 0, 0, 0, 0, 0, 0, 0, 0, 0, 0, 0, 0, 0, 0, 0, 0, 0, 0, 0, 0, 0, 0, 0, 0, 0, 0, 0, 0, 0, 0, 0, 0, 0, 0, 0, 0, 0, 0, 0, 0, 0, 0, 0, 0, 0, 0, 0, 0, 0, 0, 0, 0, 0, 0, 0, 0, 0, 0, 0, 0, 0, 0, 0, 0, 0, 0, 0, 0, 0, 0, 0, 0, 0, 0, 0, 0, 0, 0, 0, 0, 0, 0, 0, 0, 0, 0, 0, 0, 0, 0, 0, 0, 0, 0, 0, 0, 0, 0, 0, 0, 0, 0, 0, 0, 0, 0, 0, 0, 0, 0, 0, 0, 0, 0, 0, 0, 0, 0, 0, 0, 0, 0, 0, 0, 0, 0, 0, 0, 0, 0, 0, 0, 0, 0, 0, 0, 0, 0, 0, 0, 0, 0, 0, 0, 0, 0, 0, 0, 0, 0, 0, 0, 0, 0, 0, 0, 0, 0, 0, 0, 0, 0, 0, 0, 0, 0, 0, 0, 0, 0, 0, 0, 0, 0, 0, 0, 0, 0, 0, 0, 0, 0, 0, 0, 0, 0, 0, 0, 0, 0, 0, 0, 0, 0, 0, 0, 0, 0, 0, 0, 0, 0, 0, 0, 0, 0, 0, 0, 0, 0, 0, 0, 0, 0, 0, 0, 0, 0, 0, 0, 0, 0, 0, 0, 0, 0, 0, 0, 0, 0, 0, 0, 0, 0, 0, 0, 0, 0, 0, 0, 0, 0, 0, 0, 0, 0, 0, 0, 0, 0, 0, 0, 0, 0, 0, 0, 0, 0, 0, 0, 0, 0, 0, 0, 0, 0, 1, 1, 0, 1, 0, 0, 0, 1, 1, 1, 1, 0, 1, 1, 1, 0, 1, 1, 1, 0, 1, 0, 1, 1, 1, 1, 0, 0, 0, 0, 0, 0, 0, 0, 0, 0, 0, 0, 0, 0, 0, 0, 0, 0, 0, 0, 0, 0, 0, 0, 0, 0, 0, 0, 0, 0, 0, 0, 0, 0, 0, 0, 0, 0, 0, 0, 0, 0, 0, 0, 0, 0, 0, 0, 0, 0, 0, 0, 0, 0, 0, 0, 0, 0, 0, 0, 0, 0, 0, 0, 0, 0, 0, 0, 0, 0, 0, 0, 0, 0, 0, 0, 0, 0, 0, 0, 0, 0, 0, 0, 0, 0, 0, 0, 0, 0, 0, 0, 0, 0, 0, 0, 0, 0, 0, 0, 0, 0, 0, 0, 0, 0, 0, 0, 0, 0, 0, 0, 0, 0, 0, 0, 0, 0, 0, 0, 0, 0, 0, 0, 0, 0, 0, 0, 0, 0, 0, 0, 0, 0, 0, 0, 0, 0, 0, 0, 0, 0, 0, 0, 0, 0, 0, 0, 0, 0, 0, 0, 0, 0, 0, 0, 0, 0, 0, 0, 0, 0, 0, 0, 0, 0, 0, 0, 0, 0, 0, 0, 0, 0, 0, 0, 0, 0, 0, 0, 0, 0, 0, 0, 0, 0, 0, 0, 0, 0, 0, 0, 0, 0, 0, 0, 0, 0, 0, 0, 0, 0, 0, 0, 0, 0, 0, 0, 0, 0, 0, 0, 0, 0, 0, 0, 0, 0, 0, 0, 0, 0, 0, 0, 0, 0, 0, 0, 0, 0, 0, 0, 0, 0, 0, 0, 0, 0, 0, 0, 0, 0, 0, 0, 0, 0, 0, 0, 0, 0, 0, 0, 0, 0, 0, 0, 0, 0, 0, 0, 0, 0, 0, 0, 0, 0, 0, 0, 0, 0, 0, 0, 0, 0], \"coloraxis\": \"coloraxis\", \"opacity\": 0.7, \"symbol\": \"circle\"}, \"mode\": \"markers\", \"name\": \"\", \"scene\": \"scene\", \"showlegend\": false, \"type\": \"scatter3d\", \"x\": [-7.030492305755615, -0.09567906707525253, -2.615267753601074, 5.291194915771484, -5.843893051147461, 2.503120183944702, 0.0458361878991127, 4.339041233062744, -5.572418689727783, -6.952805042266846, 3.040365219116211, 0.07885553687810898, 8.0653076171875, -6.9362969398498535, 2.14553165435791, 6.2712016105651855, 7.970867156982422, 6.894559860229492, -2.1524507999420166, 5.782400131225586, 2.6073527336120605, -2.4259181022644043, -5.8353447914123535, -5.305306911468506, -3.142813205718994, 0.43275630474090576, -0.6752538084983826, -2.993431568145752, 4.144400596618652, 1.1222751140594482, -4.464591979980469, 1.0256763696670532, -1.4074703454971313, 3.523798704147339, -4.072198867797852, -1.2725951671600342, 6.356473922729492, -3.0224926471710205, -3.65006160736084, 1.7927089929580688, 3.4461169242858887, 2.8804662227630615, 2.4337732791900635, -1.2234761714935303, 1.554761290550232, 7.03773832321167, 2.509620189666748, -5.235458850860596, -0.10724121332168579, 1.6089608669281006, 7.3355231285095215, -1.5817067623138428, -3.934584140777588, 6.7849345207214355, 2.546550989151001, 8.305739402770996, 1.5350911617279053, -6.1845526695251465, 3.4992544651031494, 0.8766738772392273, -4.905486106872559, 1.2274954319000244, 2.27292537689209, 2.9773309230804443, 3.879103660583496, 2.8731143474578857, -1.5245212316513062, 7.1329731941223145, -0.5637405514717102, -0.47667109966278076, 1.6581746339797974, 4.722926616668701, -5.435939788818359, 5.664198875427246, -0.9018957614898682, -4.963007926940918, -0.3977263271808624, 2.2640628814697266, -1.792249083518982, -5.498339653015137, -5.573468208312988, -6.119006156921387, -3.8128154277801514, 1.5110887289047241, 1.4506839513778687, 1.9572237730026245, 4.184838771820068, 2.8560643196105957, -0.7102482318878174, -5.341903209686279, -2.424981117248535, 3.573341131210327, 1.8765186071395874, 0.3303455114364624, 6.521561145782471, 1.8319591283798218, -1.3323146104812622, 2.469062566757202, -2.9162492752075195, -1.0450632572174072, -5.43123722076416, 2.2350311279296875, 2.0073280334472656, -3.8391809463500977, 8.393372535705566, -2.633641004562378, 3.94097638130188, 4.734561443328857, -1.7036749124526978, 3.0685689449310303, -4.464995384216309, -7.351627349853516, 3.8772592544555664, -4.824090480804443, -3.3369691371917725, -5.722405910491943, 4.296372413635254, 0.282205730676651, 5.158938884735107, -2.3715505599975586, -5.756918430328369, -1.3764526844024658, 5.681828498840332, 3.4899604320526123, 1.2662750482559204, 0.6219155192375183, 6.704684734344482, 4.680315017700195, 1.3017305135726929, 0.6981030702590942, -3.06524920463562, -1.989546537399292, 7.238482475280762, 2.5771920680999756, 3.2803432941436768, -6.903290748596191, -4.399596214294434, 7.5801310539245605, -0.5765043497085571, -1.621559977531433, 5.408866882324219, -3.9816431999206543, -4.3458051681518555, -3.91111421585083, -1.660521149635315, -4.063791751861572, 1.9760088920593262, 0.7688831090927124, -0.6333394050598145, 4.144976615905762, -4.284250736236572, -4.258138656616211, 4.448738098144531, -4.596121788024902, -3.5152509212493896, -0.6854842901229858, 0.5706899166107178, 3.8632729053497314, -0.4938468933105469, 3.5975451469421387, 3.330785036087036, -5.541194438934326, -1.810785174369812, -3.2083380222320557, 3.3206021785736084, 3.7379865646362305, 6.227962493896484, 0.6965222954750061, -0.5202599763870239, 1.6272263526916504, 3.473328113555908, 2.7383615970611572, -0.17642587423324585, -3.918870687484741, 0.6672899127006531, 3.0376360416412354, 1.570398211479187, -3.372049570083618, -0.45411670207977295, 6.782646656036377, 1.820626974105835, -1.367937445640564, 2.81819486618042, -0.5337234139442444, 0.03212398663163185, 3.205984354019165, 0.7431818246841431, -3.027985095977783, -6.414029598236084, -4.645428657531738, 1.3930788040161133, -3.9293150901794434, 3.7527964115142822, -3.6731607913970947, 5.719828128814697, 1.7270656824111938, 2.6906421184539795, 5.8726091384887695, -4.7469940185546875, 1.5964630842208862, -3.0462915897369385, -1.3986204862594604, 5.489039897918701, -3.5082263946533203, -2.8965678215026855, 1.1157814264297485, -6.634768009185791, -2.750608444213867, -0.7431418299674988, -2.774430751800537, 0.7129775881767273, -0.7333022952079773, 3.423736810684204, -5.455366134643555, -1.4035227298736572, 0.30100709199905396, -2.053474187850952, 1.1178267002105713, 3.0444958209991455, -2.352001428604126, -3.076843738555908, 2.42010235786438, -2.6591014862060547, -2.037846326828003, 4.9211745262146, -6.8556952476501465, 2.297318935394287, -7.315440654754639, 3.6511728763580322, -3.5220348834991455, 1.4696447849273682, 2.103499412536621, 6.238056659698486, 7.32487154006958, -0.8189684152603149, 2.5446720123291016, -3.574793815612793, -5.4443535804748535, 4.548677921295166, -4.065089702606201, -2.2970573902130127, 4.976834774017334, -2.414093494415283, 1.8282208442687988, 2.953181028366089, 4.556649208068848, -5.930490016937256, -0.9465537071228027, 1.8213109970092773, -5.3311944007873535, -6.155796527862549, -0.29716700315475464, 4.496890544891357, -5.102174758911133, -3.217231273651123, -4.079784870147705, -6.719098091125488, 1.5805131196975708, -3.417076587677002, -1.9268699884414673, -3.631746768951416, -4.098423957824707, -4.802486419677734, 2.484842538833618, -6.200838088989258, 1.7766886949539185, 7.621224403381348, 4.954825401306152, -1.6858106851577759, 6.2570977210998535, 4.272254467010498, 4.539730072021484, -7.088486194610596, -3.5244102478027344, 3.23431396484375, -2.656036138534546, 1.8010329008102417, -3.863029956817627, 3.8200178146362305, -6.3457465171813965, 2.4154436588287354, -3.360898733139038, -5.266759872436523, -4.975379943847656, -2.70546555519104, 4.418336391448975, -0.6457957029342651, 2.1036367416381836, 3.2660393714904785, -5.082553386688232, -4.240102767944336, 3.9869577884674072, 4.048140525817871, 3.6382267475128174, 1.7295105457305908, 2.1603455543518066, 1.8274468183517456, -3.4936609268188477, 3.356843948364258, -5.351222991943359, 1.2505780458450317, 1.1741626262664795, 2.3983633518218994, 3.7816162109375, 0.6819177269935608, -1.2190539836883545, 3.7841579914093018, -2.2780308723449707, 2.6492159366607666, -0.34248459339141846, -0.19739963114261627, 0.4655957818031311, -1.7899099588394165, -3.9949865341186523, 1.7459920644760132, -7.120739936828613, 1.4711202383041382, 0.5986599326133728, -0.9163008332252502, 5.214280128479004, 1.825421929359436, -3.622314691543579, 5.677759170532227, 0.1757839173078537, -6.949151515960693, -3.488046884536743, 7.562272071838379, 6.7812418937683105, -0.8554821014404297, 1.6095637083053589, 5.053541660308838, 0.3816394805908203, -3.0559868812561035, -1.942108154296875, 3.1085617542266846, -0.7550168037414551, 0.7706789374351501, -7.489444255828857, 1.1501203775405884, -0.8826473951339722, -7.92392110824585, -5.057426452636719, 5.3325982093811035, -4.292568206787109, 4.685916423797607, -2.1394541263580322, 2.3939895629882812, 3.153104305267334, 4.594086170196533, 0.27709805965423584, -0.8892137408256531, -7.513232707977295, -2.6309282779693604, 4.753835678100586, -0.6721899509429932, -5.595818996429443, -2.74489688873291, 0.6918789148330688, 1.9767529964447021, -1.3886953592300415, 0.8455290794372559, 2.668057918548584, -5.437081813812256, 1.944234013557434, 5.29334020614624, -1.8684892654418945, 4.025230884552002, 2.608703374862671, 1.7628438472747803, 5.088696002960205, 4.904366970062256, -2.0837459564208984, -1.594314694404602, 0.2623162269592285, 5.6817216873168945, 4.077465057373047, -2.2254533767700195, 1.828679084777832, 5.3991193771362305, -3.383802652359009, 4.036588668823242, -2.801241636276245, -1.657362699508667, -5.680212020874023, 1.2253268957138062, -0.855151355266571, 4.117333889007568, 4.120193958282471, 1.900649070739746, -6.494792938232422, 0.5550330877304077, -1.6479521989822388, -8.2565336227417, -5.004729270935059, -1.4909552335739136, 4.736984729766846, -2.718883991241455, 3.191025733947754, -3.4043161869049072, -5.996467113494873, -2.6633365154266357, -0.0235330481082201, 0.13902755081653595, 1.8309781551361084, 4.729451656341553, 4.346441745758057, -0.7238014936447144, -3.956037998199463, 3.9042327404022217, 4.555137634277344, 2.9241487979888916, -5.239823818206787, 4.2996344566345215, -1.75654935836792, 3.547736644744873, 2.3602380752563477, 3.5400426387786865, -0.2305181622505188, 6.9639692306518555, -1.7637176513671875, -6.727855205535889, 3.912022352218628, 2.6740996837615967, -1.1170912981033325, -0.11845256388187408, 3.4372169971466064, 1.069276213645935, 1.2094149589538574, -5.553674697875977, -0.2549896538257599, -5.572786808013916, 2.269125461578369, 1.0577781200408936, 2.793471336364746, 2.174337148666382, 2.9261295795440674, 0.0894036740064621, -1.8012138605117798, -1.9012575149536133, -2.241546630859375, -3.1887733936309814, -1.9365668296813965, -2.8803000450134277, -0.5644127130508423, -1.1419426202774048, 1.2280093431472778, 2.302535057067871, -2.396624803543091, -3.9134068489074707, -0.9217557311058044, 0.16090980172157288, -3.8861823081970215, 3.4987523555755615, -1.3511711359024048, 3.3340272903442383, 6.6717915534973145, 2.342777967453003, -4.104889392852783, -1.5844045877456665, -5.432535171508789, 1.762987732887268, -1.82168447971344, 3.2116425037384033, -5.578250885009766, -3.366096019744873, -2.386525869369507, -1.7207165956497192, 2.668473243713379, 3.5313313007354736, -1.367395281791687, -6.008713245391846, -0.7318103313446045, 3.878922462463379, -6.032546043395996, 4.692264080047607, 4.984797954559326, 1.6407173871994019, 0.43387991189956665, -7.288745403289795, 1.0824209451675415, 2.583587408065796, 0.8835933208465576, 0.5487233400344849, -0.45059069991111755, 3.6724159717559814, -1.2023842334747314, 3.399728298187256, -6.104242324829102, -7.1058478355407715, -5.09670352935791, -2.060476303100586, 2.167785882949829, -1.6991536617279053, 2.7493598461151123, -2.0986242294311523, 1.553421974182129, 5.11722469329834, 3.4711740016937256, -3.3469412326812744, -5.211393356323242, -0.6042925715446472, -2.986497402191162, -2.8254787921905518, -0.5007851123809814, -5.625734329223633, -4.758510112762451, -0.5832549333572388, 1.7844574451446533, -6.262796878814697, -2.044318675994873, -3.9062764644622803, 3.6703951358795166, 4.143730640411377, -0.3631143271923065, -3.0099945068359375, -2.0794930458068848, -5.863511085510254, -0.9283103942871094, -0.7911308407783508, 4.688506603240967, -6.403708457946777, -2.8665993213653564, -2.360874891281128, -0.5302766561508179, 2.4592816829681396, 5.269820213317871, -5.954276084899902, 1.3419137001037598, 0.8118107318878174, -7.790992736816406, 2.1830859184265137, 3.425947427749634, 5.0143141746521, 5.236108779907227, 3.1242082118988037, -0.4314497709274292, 3.705397129058838, -2.837392568588257, -5.812985897064209, 6.097878456115723, -1.291890263557434, 2.0226972103118896, 3.16872239112854, -1.3163766860961914, 3.4546375274658203, 6.646307945251465, -3.3668148517608643, 3.4917404651641846, 1.3999078273773193, -4.3920578956604, -1.8328254222869873, -4.824037075042725, -1.651559591293335, -0.5011747479438782, -2.587742328643799, 0.4151485562324524, 4.464352130889893, -0.02636604756116867, 7.569674968719482, -3.9072818756103516, -0.9608244895935059, 3.417616128921509, -2.3857274055480957, 1.360550045967102, -1.1168512105941772, -5.489058971405029, 2.1004273891448975, -2.690683126449585, 0.18326328694820404, 1.455052375793457, -6.229860305786133, 2.686227560043335, 3.9193074703216553, 0.2280036062002182, 1.6478761434555054, 0.37630417943000793, -0.09002794325351715, 2.7843680381774902, -5.500946998596191, -5.352451801300049, -6.4334397315979, -3.6110823154449463, 0.191739022731781, -0.11682336032390594, 2.832810878753662, -6.808234214782715, -7.8464250564575195, 4.630536079406738, 4.252976894378662, 3.864311695098877, 0.6936339139938354, 0.41738203167915344, -5.109824180603027, 4.067162036895752, -3.874994993209839, -4.745605945587158, 4.763767242431641, 3.6138696670532227, 0.2913745045661926, -0.6489949822425842, 6.228679656982422, -2.5784990787506104, -2.6420364379882812, 1.5116864442825317, 0.6728673577308655, -0.7466369867324829, 6.136048316955566, 1.456034779548645, -1.7263373136520386, 0.37281864881515503, -2.270223617553711, -5.756186008453369, -5.2026047706604, -7.609650611877441, -6.58665657043457, -1.4434618949890137, 1.554613709449768, -0.4994021952152252, 1.1526529788970947, -7.807684898376465, -5.512465000152588, -3.612924814224243, -6.261505126953125, -1.6183406114578247, -0.27958157658576965, 3.0536701679229736, 3.296527862548828, -3.978487014770508, -3.6039252281188965, -5.124102592468262, -5.18802547454834, 5.884936809539795, -0.04756341129541397, -3.279447317123413, -5.501314163208008, -5.889843940734863, -6.550276756286621, -5.23493766784668, 2.727867364883423, -4.279820442199707, -2.909228801727295, -2.773148775100708, 1.8141783475875854, -4.203351020812988, 1.1701306104660034, -0.8872038722038269, -1.167823076248169, -5.984766483306885, -3.5124783515930176, -7.893795967102051, 2.3171021938323975, 1.5662333965301514, -2.648768901824951, 6.852844715118408, 3.12873911857605, 0.03140122443437576, -2.147897243499756, -5.257831573486328, 4.410618782043457, 2.627412796020508, 1.9183344841003418, -2.9420974254608154, -3.6996288299560547, -6.1960248947143555, 2.56538987159729, -3.4796853065490723, 7.352169513702393, 2.3668384552001953, 5.899761199951172, 2.255749464035034, -1.8788514137268066, -5.357125759124756, -5.760685920715332, -4.935433387756348, 2.3242568969726562, -0.8450253009796143, -1.9249011278152466, 3.824575901031494, 2.981778860092163, 2.621539354324341, -0.589834451675415, 2.8849284648895264, -8.034229278564453, -0.039521053433418274, -3.6063811779022217, 2.543632745742798, -3.153186798095703, 3.33931303024292, 3.248823404312134, 0.9137012362480164, 1.8627099990844727, -0.5320242047309875, 3.7219831943511963, 3.2541615962982178, 4.881105422973633, 5.17024040222168, -2.473986864089966, -6.98866605758667, -1.7632277011871338, 0.18754330277442932, -0.07633667439222336, -5.65238094329834, -6.902612209320068, 4.168663501739502, -5.4897847175598145, 7.009159564971924, 4.249321937561035, 7.670682430267334, -6.318121433258057, -1.3383407592773438, 3.3201253414154053, 3.831785202026367, 2.292942762374878, 0.6305367946624756, 4.824441432952881, 1.8398098945617676, 2.456925868988037, 6.94715690612793, 4.897624969482422, 4.111886978149414, -2.186026096343994, 6.079410552978516, 3.9033405780792236, -1.54057776927948, 0.8188881874084473, -1.3529815673828125, -1.33948814868927, 5.81875467300415, 6.303755283355713, 1.573482632637024, 0.823374330997467, -0.49606889486312866, -4.973210334777832, -2.7894859313964844, 2.934102773666382, 2.631582021713257, -5.509459018707275, -2.8172483444213867, -2.825862169265747, -1.7030290365219116, -2.066697597503662, -5.23301887512207, -4.878483295440674, -3.06984543800354, -3.1847848892211914, -3.54290509223938, -6.730835914611816, 3.817497730255127, -4.047330379486084, 2.15609073638916, 0.06625960767269135, -1.763573169708252, 6.56729793548584, 5.600341796875, 2.0413403511047363, -3.4664902687072754, -5.624126434326172, -3.7279772758483887, 0.09749387204647064, 2.17383074760437, 0.19362220168113708, -5.932568073272705, 3.1481833457946777, 4.7151103019714355, -6.883308410644531, 2.9176247119903564, 4.36526346206665, -2.960650682449341, 0.3805628716945648, -4.042749881744385, -5.621836185455322, -6.474295616149902, -4.842678070068359, 1.4838838577270508, -4.004756450653076, 0.4756198823451996, -3.501929998397827, 1.0948271751403809, -0.007918987423181534, -3.09212327003479, -5.531256675720215, 3.541264772415161, 2.5710537433624268, -4.825087070465088, -1.2673722505569458, 1.1972860097885132, -1.6760845184326172, 2.547009229660034, -4.438989639282227, -7.903407096862793, 5.327165126800537, -5.681285381317139, -2.8399672508239746, -0.6653448343276978, 5.0379638671875, 2.444136142730713, 0.3844992220401764, -3.8786821365356445, -4.050516605377197, 0.29456770420074463, -1.225035548210144, -3.182818651199341, 0.00424277875572443, -0.32370465993881226, -4.200485706329346, 3.1541244983673096, -2.292978048324585, 1.0349100828170776, 5.3416876792907715, 5.811537265777588, -2.0325629711151123, -2.6381638050079346, -0.7176969051361084, -7.205270290374756, 2.668208360671997, -3.7145423889160156, 1.643966555595398, 3.504955530166626, 1.0104877948760986, 4.3589701652526855, 1.44622802734375, -4.003978729248047, -2.9963815212249756, 0.2673722803592682, 3.60309100151062, 0.09988666325807571, 5.147653102874756, -4.74705696105957, -2.621781587600708, 2.6213905811309814, 0.09577258676290512, -2.4513237476348877, 1.7624553442001343, -1.9282515048980713, -4.628225803375244, 0.6658515930175781, -0.9673959016799927, -4.570149898529053, 0.512829601764679, -2.3631210327148438, -4.829084396362305, -3.9614789485931396, 4.860222339630127, 3.7164902687072754, 1.6658110618591309, 3.4371893405914307, 4.379001617431641, -4.449405193328857, -5.153825283050537, 1.211472988128662, 4.444757461547852, -4.927751541137695, -3.6908681392669678, -5.258882522583008, 1.1433711051940918, 5.36482572555542, 0.23467572033405304, 1.7649893760681152, -5.43914270401001, -3.1182758808135986, -4.254506587982178, -5.772854328155518, -3.6309633255004883, -7.254269123077393, 4.296238422393799, 7.290565490722656, 0.7374491095542908, -7.438389778137207, 1.1536579132080078, -4.807880878448486, -0.48284071683883667, -1.4529392719268799, 4.2751994132995605, -5.65167760848999, 5.534618854522705, 4.1138224601745605, -1.4163986444473267, 0.6675504446029663, -5.316135406494141, -2.0651023387908936, -3.815263032913208, -0.1877850592136383, -5.426364421844482, 5.256430625915527, 3.2469964027404785, 4.028260231018066, -3.1239144802093506, 3.8160037994384766, -5.885950565338135, -1.36701238155365, -2.7282004356384277, -0.00044167693704366684, -0.3754514157772064, -6.290340423583984, -0.8599358201026917, -6.102993965148926, -6.1879563331604, 3.043124198913574, 1.3384976387023926, -2.045670747756958, 1.8867746591567993, -3.848004102706909, 0.32853174209594727, 3.3468849658966064, -6.839069843292236, -4.069445610046387, 2.200974225997925, 0.23742352426052094, -0.21572399139404297, -1.7503515481948853, 1.835973858833313, 4.484817028045654, 1.837288737297058, -0.5945747494697571, -1.87975013256073, -4.051810264587402, -6.192119598388672, 5.49970817565918, 1.8235634565353394, 3.5206873416900635, -5.159325122833252, 7.257147312164307, -2.336594343185425, -5.825429439544678, 5.4677228927612305, -4.021186828613281, 4.712277889251709, -6.2849907875061035, 3.2499587535858154, 5.508533000946045, -4.361462116241455, -1.4465532302856445, 4.03949499130249, 2.4617233276367188, 3.7544333934783936, -0.1994963437318802, -0.9437909722328186, -1.543452501296997, -0.3711920976638794, 1.8050742149353027, 0.023419179022312164, -3.022634983062744, -2.498687505722046, 4.226412296295166, -1.5145412683486938, -1.6377397775650024, -2.170694589614868, -3.1873903274536133, 3.2929728031158447, 4.802033424377441, -7.461183071136475, -3.40893292427063, 3.6607582569122314, 6.215939044952393, 4.262577533721924, 3.5507190227508545, 4.559287071228027, 1.9078446626663208, -2.125363349914551, -0.4332120716571808, 3.8579728603363037, 3.914292573928833, -3.288245677947998, -1.4269713163375854, -5.552779674530029, 3.953308343887329, 2.869490623474121, -0.5160847306251526, -1.0668151378631592, -2.960061550140381, 2.542682409286499, -4.449892044067383, -8.276387214660645, -3.6725354194641113, -6.305556297302246, 2.849794864654541, 1.3019630908966064, 1.4111217260360718, -4.94143009185791, 2.1286447048187256, -1.9005218744277954, -5.433538436889648, -3.732287883758545, 2.3081204891204834, 1.3511613607406616, -0.3158682882785797, 0.09922032803297043, 1.1438288688659668, 2.1130247116088867, -1.4369593858718872, 3.5554206371307373, -0.43778133392333984, -0.6219447255134583, -1.479701280593872, -0.5309404134750366, -6.424954891204834, -1.282905101776123, -4.846233367919922, 2.334928274154663, -0.6775336265563965], \"y\": [-4.119840621948242, 10.23245906829834, -11.114436149597168, -0.33338940143585205, -11.290873527526855, 0.6079934239387512, 13.841395378112793, 3.539161205291748, 1.9807744026184082, -2.994135618209839, 6.516711235046387, -13.520219802856445, 4.679103851318359, -4.992537021636963, -7.5911712646484375, -5.369618892669678, 4.788483619689941, 6.163980484008789, -11.157937049865723, -2.01839542388916, 0.41103067994117737, -7.752735137939453, -5.869757175445557, 2.5580692291259766, -3.16204833984375, -6.686946392059326, -12.625000953674316, -0.48641282320022583, -2.563716411590576, -1.3282148838043213, 0.606789231300354, 7.583735466003418, -5.589354515075684, -6.417635440826416, 1.8831908702850342, -6.323030948638916, -2.362165689468384, -0.8779864311218262, -7.221525192260742, 1.9287586212158203, 5.9765305519104, -3.3433687686920166, 3.6302273273468018, -1.9071224927902222, -4.5029144287109375, -5.038338661193848, -4.593674659729004, 2.4357261657714844, -13.293606758117676, 8.789381980895996, 6.684493064880371, -10.997304916381836, 0.8725383281707764, -5.0157880783081055, -0.00011417415225878358, 8.164412498474121, 3.229633092880249, 5.068955421447754, -5.726466655731201, -9.838313102722168, 5.344666957855225, -1.0848109722137451, -7.318029880523682, -2.826978921890259, 1.678249716758728, -4.445200443267822, 6.902904987335205, 5.648493766784668, -12.152493476867676, 3.0739893913269043, -2.36848783493042, 0.13481007516384125, -7.129803657531738, 4.021681308746338, -11.00984001159668, -6.6526665687561035, -10.0621919631958, -3.283297300338745, -9.47161865234375, -8.11932373046875, -7.432664394378662, -8.431262016296387, -7.774866104125977, -0.8945454955101013, 10.77067756652832, 5.114465713500977, 5.266523361206055, 9.104077339172363, 2.911106586456299, -10.001134872436523, -7.028810024261475, 5.383854389190674, 2.6530187129974365, 13.507287979125977, 11.027752876281738, -6.010673522949219, -0.38027223944664, 4.5220770835876465, 8.768259048461914, -9.047811508178711, -8.13803768157959, 7.7705793380737305, 4.171562671661377, 1.6962147951126099, 4.0763373374938965, -3.158676862716675, 0.06309784203767776, 7.450295448303223, -11.62039566040039, -2.638904571533203, -11.150416374206543, -8.74311351776123, 7.7855024337768555, -5.154598712921143, -11.768447875976562, -10.231630325317383, 14.336788177490234, 13.755428314208984, 1.5414464473724365, 9.766454696655273, -10.13770866394043, 1.2204337120056152, 6.399722099304199, 4.113918304443359, -2.945244550704956, 7.776261806488037, 9.666932106018066, 0.3874254524707794, 9.886621475219727, 7.4206767082214355, 4.275067329406738, 0.1045532301068306, 4.963809490203857, 11.17522144317627, 8.857742309570312, -4.3937835693359375, -8.509516716003418, 2.3135054111480713, 6.989218711853027, 2.833221912384033, 4.263293743133545, -9.26319694519043, 2.219280481338501, -9.543747901916504, 10.865376472473145, -5.533054351806641, 3.7234888076782227, 6.919851779937744, 8.274084091186523, -1.2029900550842285, -11.39077377319336, -7.9511590003967285, 2.9924631118774414, 3.062812089920044, -7.236738204956055, 0.17552238702774048, 9.275985717773438, 5.6804890632629395, -7.647546768188477, 3.0824217796325684, 14.49106502532959, 4.729634761810303, -6.334704399108887, -9.518342018127441, 1.145459532737732, 7.262696266174316, 3.9085214138031006, -0.4303775429725647, -8.212767601013184, -3.3149285316467285, 0.10256574302911758, 3.727842330932617, 1.0207139253616333, -10.12155818939209, -0.4037404954433441, 8.301758766174316, 0.5951979756355286, -9.701509475708008, 8.408550262451172, 0.8016456365585327, 1.4919638633728027, 2.5115983486175537, 7.220986843109131, -2.89877986907959, -1.1467549800872803, 14.571734428405762, -2.64571213722229, 4.417753219604492, -5.983086585998535, -7.933303356170654, 7.1073408126831055, -10.719717025756836, 5.858381271362305, -11.387381553649902, 12.006885528564453, 13.869205474853516, 2.5223114490509033, 6.871905326843262, -10.079617500305176, -2.370609760284424, 1.9998669624328613, 1.713783860206604, 10.629908561706543, -8.199045181274414, -11.010497093200684, 7.54792594909668, -9.338024139404297, 2.578946352005005, 3.3090004920959473, 7.167470932006836, -0.6785090565681458, -3.1985654830932617, -4.3206257820129395, -10.62289047241211, 1.3116812705993652, 1.2331676483154297, 7.079721450805664, -3.5548436641693115, -5.000197887420654, 3.178342342376709, -11.656783103942871, 6.408234596252441, -8.790507316589355, -11.298893928527832, 10.770350456237793, -9.500877380371094, 2.5485241413116455, -5.843939304351807, 8.876832008361816, -0.8311919569969177, 12.851300239562988, 2.7355751991271973, 1.8772855997085571, 1.8248789310455322, 12.372167587280273, 6.010461330413818, 5.962648391723633, -7.591673374176025, 0.2576743960380554, -9.390706062316895, 2.696800470352173, 4.205306529998779, -7.740141868591309, 9.669785499572754, 1.2826329469680786, 10.094472885131836, -5.278852939605713, -7.693812370300293, 2.3965883255004883, -6.874255657196045, 3.836669683456421, 1.7205849885940552, -0.1724994033575058, 4.647784233093262, -3.70646071434021, 4.006697177886963, -5.630612373352051, 10.781645774841309, -1.5120415687561035, 10.983406066894531, -8.082469940185547, 3.7242014408111572, -10.590940475463867, 0.7580101490020752, 2.3900790214538574, 9.370858192443848, 2.664048433303833, 11.972602844238281, -11.50234603881836, 5.037377834320068, 6.012475967407227, 11.971266746520996, -6.814239025115967, -7.60987663269043, 1.5766170024871826, 5.5570831298828125, -5.921709060668945, -10.9010591506958, 6.95400857925415, -5.746840953826904, 3.313230514526367, -7.399030685424805, -4.6634440422058105, -3.98311185836792, -11.35071849822998, 6.651707172393799, 7.922643661499023, 6.7254958152771, 10.574092864990234, -10.70675277709961, -10.692828178405762, 8.49327564239502, -0.2846159040927887, 6.41738748550415, -0.8552873730659485, 7.0077595710754395, 2.9489943981170654, -8.147259712219238, 0.4326157569885254, -5.197019577026367, 5.267235279083252, 12.24995231628418, -2.548663377761841, 1.350663185119629, 1.2908298969268799, -8.105512619018555, 4.508084297180176, -7.360965251922607, 5.8417510986328125, -1.4707067012786865, -0.714647114276886, 7.021243572235107, 1.5657018423080444, -8.762968063354492, 3.218836784362793, -5.970165729522705, -3.040313482284546, 11.277381896972656, -8.626259803771973, 10.266342163085938, 5.395963191986084, -5.8668317794799805, 0.6483083367347717, 5.115519046783447, -11.368603706359863, -6.630062103271484, 1.1805856227874756, 3.014029026031494, -6.086500644683838, 1.9454545974731445, 12.359003067016602, -4.898374080657959, 5.284984588623047, -1.6417452096939087, 8.588872909545898, -9.065720558166504, 7.005397796630859, -4.156460762023926, -2.5030386447906494, -4.500443458557129, -5.082921028137207, -5.0239057540893555, 1.7699936628341675, 3.882028818130493, 3.020301103591919, -6.854799270629883, 11.797356605529785, 8.151823043823242, 1.002463936805725, -4.617448329925537, 1.1712958812713623, -6.050966262817383, 11.394866943359375, 11.797889709472656, 7.941969394683838, -4.802281856536865, 1.5943646430969238, 6.022061347961426, -4.99452018737793, -7.278931617736816, 8.673087120056152, 5.007148265838623, 2.338693141937256, 5.4557952880859375, 1.3039767742156982, -6.199863433837891, -3.1802773475646973, 13.547504425048828, 10.779911041259766, 8.132766723632812, 3.7594094276428223, 2.632941961288452, -10.720650672912598, -6.126049041748047, 0.5701006054878235, 2.688347816467285, -9.631096839904785, 1.2299798727035522, 10.801234245300293, -8.563214302062988, 3.188352346420288, 1.612727165222168, -10.402859687805176, -6.521237850189209, 7.905498027801514, -0.569165050983429, -0.7896979451179504, -0.6931211352348328, -1.4211132526397705, -9.490721702575684, 6.640097141265869, -0.8640201091766357, -7.65700101852417, -7.604626178741455, 11.356507301330566, 11.75819206237793, -3.102428913116455, 0.8455883860588074, -6.224825382232666, -4.792171478271484, 9.617070198059082, 5.258020401000977, 6.9786529541015625, 7.891495704650879, 0.9344003200531006, 12.476150512695312, -9.879854202270508, 0.7356522679328918, 4.323948383331299, 6.724315643310547, 8.116435050964355, -8.395833969116211, -4.932969093322754, -7.660478115081787, 9.160757064819336, 3.161756753921509, 7.565585136413574, 9.86546802520752, 3.2842140197753906, -6.953893184661865, -9.606243133544922, 2.4049088954925537, 6.322106838226318, 8.869937896728516, -8.359230995178223, 9.736360549926758, 12.778319358825684, 1.674799919128418, -6.414599895477295, -9.641695022583008, -9.960107803344727, 14.668132781982422, -1.0177582502365112, 0.5373634099960327, -3.094081163406372, 0.7825108170509338, 11.0530366897583, -9.71900749206543, -11.167258262634277, -11.392775535583496, -3.7732481956481934, -8.614197731018066, -11.527000427246094, -9.569825172424316, 1.95399010181427, 1.4380061626434326, -1.9171308279037476, 4.250646114349365, -6.410891056060791, 3.905769109725952, 5.844344615936279, -9.10019302368164, 3.6122078895568848, -8.067427635192871, 6.716928482055664, 10.289908409118652, -0.5588663220405579, -8.368819236755371, -9.500682830810547, -7.617504119873047, 8.1542329788208, -10.788077354431152, 4.017895221710205, -5.973757266998291, 2.455624580383301, -7.171577453613281, -11.985787391662598, -0.7972269654273987, 7.725991249084473, -8.394989013671875, -9.832660675048828, 12.362862586975098, 4.87367057800293, -5.551205158233643, 2.5248327255249023, 11.95201301574707, 13.103191375732422, 0.4969231188297272, -3.302272319793701, 8.73432731628418, 5.518022060394287, -0.3883986473083496, 0.5818102955818176, -8.177916526794434, 14.501131057739258, -9.305037498474121, 2.7568318843841553, -6.3370680809021, -4.6583662033081055, -9.843063354492188, -7.124119281768799, 7.173096179962158, -0.24481365084648132, -2.65027117729187, -8.068780899047852, 3.090898036956787, 6.963709354400635, 4.5811448097229, 3.397717237472534, -10.435914039611816, 7.162132740020752, 0.25995248556137085, -7.374747276306152, 2.461460590362549, -5.865445613861084, -9.345959663391113, -9.925374984741211, 8.032264709472656, -7.0465240478515625, 1.7711890935897827, -11.749704360961914, 6.301791667938232, 3.6173596382141113, -4.018251419067383, -9.120671272277832, 3.7341318130493164, 3.90885066986084, -9.877028465270996, 0.8715737462043762, 4.446589469909668, -8.482038497924805, -6.675250053405762, -2.1717097759246826, -5.809345245361328, -5.583627223968506, 14.187819480895996, -5.591028690338135, 12.211010932922363, -0.5572289824485779, -6.998672008514404, 4.178807735443115, -3.2663004398345947, 4.203134536743164, 3.879610776901245, 5.771088600158691, -0.5090065002441406, 6.951261520385742, -8.757262229919434, -0.9978469610214233, 5.468988418579102, 3.5707457065582275, 3.247957468032837, 7.949147701263428, 8.653373718261719, 8.501709938049316, 5.344702243804932, -4.693070888519287, 2.3897149562835693, 2.3690478801727295, -4.813187599182129, 1.8534209728240967, -4.55314302444458, -11.152105331420898, -7.662887096405029, 4.9689412117004395, 3.5555198192596436, 4.215373516082764, -10.11617374420166, 2.3092591762542725, 4.268130302429199, -10.089659690856934, -4.956819534301758, 5.540255546569824, 4.975721836090088, 8.73287296295166, -8.978008270263672, 6.640040874481201, 0.4984469711780548, 4.044294834136963, 6.380036354064941, -5.243972301483154, 5.98677396774292, 2.13046932220459, -4.956503868103027, 8.745621681213379, -1.085982322692871, 9.896653175354004, 9.971386909484863, -4.413305282592773, -10.924818992614746, -8.801631927490234, -9.546221733093262, -6.743078708648682, 10.779163360595703, 5.768368721008301, -9.320531845092773, -6.34909725189209, 1.4381505250930786, 12.218894958496094, -3.2221758365631104, 5.456732273101807, 4.102862358093262, 3.644580602645874, 1.3225983381271362, 4.168978214263916, 2.0167815685272217, 1.5238738059997559, -4.101977348327637, 1.3124663829803467, -9.545724868774414, 2.6295433044433594, 1.4076076745986938, 1.5262960195541382, 13.927251815795898, 3.4647724628448486, 7.218143939971924, 3.0608761310577393, -6.339407444000244, 9.38886833190918, 4.544424533843994, -1.4494819641113281, -10.175943374633789, -8.7738618850708, -6.034876823425293, -5.232895851135254, 5.513177871704102, 2.2791802883148193, 3.5939440727233887, -3.0052130222320557, -6.7343058586120605, 2.4679367542266846, 2.036266803741455, 3.3198695182800293, 0.8845487833023071, -6.3393988609313965, 1.09797203540802, 14.217630386352539, -12.459487915039062, 1.9183435440063477, -6.155556678771973, 2.874302864074707, 6.519193172454834, -9.94819164276123, -7.19687557220459, -9.859004974365234, -1.2446694374084473, -10.867420196533203, 2.9209866523742676, 6.8914313316345215, 4.790767669677734, -10.894588470458984, 7.281027793884277, 13.604738235473633, -8.713953971862793, -5.524206161499023, -6.738826751708984, -8.847991943359375, -3.973703145980835, -4.897409915924072, -6.927544116973877, 2.498703956604004, 6.836864948272705, 2.2705013751983643, 3.928466796875, 8.29021167755127, 5.653402805328369, -8.704323768615723, -4.103195667266846, -1.5123635530471802, -2.645834445953369, -1.6918041706085205, 1.5625041723251343, 2.6042098999023438, -4.914910316467285, 2.846867561340332, 6.207880020141602, 2.0147476196289062, 11.659188270568848, 7.021939754486084, 7.822243690490723, 3.3600637912750244, -4.541947841644287, 4.10474967956543, 4.172164440155029, 2.4055404663085938, 2.1384150981903076, 7.780148029327393, 7.141453742980957, 1.8240854740142822, 10.995766639709473, -7.701707363128662, 3.8452327251434326, -5.512417793273926, 1.103186845779419, 6.900845527648926, 8.201544761657715, -5.58954381942749, 7.160720348358154, 5.87874698638916, -0.9627810716629028, -5.344369411468506, -0.32064101099967957, -4.912740707397461, 1.1722673177719116, 6.739415645599365, 3.9994044303894043, -7.6646409034729, -9.441688537597656, -7.672147750854492, -2.8441390991210938, 3.0039873123168945, 2.991232395172119, -5.021723747253418, -2.560478925704956, -4.055553913116455, 12.180554389953613, 4.528567314147949, 7.118293762207031, 1.365811824798584, -1.8758245706558228, -5.8906731605529785, 4.915727615356445, -3.6399800777435303, -6.641202449798584, -2.8252015113830566, 3.9546070098876953, 0.6429601311683655, -4.247279167175293, -2.9580681324005127, 1.9375959634780884, -11.163979530334473, 13.929636001586914, 2.0843608379364014, -10.986501693725586, -0.19520936906337738, -5.555117607116699, 3.1688191890716553, 4.237678527832031, -0.26689159870147705, 1.4494118690490723, -0.5315864086151123, -10.824838638305664, 3.8143975734710693, 11.137861251831055, -0.04005381837487221, 6.555367946624756, -10.314803123474121, -6.808638572692871, -8.283735275268555, -1.6653687953948975, -0.5750799775123596, -6.159137725830078, -4.985554218292236, -0.30157724022865295, -6.306276321411133, -8.336080551147461, -10.596835136413574, 6.818563461303711, -8.771382331848145, -2.0231642723083496, 9.312141418457031, -10.87980842590332, 11.630972862243652, 12.09030532836914, 3.777505874633789, -10.275283813476562, -8.073982238769531, 4.039560794830322, -4.355809688568115, 8.193464279174805, -2.5143914222717285, 4.195613384246826, 1.2859866619110107, 8.61292839050293, -5.606118679046631, 13.400867462158203, 12.580344200134277, -11.064319610595703, 11.5337553024292, -11.359634399414062, -7.797870635986328, -2.790266513824463, 2.112020254135132, 12.536109924316406, -5.845597743988037, 4.782967567443848, 1.8766968250274658, 2.350468397140503, -9.924071311950684, -4.935091495513916, -8.78084659576416, 13.072522163391113, 4.119987487792969, -11.190778732299805, -7.583740711212158, -1.9134752750396729, 4.8115386962890625, 2.8792197704315186, -9.898638725280762, -9.518904685974121, 1.2617425918579102, -6.859527111053467, -0.9335669875144958, -8.674797058105469, 12.819249153137207, 8.231314659118652, 2.6393074989318848, -7.040816307067871, -9.284523010253906, 6.540929317474365, 1.8866055011749268, 0.47075870633125305, -0.09893249720335007, 9.665528297424316, -9.951220512390137, 7.902071952819824, 4.068689346313477, 3.527798652648926, 4.7581000328063965, 3.3667445182800293, -9.317146301269531, 0.32084405422210693, -9.228073120117188, -8.989326477050781, 4.5005998611450195, -6.177494049072266, 4.821937561035156, 0.672573983669281, 0.3633834421634674, 2.188478946685791, 5.107409954071045, -8.252278327941895, -8.4393949508667, 4.384827613830566, 3.225832939147949, 12.288473129272461, 4.820105075836182, -9.312498092651367, -6.669849395751953, -3.8743832111358643, 3.6853272914886475, -7.664288520812988, -6.478774547576904, -0.4267025291919708, -8.549684524536133, 2.852900266647339, -10.9139986038208, -10.460131645202637, 5.19192361831665, 3.901057243347168, -9.332624435424805, 1.634817361831665, 1.862801432609558, 7.575126647949219, 11.480738639831543, 4.896312713623047, 5.481650352478027, -9.47114086151123, -11.293818473815918, -3.105670928955078, 4.043972969055176, -9.025872230529785, 3.7328503131866455, -9.655250549316406, -1.1332978010177612, 4.686727523803711, 0.9949211478233337, 7.391366481781006, -9.693024635314941, -0.9408764839172363, -7.607057571411133, -8.845670700073242, 4.886099815368652, -10.570480346679688, 4.302821636199951, 2.3729588985443115, 14.08489990234375, -9.422281265258789, 3.458991765975952, -9.340603828430176, 4.383276462554932, 1.979024052619934, 5.377777576446533, -11.514399528503418, 10.562254905700684, 0.9110928773880005, 11.62973403930664, 3.083888053894043, -3.1569952964782715, -9.802685737609863, -10.287088394165039, -6.099315643310547, -4.506604194641113, -0.7477709054946899, 1.100759506225586, 7.171419620513916, -5.237278938293457, 0.2042483240365982, -5.227200508117676, -1.538597822189331, -9.104836463928223, -1.2866350412368774, -7.397449493408203, -4.790449142456055, -2.5292651653289795, -8.133069038391113, -4.65946626663208, 9.13989543914795, -0.6535435914993286, 8.646930694580078, 6.22343111038208, 3.9969897270202637, 3.707639455795288, 0.4640209674835205, -11.53705883026123, -8.158282279968262, 2.8158793449401855, 7.145866394042969, -6.972898006439209, -11.0122652053833, 6.034386157989502, 1.2078912258148193, 2.40952730178833, -10.931649208068848, -0.8732312321662903, -12.452163696289062, -2.431586503982544, 6.1534905433654785, 7.240486145019531, 6.981520652770996, -8.81601333618164, 4.779144763946533, 9.486995697021484, -6.012069225311279, 4.772577285766602, -11.396855354309082, 12.18419361114502, -3.190769672393799, 0.5371450781822205, 5.052637577056885, -12.46963119506836, 2.744781494140625, 4.645225524902344, -0.9707334637641907, 1.3028939962387085, -9.301604270935059, -0.3104408085346222, -10.480080604553223, 8.699790000915527, 5.476276397705078, -9.700258255004883, 4.281754493713379, -8.909878730773926, 5.170001983642578, -8.029938697814941, -2.92973256111145, -7.113704681396484, -6.185397148132324, 6.423314094543457, 13.030135154724121, -2.8349640369415283, 0.7214971780776978, 0.8399024605751038, 1.2596229314804077, -1.1342755556106567, 7.532063007354736, 6.751641750335693, -2.1960089206695557, -0.43390434980392456, 2.7539491653442383, 12.390235900878906, 2.1991357803344727, -9.38702392578125, -9.242071151733398, -4.365019798278809, 6.6738715171813965, 6.287403583526611, -7.43027400970459, -2.048219919204712, 4.7369232177734375, -4.8962178230285645, -10.690481185913086, -4.9849066734313965, -12.279475212097168, -6.5900654792785645, 10.368657112121582, 8.908220291137695, -5.121690273284912, 3.7414469718933105, 3.1588900089263916, -1.8177108764648438, -8.427043914794922, -7.676985263824463, 14.333086013793945, -4.398083209991455, 5.273153305053711, 2.849992275238037, 3.299729347229004, 5.904018402099609, -9.926931381225586, 2.181830883026123, -8.977195739746094, -6.479092121124268, -10.446309089660645, -2.7051093578338623, -3.7052388191223145, 9.516548156738281, -9.556658744812012, 1.1790363788604736, -10.82613468170166], \"z\": [1.4224777221679688, 0.19744741916656494, -7.107980728149414, -12.124892234802246, -13.331525802612305, -8.371177673339844, 3.5084378719329834, -18.91771125793457, -2.7335426807403564, 12.561145782470703, -18.31587028503418, -13.654243469238281, -11.99410343170166, -10.491679191589355, -12.053958892822266, -16.706722259521484, -11.913861274719238, 6.9800639152526855, -5.510140895843506, -11.644268035888672, -7.472300052642822, 2.542609453201294, -11.164827346801758, -3.2723498344421387, -11.070891380310059, 1.3295801877975464, -12.584808349609375, -1.4654649496078491, -23.33222007751465, -17.257341384887695, -1.1423057317733765, -2.1894009113311768, -0.965626060962677, -12.590682029724121, 7.314424991607666, 3.0424885749816895, -10.77965259552002, -1.6939753293991089, 0.6746451258659363, -8.895478248596191, 13.965031623840332, -13.341656684875488, 9.380485534667969, -10.13990306854248, -12.290623664855957, -16.736780166625977, -11.894784927368164, -2.8415112495422363, -13.406399726867676, 9.950051307678223, -15.919248580932617, -3.710202217102051, 8.832549095153809, -16.688615798950195, -10.631049156188965, -14.333250999450684, -8.424492835998535, 6.066177845001221, -12.784156799316406, -10.352806091308594, 3.464015483856201, 7.171625137329102, -18.912506103515625, -13.550030708312988, 12.136581420898438, -11.164772033691406, 12.089649200439453, 7.362832069396973, -13.451484680175781, -13.190885543823242, -21.658723831176758, -16.33564567565918, 0.07827604562044144, -13.303154945373535, 9.751192092895508, 6.411671161651611, -13.906457901000977, -17.135684967041016, 13.817975044250488, 12.749711990356445, 12.537521362304688, 6.499598979949951, -14.078173637390137, 5.540886878967285, 2.9723262786865234, -1.5589096546173096, 7.2774882316589355, 6.825806140899658, 5.77529764175415, 3.8610899448394775, 5.913007736206055, -16.325288772583008, 8.131365776062012, 5.18919038772583, 1.910173773765564, -19.70916175842285, 10.457547187805176, 0.5930646657943726, 4.959553241729736, -14.094707489013672, 1.5819358825683594, 10.182144165039062, 0.5891226530075073, 10.634552955627441, -13.058911323547363, 11.170833587646484, 8.036867141723633, 1.2521415948867798, 10.004863739013672, -16.533329010009766, 5.93979549407959, 1.4058446884155273, -15.126673698425293, 7.3934102058410645, -11.570550918579102, 8.304924964904785, 4.1797075271606445, 5.406928539276123, -12.136441230773926, 6.3870086669921875, 9.259610176086426, 5.005608558654785, 2.6454689502716064, 11.145584106445312, 3.26515531539917, 1.0959066152572632, 0.9300835728645325, -13.703261375427246, 2.889653205871582, 2.166151285171509, 4.826531887054443, 10.120408058166504, -16.13815689086914, 0.9831397533416748, 9.959508895874023, 5.654871940612793, -12.323688507080078, -15.013982772827148, 0.3707175552845001, 1.308929204940796, -14.414118766784668, 4.652827262878418, 10.087335586547852, -14.022501945495605, 6.984238624572754, 12.100746154785156, -16.550701141357422, 11.12118148803711, 0.039493076503276825, 5.84763240814209, 4.996496200561523, 8.158037185668945, 0.16065886616706848, 10.889877319335938, 1.9827210903167725, 11.066691398620605, 10.924322128295898, 11.682336807250977, 7.749293804168701, -11.667320251464844, 3.052729368209839, 6.692359924316406, 10.184168815612793, 14.624018669128418, -12.589693069458008, 10.33383560180664, -14.09809684753418, -19.368223190307617, -11.027095794677734, 4.942034721374512, 8.770655632019043, -0.3956289291381836, -12.389238357543945, -10.302356719970703, 1.7096705436706543, 8.006508827209473, -11.124755859375, -9.491848945617676, -0.776631772518158, -14.957381248474121, 2.992295265197754, -15.218132019042969, -2.2177305221557617, -19.479995727539062, -19.33486557006836, 4.9578142166137695, -14.207093238830566, 5.716535568237305, 11.09119987487793, 7.9145307540893555, 10.936296463012695, -13.80908203125, -17.313213348388672, -10.25263786315918, 6.961185455322266, 2.233293056488037, 3.7648086547851562, 0.602143406867981, 1.5945194959640503, 2.5003886222839355, 4.729501247406006, 1.4266153573989868, 0.4303095042705536, -14.737040519714355, -8.9881591796875, -2.582784652709961, 13.957283973693848, 4.775710105895996, -14.801615715026855, -0.23532922565937042, 2.9546704292297363, -15.790783882141113, -16.65718650817871, 6.915679931640625, 4.7734503746032715, 3.884345531463623, 0.13794441521167755, -17.86177635192871, -19.370698928833008, -0.1418282389640808, -8.66772174835205, 3.0703587532043457, -14.18945026397705, 11.389827728271484, 7.60833740234375, 12.744606971740723, 10.836956977844238, 12.271276473999023, 10.699630737304688, -14.826240539550781, 3.060086488723755, 8.469419479370117, -14.821382522583008, -14.96078872680664, 5.843494415283203, 3.1259098052978516, 1.2320231199264526, 8.069611549377441, -14.012685775756836, -8.242927551269531, 4.8260498046875, 3.6993377208709717, -9.455307960510254, 5.310409069061279, -17.421472549438477, 8.231353759765625, 9.034736633300781, 12.609251022338867, 11.185468673706055, -11.742913246154785, 8.279399871826172, 0.12965992093086243, -15.902535438537598, 6.733515739440918, 11.816439628601074, -1.9474384784698486, 3.5964548587799072, 7.055490970611572, -15.156058311462402, 6.4976487159729, -9.789758682250977, 6.72617769241333, -12.374504089355469, 2.387962818145752, 9.139274597167969, 5.0486555099487305, -16.418317794799805, 5.246681213378906, 9.746686935424805, 0.10673871636390686, 1.5897793769836426, 1.372042179107666, 5.975616455078125, -9.005220413208008, -11.647957801818848, 9.77869987487793, -17.962907791137695, -13.833232879638672, 1.9793213605880737, 10.937555313110352, 10.772855758666992, -9.304871559143066, 11.794242858886719, 4.599084854125977, -11.552364349365234, 3.8685953617095947, 8.276224136352539, 2.7109222412109375, 6.9682416915893555, 1.1490024328231812, 4.1411871910095215, 1.5827020406723022, 7.928894519805908, 4.747871398925781, 5.577967643737793, -13.666009902954102, -15.579899787902832, 14.42187786102295, 5.44692850112915, 2.835725784301758, -2.3803939819335938, 6.603216171264648, -18.84880256652832, -17.35648536682129, -14.699036598205566, 9.223576545715332, 2.4373939037323, 9.344868659973145, 13.297067642211914, -19.267038345336914, -18.67593765258789, 12.564735412597656, -15.394084930419922, -8.592544555664062, 6.142176151275635, 2.417405605316162, 4.840641975402832, 3.8209540843963623, 10.137933731079102, 1.289199709892273, -1.6305687427520752, 8.269166946411133, -15.916139602661133, 0.27045226097106934, 10.97384262084961, 3.963253974914551, -16.389970779418945, -17.231788635253906, -12.030649185180664, -14.378742218017578, 5.391925811767578, -17.730070114135742, 8.321186065673828, 10.844510078430176, 6.907061576843262, -13.278636932373047, 1.4024170637130737, 5.650722026824951, -14.363216400146484, -16.738496780395508, 5.2005720138549805, 13.61935043334961, -12.0145263671875, 10.857305526733398, -18.28525161743164, -13.053084373474121, 0.4897182583808899, 12.875519752502441, -13.378860473632812, -18.270708084106445, -0.4667021930217743, 6.321323871612549, 6.1016035079956055, 1.8068287372589111, 8.275408744812012, 13.795180320739746, 7.941655158996582, 2.831803321838379, -20.68971061706543, 2.762211561203003, 0.5750885605812073, 1.848874568939209, 1.567633867263794, 11.87747859954834, -14.962944030761719, 10.6396484375, -18.408992767333984, 6.439582824707031, 7.56366491317749, 1.1475112438201904, 9.58692741394043, 4.902660846710205, -14.16195297241211, -10.989320755004883, -15.822273254394531, 11.018231391906738, 9.762301445007324, -14.727313041687012, 1.6251846551895142, 4.460777282714844, -13.519270896911621, 2.0381462574005127, 8.538100242614746, -0.7662113904953003, 1.059919834136963, 9.903868675231934, 7.922571659088135, 6.578445911407471, 1.981974720954895, 1.3329756259918213, 8.629018783569336, 10.820273399353027, 6.932946681976318, 8.671956062316895, 5.198997974395752, 1.5785212516784668, 10.825651168823242, -17.348434448242188, 2.663029193878174, 9.819517135620117, 6.140432357788086, 7.19826078414917, 12.416308403015137, -2.5012454986572266, -19.191856384277344, 4.584535121917725, -10.464719772338867, 2.6894402503967285, -10.993033409118652, -1.655818223953247, 4.491353511810303, 5.279733180999756, -20.370023727416992, 10.203014373779297, 1.2282328605651855, 8.87871265411377, 7.219729423522949, 2.600792407989502, -16.837648391723633, -13.336966514587402, 1.2499243021011353, 5.445228576660156, 3.237980842590332, 1.6036573648452759, -11.730390548706055, 8.911087036132812, 3.5403859615325928, -14.70588207244873, 1.0044572353363037, -13.982065200805664, 7.7372727394104, 3.9607865810394287, 5.875738143920898, -15.138803482055664, -21.396678924560547, 2.787219285964966, 7.401646137237549, -13.881035804748535, 10.639366149902344, -9.308045387268066, 11.208649635314941, 13.762804985046387, -10.21818733215332, -16.614036560058594, 6.856796741485596, -11.569954872131348, -19.698305130004883, 10.360757827758789, -11.37960147857666, -16.033611297607422, 7.878468990325928, -12.576435089111328, 11.1791353225708, 9.669340133666992, -15.561763763427734, 1.071608304977417, 0.20774537324905396, -11.572397232055664, 13.04026985168457, -1.2459990978240967, 0.7495046257972717, -10.996647834777832, 8.51092529296875, 14.819477081298828, -1.6302882432937622, 6.254417419433594, 9.823171615600586, -20.705570220947266, 10.302203178405762, -11.187370300292969, 10.266776084899902, 8.350547790527344, 8.009056091308594, 7.72493839263916, 10.653843879699707, 7.200764179229736, 1.9913190603256226, -13.636015892028809, 3.6314687728881836, 4.191509246826172, 12.198480606079102, 6.248051643371582, -15.313594818115234, -15.31855297088623, 4.246399879455566, -15.623884201049805, 0.06915552169084549, 0.32227155566215515, 4.778720378875732, -8.583662033081055, 11.627015113830566, -14.447060585021973, -12.46932315826416, -19.236330032348633, -10.033487319946289, -16.699050903320312, -1.0355981588363647, -12.44885540008545, 9.621025085449219, 2.939929723739624, 0.6567189693450928, -1.1167999505996704, 4.058756351470947, 5.392071723937988, 0.9399896264076233, -8.928573608398438, 11.830466270446777, 12.664888381958008, -0.16560550034046173, -15.03952693939209, -13.278030395507812, 11.687288284301758, 2.7761058807373047, -16.323284149169922, 13.893315315246582, 12.017583847045898, 9.719167709350586, 12.647482872009277, -0.3002326488494873, 2.1803078651428223, -0.11888650804758072, -14.856229782104492, -13.784100532531738, -12.422569274902344, -19.634836196899414, 4.720807075500488, -0.5266121625900269, 6.734716415405273, 1.1441190242767334, 2.9014675617218018, 0.6890890002250671, -17.345293045043945, -12.387052536010742, 9.136007308959961, -13.687215805053711, -17.909549713134766, -1.988503098487854, -15.295990943908691, 2.585310459136963, 0.14023911952972412, -0.02217593975365162, -13.646378517150879, 4.490586280822754, -0.21584948897361755, 12.481637001037598, -14.100239753723145, 12.082056045532227, -14.503518104553223, -16.47837257385254, 11.579286575317383, 10.777786254882812, 5.957078456878662, -12.682493209838867, 7.686093330383301, 9.601137161254883, 1.237683892250061, -11.582839965820312, 8.716573715209961, -16.8736572265625, -1.9972952604293823, -16.577119827270508, -19.72579574584961, 10.213138580322266, -16.4945068359375, 7.689924716949463, 14.542899131774902, 9.575058937072754, -0.7878881692886353, -17.460874557495117, -15.279062271118164, 1.476393461227417, -14.764030456542969, -18.600830078125, -18.57436752319336, -0.8409931659698486, -20.352102279663086, 3.1652657985687256, 6.776252269744873, 4.385178565979004, 9.576563835144043, 1.4433482885360718, 10.537099838256836, -10.896210670471191, 2.7339870929718018, 13.217611312866211, 14.223785400390625, 2.76407527923584, 9.593886375427246, 7.339598178863525, -18.199466705322266, 6.63137149810791, 12.204659461975098, -1.4795036315917969, -19.026586532592773, -0.027021856978535652, 9.723915100097656, -16.9030818939209, -16.99354362487793, -13.913189888000488, -15.830687522888184, -13.534135818481445, 5.6186113357543945, -14.698979377746582, 3.9327123165130615, -13.992971420288086, 0.3145911693572998, -17.757747650146484, -18.1444149017334, 6.574492931365967, -1.4664018154144287, -13.773847579956055, 4.544228553771973, -0.2814948856830597, 4.670720100402832, 13.830879211425781, 11.001848220825195, 3.9423553943634033, 5.170232772827148, 4.362330436706543, 3.2469563484191895, 0.441890150308609, 9.380369186401367, 8.908243179321289, -0.6674603223800659, -12.058473587036133, -20.74347686767578, 3.756120204925537, -11.986374855041504, 2.784512519836426, 14.762712478637695, 6.163353443145752, 1.5959885120391846, 11.181557655334473, -14.446215629577637, 3.5177361965179443, 2.669745445251465, 4.725714206695557, 0.6155453324317932, -15.63089370727539, 0.9413356781005859, -8.719205856323242, -0.42875874042510986, 2.4337329864501953, 4.82282829284668, -16.620882034301758, 10.790413856506348, -10.082714080810547, 7.082523345947266, -11.577033996582031, 6.673097133636475, 10.772704124450684, 9.276121139526367, 2.0270979404449463, -14.416244506835938, 8.419111251831055, -0.37760040163993835, -14.142928123474121, 5.089010238647461, 5.763189792633057, -16.93645477294922, -19.95012855529785, 8.747655868530273, -1.4405319690704346, 2.39963960647583, -14.227602005004883, 1.011232614517212, -13.903491973876953, 0.7156978845596313, 0.49746620655059814, 8.96350383758545, 0.926322340965271, 13.129744529724121, 9.845359802246094, 1.6444172859191895, -11.594033241271973, 11.110543251037598, -1.2540407180786133, -13.803980827331543, -15.255544662475586, 1.082183837890625, -10.751742362976074, 9.938627243041992, 6.082841873168945, -12.185178756713867, 10.104348182678223, 9.066082954406738, 12.567317962646484, 13.396324157714844, -16.912261962890625, -19.422760009765625, -15.670244216918945, -17.65645980834961, -20.144824981689453, 0.7411164045333862, -16.001882553100586, -11.433321952819824, 3.7706573009490967, 12.458681106567383, 6.92095422744751, -13.59029483795166, 4.018271446228027, 12.13758659362793, -10.51019287109375, -23.37258529663086, 9.84018325805664, 1.4069712162017822, -17.442853927612305, -16.161544799804688, 0.7848731875419617, -10.917306900024414, -12.206969261169434, 11.565486907958984, 5.666276454925537, 1.2336524724960327, 8.507017135620117, -10.318827629089355, -8.085916519165039, -16.554046630859375, 8.544031143188477, 7.085056304931641, -5.625763893127441, 4.99664831161499, -0.6576322317123413, -3.6191298961639404, -2.457279682159424, -1.0512373447418213, -15.532833099365234, -11.037751197814941, -15.128697395324707, -8.975505828857422, 3.228447675704956, -14.602927207946777, 1.3784301280975342, 3.6170198917388916, -0.05074729770421982, -16.26609992980957, 7.372100353240967, 12.777600288391113, 13.947811126708984, -14.610763549804688, 2.03816294670105, 5.291314601898193, 5.339819431304932, -13.31365966796875, 2.5645313262939453, 14.080857276916504, 10.333799362182617, -14.426778793334961, -10.991771697998047, -20.4799861907959, 0.37743234634399414, -13.307251930236816, 2.1616315841674805, 6.912269592285156, 11.731254577636719, -9.600076675415039, 12.615394592285156, 6.8366475105285645, -16.387372970581055, 12.608844757080078, -19.496475219726562, 9.817269325256348, 10.004103660583496, 7.898951530456543, 2.158377170562744, 5.834739685058594, 4.638885974884033, -14.136536598205566, 3.6560325622558594, -14.448509216308594, 12.287003517150879, 3.905017375946045, -0.8589776158332825, 3.071096658706665, 4.023942947387695, 12.678543090820312, 2.678281307220459, 4.2516326904296875, 11.008082389831543, 4.632815837860107, 8.421895027160645, 4.916202068328857, -0.6260201930999756, 5.112276077270508, 13.281449317932129, -20.345779418945312, 7.261063575744629, -12.011893272399902, 14.223249435424805, 12.527637481689453, -19.45961570739746, 9.018074035644531, -15.01411247253418, 9.084616661071777, 6.442328929901123, -2.2244222164154053, 11.394692420959473, -11.3015775680542, 9.434024810791016, 11.567732810974121, 6.999765872955322, 1.9866235256195068, 0.5562113523483276, -0.48040953278541565, -8.681779861450195, 9.951163291931152, 11.793724060058594, 0.7049558758735657, -14.933897018432617, 9.307747840881348, -13.431130409240723, -12.314718246459961, 9.706208229064941, 1.586970567703247, -1.1653622388839722, -11.390018463134766, 1.1208869218826294, -19.965618133544922, -10.739990234375, -14.789844512939453, -16.59473991394043, -8.615424156188965, 14.973820686340332, -1.0226538181304932, 3.383636474609375, 7.791507720947266, -14.99404239654541, 12.576828002929688, 6.80687141418457, -17.796159744262695, 1.4190945625305176, 3.9034712314605713, -18.60045623779297, -12.490564346313477, -11.406871795654297, -13.181086540222168, -15.549391746520996, -13.688924789428711, -15.679038047790527, 10.387718200683594, 8.978399276733398, 10.383590698242188, -14.665051460266113, 2.0512216091156006, 4.668652057647705, -12.492058753967285, -1.4445298910140991, 9.617942810058594, 5.705989360809326, 3.4891774654388428, -11.666234970092773, -0.3348713219165802, 10.700033187866211, 8.991134643554688, 1.9482253789901733, 1.4018090963363647, 2.6156811714172363, -12.60136890411377, 13.068750381469727, -14.711142539978027, 1.4743925333023071, 11.957267761230469, -2.623753786087036, 10.01596736907959, 2.667390823364258, -15.076581954956055, 5.688741207122803, 12.542566299438477, -13.893969535827637, 4.341699600219727, -16.823537826538086, 10.825465202331543, 7.266959190368652, 6.2676262855529785, 2.7599151134490967, 9.78249454498291, 5.065578460693359, 5.901625156402588, 3.444068431854248, -9.221834182739258, 4.7344279289245605, 10.520009994506836, 13.075324058532715, -16.73600959777832, -17.682836532592773, -15.158312797546387, 4.819293975830078, 6.755738735198975, 2.9423389434814453, -11.700475692749023, -13.88185977935791, -18.44049835205078, -11.68156909942627, 12.566221237182617, -18.962669372558594, 6.4662909507751465, 6.326596260070801, 8.512224197387695, 1.039989709854126, 2.7742202281951904, 2.772373914718628, 7.185585021972656, 12.063302993774414, -20.548309326171875, 10.835176467895508, -14.614255905151367, -16.040985107421875, -2.348605155944824, -11.56129264831543, 11.458224296569824, 6.18976354598999, 9.093194007873535, 8.292071342468262, 10.11795425415039, -14.750273704528809, -12.552592277526855, 2.9055819511413574, 3.3048229217529297, -13.172921180725098, -16.26909065246582, 0.4623589515686035, -16.380704879760742, 5.150954723358154, 9.898584365844727, 0.26982638239860535, 4.412501811981201, 2.482426166534424, 3.1816201210021973, 5.114022254943848, 1.150368571281433, -13.6838960647583, 9.469120979309082, 6.992520332336426, -19.963523864746094, -17.199621200561523, -13.30373477935791, 10.65479850769043, -8.961162567138672, -0.28910067677497864, -16.67795181274414, -10.46900749206543, 5.3550591468811035, 13.773518562316895, -12.282517433166504, 10.575100898742676, -14.851085662841797, 11.90676212310791, 8.758569717407227, 2.3272814750671387, 2.8476788997650146, 3.5696182250976562, 2.2319254875183105, -19.773563385009766, -15.508477210998535, 6.126840114593506, 7.166191577911377, -15.8925199508667, -14.912242889404297, -12.240039825439453, 5.178925514221191, 7.470739364624023, 5.83276891708374, -8.994330406188965, 12.37674617767334, 4.638726234436035, 11.831291198730469, 4.671770095825195, 7.020215034484863, -13.750589370727539, 8.535606384277344, -18.485862731933594, 10.389310836791992, 5.588804721832275, -12.563926696777344, 11.085269927978516, 5.2049784660339355, 4.8914031982421875, -17.856616973876953, 1.3201955556869507, -11.905533790588379, -13.809441566467285, 1.592720866203308, 14.812113761901855, 4.882355690002441, -18.097986221313477, 7.275259494781494, 5.982460975646973, -15.283721923828125, -15.011847496032715, -15.760502815246582, -12.266056060791016, 9.230554580688477, 10.97098159790039, -9.12618350982666, -15.426351547241211, 4.133671283721924, 6.984226703643799, 13.893009185791016, -14.619782447814941, -15.15041732788086]}],\n",
              "                        {\"coloraxis\": {\"colorbar\": {\"title\": {\"text\": \"Anomaly\"}}, \"colorscale\": [[0.0, \"#0d0887\"], [0.1111111111111111, \"#46039f\"], [0.2222222222222222, \"#7201a8\"], [0.3333333333333333, \"#9c179e\"], [0.4444444444444444, \"#bd3786\"], [0.5555555555555556, \"#d8576b\"], [0.6666666666666666, \"#ed7953\"], [0.7777777777777778, \"#fb9f3a\"], [0.8888888888888888, \"#fdca26\"], [1.0, \"#f0f921\"]]}, \"height\": 800, \"legend\": {\"tracegroupgap\": 0}, \"scene\": {\"domain\": {\"x\": [0.0, 1.0], \"y\": [0.0, 1.0]}, \"xaxis\": {\"title\": {\"text\": \"0\"}}, \"yaxis\": {\"title\": {\"text\": \"1\"}}, \"zaxis\": {\"title\": {\"text\": \"2\"}}}, \"template\": {\"data\": {\"bar\": [{\"error_x\": {\"color\": \"#2a3f5f\"}, \"error_y\": {\"color\": \"#2a3f5f\"}, \"marker\": {\"line\": {\"color\": \"#E5ECF6\", \"width\": 0.5}}, \"type\": \"bar\"}], \"barpolar\": [{\"marker\": {\"line\": {\"color\": \"#E5ECF6\", \"width\": 0.5}}, \"type\": \"barpolar\"}], \"carpet\": [{\"aaxis\": {\"endlinecolor\": \"#2a3f5f\", \"gridcolor\": \"white\", \"linecolor\": \"white\", \"minorgridcolor\": \"white\", \"startlinecolor\": \"#2a3f5f\"}, \"baxis\": {\"endlinecolor\": \"#2a3f5f\", \"gridcolor\": \"white\", \"linecolor\": \"white\", \"minorgridcolor\": \"white\", \"startlinecolor\": \"#2a3f5f\"}, \"type\": \"carpet\"}], \"choropleth\": [{\"colorbar\": {\"outlinewidth\": 0, \"ticks\": \"\"}, \"type\": \"choropleth\"}], \"contour\": [{\"colorbar\": {\"outlinewidth\": 0, \"ticks\": \"\"}, \"colorscale\": [[0.0, \"#0d0887\"], [0.1111111111111111, \"#46039f\"], [0.2222222222222222, \"#7201a8\"], [0.3333333333333333, \"#9c179e\"], [0.4444444444444444, \"#bd3786\"], [0.5555555555555556, \"#d8576b\"], [0.6666666666666666, \"#ed7953\"], [0.7777777777777778, \"#fb9f3a\"], [0.8888888888888888, \"#fdca26\"], [1.0, \"#f0f921\"]], \"type\": \"contour\"}], \"contourcarpet\": [{\"colorbar\": {\"outlinewidth\": 0, \"ticks\": \"\"}, \"type\": \"contourcarpet\"}], \"heatmap\": [{\"colorbar\": {\"outlinewidth\": 0, \"ticks\": \"\"}, \"colorscale\": [[0.0, \"#0d0887\"], [0.1111111111111111, \"#46039f\"], [0.2222222222222222, \"#7201a8\"], [0.3333333333333333, \"#9c179e\"], [0.4444444444444444, \"#bd3786\"], [0.5555555555555556, \"#d8576b\"], [0.6666666666666666, \"#ed7953\"], [0.7777777777777778, \"#fb9f3a\"], [0.8888888888888888, \"#fdca26\"], [1.0, \"#f0f921\"]], \"type\": \"heatmap\"}], \"heatmapgl\": [{\"colorbar\": {\"outlinewidth\": 0, \"ticks\": \"\"}, \"colorscale\": [[0.0, \"#0d0887\"], [0.1111111111111111, \"#46039f\"], [0.2222222222222222, \"#7201a8\"], [0.3333333333333333, \"#9c179e\"], [0.4444444444444444, \"#bd3786\"], [0.5555555555555556, \"#d8576b\"], [0.6666666666666666, \"#ed7953\"], [0.7777777777777778, \"#fb9f3a\"], [0.8888888888888888, \"#fdca26\"], [1.0, \"#f0f921\"]], \"type\": \"heatmapgl\"}], \"histogram\": [{\"marker\": {\"colorbar\": {\"outlinewidth\": 0, \"ticks\": \"\"}}, \"type\": \"histogram\"}], \"histogram2d\": [{\"colorbar\": {\"outlinewidth\": 0, \"ticks\": \"\"}, \"colorscale\": [[0.0, \"#0d0887\"], [0.1111111111111111, \"#46039f\"], [0.2222222222222222, \"#7201a8\"], [0.3333333333333333, \"#9c179e\"], [0.4444444444444444, \"#bd3786\"], [0.5555555555555556, \"#d8576b\"], [0.6666666666666666, \"#ed7953\"], [0.7777777777777778, \"#fb9f3a\"], [0.8888888888888888, \"#fdca26\"], [1.0, \"#f0f921\"]], \"type\": \"histogram2d\"}], \"histogram2dcontour\": [{\"colorbar\": {\"outlinewidth\": 0, \"ticks\": \"\"}, \"colorscale\": [[0.0, \"#0d0887\"], [0.1111111111111111, \"#46039f\"], [0.2222222222222222, \"#7201a8\"], [0.3333333333333333, \"#9c179e\"], [0.4444444444444444, \"#bd3786\"], [0.5555555555555556, \"#d8576b\"], [0.6666666666666666, \"#ed7953\"], [0.7777777777777778, \"#fb9f3a\"], [0.8888888888888888, \"#fdca26\"], [1.0, \"#f0f921\"]], \"type\": \"histogram2dcontour\"}], \"mesh3d\": [{\"colorbar\": {\"outlinewidth\": 0, \"ticks\": \"\"}, \"type\": \"mesh3d\"}], \"parcoords\": [{\"line\": {\"colorbar\": {\"outlinewidth\": 0, \"ticks\": \"\"}}, \"type\": \"parcoords\"}], \"pie\": [{\"automargin\": true, \"type\": \"pie\"}], \"scatter\": [{\"marker\": {\"colorbar\": {\"outlinewidth\": 0, \"ticks\": \"\"}}, \"type\": \"scatter\"}], \"scatter3d\": [{\"line\": {\"colorbar\": {\"outlinewidth\": 0, \"ticks\": \"\"}}, \"marker\": {\"colorbar\": {\"outlinewidth\": 0, \"ticks\": \"\"}}, \"type\": \"scatter3d\"}], \"scattercarpet\": [{\"marker\": {\"colorbar\": {\"outlinewidth\": 0, \"ticks\": \"\"}}, \"type\": \"scattercarpet\"}], \"scattergeo\": [{\"marker\": {\"colorbar\": {\"outlinewidth\": 0, \"ticks\": \"\"}}, \"type\": \"scattergeo\"}], \"scattergl\": [{\"marker\": {\"colorbar\": {\"outlinewidth\": 0, \"ticks\": \"\"}}, \"type\": \"scattergl\"}], \"scattermapbox\": [{\"marker\": {\"colorbar\": {\"outlinewidth\": 0, \"ticks\": \"\"}}, \"type\": \"scattermapbox\"}], \"scatterpolar\": [{\"marker\": {\"colorbar\": {\"outlinewidth\": 0, \"ticks\": \"\"}}, \"type\": \"scatterpolar\"}], \"scatterpolargl\": [{\"marker\": {\"colorbar\": {\"outlinewidth\": 0, \"ticks\": \"\"}}, \"type\": \"scatterpolargl\"}], \"scatterternary\": [{\"marker\": {\"colorbar\": {\"outlinewidth\": 0, \"ticks\": \"\"}}, \"type\": \"scatterternary\"}], \"surface\": [{\"colorbar\": {\"outlinewidth\": 0, \"ticks\": \"\"}, \"colorscale\": [[0.0, \"#0d0887\"], [0.1111111111111111, \"#46039f\"], [0.2222222222222222, \"#7201a8\"], [0.3333333333333333, \"#9c179e\"], [0.4444444444444444, \"#bd3786\"], [0.5555555555555556, \"#d8576b\"], [0.6666666666666666, \"#ed7953\"], [0.7777777777777778, \"#fb9f3a\"], [0.8888888888888888, \"#fdca26\"], [1.0, \"#f0f921\"]], \"type\": \"surface\"}], \"table\": [{\"cells\": {\"fill\": {\"color\": \"#EBF0F8\"}, \"line\": {\"color\": \"white\"}}, \"header\": {\"fill\": {\"color\": \"#C8D4E3\"}, \"line\": {\"color\": \"white\"}}, \"type\": \"table\"}]}, \"layout\": {\"annotationdefaults\": {\"arrowcolor\": \"#2a3f5f\", \"arrowhead\": 0, \"arrowwidth\": 1}, \"coloraxis\": {\"colorbar\": {\"outlinewidth\": 0, \"ticks\": \"\"}}, \"colorscale\": {\"diverging\": [[0, \"#8e0152\"], [0.1, \"#c51b7d\"], [0.2, \"#de77ae\"], [0.3, \"#f1b6da\"], [0.4, \"#fde0ef\"], [0.5, \"#f7f7f7\"], [0.6, \"#e6f5d0\"], [0.7, \"#b8e186\"], [0.8, \"#7fbc41\"], [0.9, \"#4d9221\"], [1, \"#276419\"]], \"sequential\": [[0.0, \"#0d0887\"], [0.1111111111111111, \"#46039f\"], [0.2222222222222222, \"#7201a8\"], [0.3333333333333333, \"#9c179e\"], [0.4444444444444444, \"#bd3786\"], [0.5555555555555556, \"#d8576b\"], [0.6666666666666666, \"#ed7953\"], [0.7777777777777778, \"#fb9f3a\"], [0.8888888888888888, \"#fdca26\"], [1.0, \"#f0f921\"]], \"sequentialminus\": [[0.0, \"#0d0887\"], [0.1111111111111111, \"#46039f\"], [0.2222222222222222, \"#7201a8\"], [0.3333333333333333, \"#9c179e\"], [0.4444444444444444, \"#bd3786\"], [0.5555555555555556, \"#d8576b\"], [0.6666666666666666, \"#ed7953\"], [0.7777777777777778, \"#fb9f3a\"], [0.8888888888888888, \"#fdca26\"], [1.0, \"#f0f921\"]]}, \"colorway\": [\"#636efa\", \"#EF553B\", \"#00cc96\", \"#ab63fa\", \"#FFA15A\", \"#19d3f3\", \"#FF6692\", \"#B6E880\", \"#FF97FF\", \"#FECB52\"], \"font\": {\"color\": \"#2a3f5f\"}, \"geo\": {\"bgcolor\": \"white\", \"lakecolor\": \"white\", \"landcolor\": \"#E5ECF6\", \"showlakes\": true, \"showland\": true, \"subunitcolor\": \"white\"}, \"hoverlabel\": {\"align\": \"left\"}, \"hovermode\": \"closest\", \"mapbox\": {\"style\": \"light\"}, \"paper_bgcolor\": \"white\", \"plot_bgcolor\": \"#E5ECF6\", \"polar\": {\"angularaxis\": {\"gridcolor\": \"white\", \"linecolor\": \"white\", \"ticks\": \"\"}, \"bgcolor\": \"#E5ECF6\", \"radialaxis\": {\"gridcolor\": \"white\", \"linecolor\": \"white\", \"ticks\": \"\"}}, \"scene\": {\"xaxis\": {\"backgroundcolor\": \"#E5ECF6\", \"gridcolor\": \"white\", \"gridwidth\": 2, \"linecolor\": \"white\", \"showbackground\": true, \"ticks\": \"\", \"zerolinecolor\": \"white\"}, \"yaxis\": {\"backgroundcolor\": \"#E5ECF6\", \"gridcolor\": \"white\", \"gridwidth\": 2, \"linecolor\": \"white\", \"showbackground\": true, \"ticks\": \"\", \"zerolinecolor\": \"white\"}, \"zaxis\": {\"backgroundcolor\": \"#E5ECF6\", \"gridcolor\": \"white\", \"gridwidth\": 2, \"linecolor\": \"white\", \"showbackground\": true, \"ticks\": \"\", \"zerolinecolor\": \"white\"}}, \"shapedefaults\": {\"line\": {\"color\": \"#2a3f5f\"}}, \"ternary\": {\"aaxis\": {\"gridcolor\": \"white\", \"linecolor\": \"white\", \"ticks\": \"\"}, \"baxis\": {\"gridcolor\": \"white\", \"linecolor\": \"white\", \"ticks\": \"\"}, \"bgcolor\": \"#E5ECF6\", \"caxis\": {\"gridcolor\": \"white\", \"linecolor\": \"white\", \"ticks\": \"\"}}, \"title\": {\"x\": 0.05}, \"xaxis\": {\"automargin\": true, \"gridcolor\": \"white\", \"linecolor\": \"white\", \"ticks\": \"\", \"title\": {\"standoff\": 15}, \"zerolinecolor\": \"white\", \"zerolinewidth\": 2}, \"yaxis\": {\"automargin\": true, \"gridcolor\": \"white\", \"linecolor\": \"white\", \"ticks\": \"\", \"title\": {\"standoff\": 15}, \"zerolinecolor\": \"white\", \"zerolinewidth\": 2}}}, \"title\": {\"text\": \"3d TSNE Plot for Outliers\"}, \"width\": 900},\n",
              "                        {\"responsive\": true}\n",
              "                    ).then(function(){\n",
              "                            \n",
              "var gd = document.getElementById('b83f1531-db5c-4327-b1cb-efb2b599a2df');\n",
              "var x = new MutationObserver(function (mutations, observer) {{\n",
              "        var display = window.getComputedStyle(gd).display;\n",
              "        if (!display || display === 'none') {{\n",
              "            console.log([gd, 'removed!']);\n",
              "            Plotly.purge(gd);\n",
              "            observer.disconnect();\n",
              "        }}\n",
              "}});\n",
              "\n",
              "// Listen for the removal of the full notebook cells\n",
              "var notebookContainer = gd.closest('#notebook-container');\n",
              "if (notebookContainer) {{\n",
              "    x.observe(notebookContainer, {childList: true});\n",
              "}}\n",
              "\n",
              "// Listen for the clearing of the current output cell\n",
              "var outputEl = gd.closest('.output');\n",
              "if (outputEl) {{\n",
              "    x.observe(outputEl, {childList: true});\n",
              "}}\n",
              "\n",
              "                        })\n",
              "                };\n",
              "                \n",
              "            </script>\n",
              "        </div>\n",
              "</body>\n",
              "</html>"
            ]
          },
          "metadata": {}
        }
      ]
    },
    {
      "cell_type": "code",
      "metadata": {
        "id": "2mTEvQzpe2qP"
      },
      "source": [
        ""
      ],
      "execution_count": null,
      "outputs": []
    },
    {
      "cell_type": "markdown",
      "metadata": {
        "id": "rWTrouaMmBxQ"
      },
      "source": [
        "Refrencses \n",
        "- https://www.analyticsvidhya.com/blog/2021/04/dealing-with-anomalies-in-the-data/\n",
        "- https://towardsdatascience.com/anomaly-detection-for-dummies-15f148e559c1\n",
        "- https://www.youtube.com/watch?v=RwmttGrJs08\n",
        "- https://www.geeksforgeeks.org/machine-learning-for-anomaly-detection/\n",
        "- https://www.analyticsvidhya.com/blog/2019/02/outlier-detection-python-pyod/\n",
        "- https://www.kdnuggets.com/2021/04/automated-anomaly-detection-pycaret.html\n",
        "- https://pycaret.org/anomaly-detection/\n",
        "```\n",
        "# This is formatted as code\n",
        "```\n",
        "\n"
      ]
    },
    {
      "cell_type": "code",
      "metadata": {
        "id": "TdNcTqLHe1lA"
      },
      "source": [
        ""
      ],
      "execution_count": null,
      "outputs": []
    }
  ]
}